{
  "nbformat": 4,
  "nbformat_minor": 0,
  "metadata": {
    "kernelspec": {
      "display_name": "Python 3",
      "language": "python",
      "name": "python3"
    },
    "language_info": {
      "codemirror_mode": {
        "name": "ipython",
        "version": 3
      },
      "file_extension": ".py",
      "mimetype": "text/x-python",
      "name": "python",
      "nbconvert_exporter": "python",
      "pygments_lexer": "ipython3",
      "version": "3.6.8"
    },
    "colab": {
      "name": "GermanDataset-ClusterBasedConsensusMethod.ipynb",
      "provenance": [],
      "collapsed_sections": [],
      "toc_visible": true,
      "include_colab_link": true
    }
  },
  "cells": [
    {
      "cell_type": "markdown",
      "metadata": {
        "id": "view-in-github",
        "colab_type": "text"
      },
      "source": [
        "<a href=\"https://colab.research.google.com/github/Delicheh/github-slideshow/blob/master/GermanDataset_ClusterBasedConsensusMethod.ipynb\" target=\"_parent\"><img src=\"https://colab.research.google.com/assets/colab-badge.svg\" alt=\"Open In Colab\"/></a>"
      ]
    },
    {
      "cell_type": "markdown",
      "metadata": {
        "id": "G_XQe9AifC1U",
        "colab_type": "text"
      },
      "source": [
        "# ClusterBased & Consensus Model Kohonen’s self-organizing maps (SOM)"
      ]
    },
    {
      "cell_type": "markdown",
      "metadata": {
        "id": "NSHY5sVkYSjr",
        "colab_type": "text"
      },
      "source": [
        "@misc{riese2019susicode, author = {Riese, Felix~M.}, title = {{SuSi: SUpervised Self-organIzing maps in Python}}, year = {2019}, DOI = {10.5281/zenodo.2609130}, publisher = {Zenodo}, howpublished = {\\href{https://doi.org/10.5281/zenodo.2609130}{doi.org/10.5281/zenodo.2609130}} }"
      ]
    },
    {
      "cell_type": "code",
      "metadata": {
        "id": "XhmMuDkXfKDz",
        "colab_type": "code",
        "outputId": "408851e4-c68b-45fc-c8cb-35a85160690a",
        "colab": {
          "base_uri": "https://localhost:8080/",
          "height": 124
        }
      },
      "source": [
        "pip install susi"
      ],
      "execution_count": 54,
      "outputs": [
        {
          "output_type": "stream",
          "text": [
            "Requirement already satisfied: susi in /usr/local/lib/python3.6/dist-packages (1.0.9)\n",
            "Requirement already satisfied: tqdm in /usr/local/lib/python3.6/dist-packages (from susi) (4.38.0)\n",
            "Requirement already satisfied: scipy in /usr/local/lib/python3.6/dist-packages (from susi) (1.4.1)\n",
            "Requirement already satisfied: scikit-learn in /usr/local/lib/python3.6/dist-packages (from susi) (0.22.2.post1)\n",
            "Requirement already satisfied: joblib in /usr/local/lib/python3.6/dist-packages (from susi) (0.14.1)\n",
            "Requirement already satisfied: numpy in /usr/local/lib/python3.6/dist-packages (from susi) (1.18.2)\n"
          ],
          "name": "stdout"
        }
      ]
    },
    {
      "cell_type": "code",
      "metadata": {
        "id": "LaGQhbajfC1V",
        "colab_type": "code",
        "colab": {}
      },
      "source": [
        "# Import Libraries\n",
        "\n",
        "from sklearn.preprocessing import normalize, minmax_scale, LabelEncoder\n",
        "from sklearn.ensemble import RandomForestClassifier\n",
        "from sklearn.model_selection import train_test_split, cross_val_score, GridSearchCV\n",
        "from sklearn.feature_selection import SelectFromModel \n",
        "from sklearn.metrics import accuracy_score, classification_report, confusion_matrix, roc_curve, roc_auc_score, matthews_corrcoef\n",
        "from sklearn.linear_model import LogisticRegression\n",
        "from sklearn.neural_network import MLPClassifier\n",
        "from sklearn.tree import DecisionTreeClassifier\n",
        "from sklearn.ensemble import GradientBoostingClassifier\n",
        "from sklearn.neighbors import KNeighborsClassifier\n",
        "from sklearn import svm\n",
        "from sklearn.utils import shuffle\n",
        "from sklearn.cluster import AgglomerativeClustering, KMeans\n",
        "import susi\n",
        "import s3fs\n",
        "import pandas as pd\n",
        "import numpy as np\n",
        "import seaborn as sb\n",
        "import matplotlib.pyplot as plt\n",
        "import warnings\n",
        "warnings.filterwarnings(action='ignore')"
      ],
      "execution_count": 0,
      "outputs": []
    },
    {
      "cell_type": "code",
      "metadata": {
        "id": "Bm0s-ia-fC1Z",
        "colab_type": "code",
        "outputId": "0cd95610-3e97-4582-b497-41a512e9c0f5",
        "colab": {
          "base_uri": "https://localhost:8080/",
          "height": 753
        }
      },
      "source": [
        "# Import the Dataset\n",
        "\n",
        "germanDataset = pd.read_csv ('s3://dissertationdataset/GermanDataset/GermanDataset.csv')\n",
        "germanDataset = germanDataset.astype('float64')\n",
        "print(germanDataset.shape)\n",
        "print(germanDataset.info())\n",
        "germanDataset.head()"
      ],
      "execution_count": 56,
      "outputs": [
        {
          "output_type": "stream",
          "text": [
            "(1000, 21)\n",
            "<class 'pandas.core.frame.DataFrame'>\n",
            "RangeIndex: 1000 entries, 0 to 999\n",
            "Data columns (total 21 columns):\n",
            " #   Column                   Non-Null Count  Dtype  \n",
            "---  ------                   --------------  -----  \n",
            " 0   salary                   1000 non-null   float64\n",
            " 1   duration                 1000 non-null   float64\n",
            " 2   creditHistory            1000 non-null   float64\n",
            " 3   purpose                  1000 non-null   float64\n",
            " 4   creditAmount             1000 non-null   float64\n",
            " 5   savingAccount/bonds      1000 non-null   float64\n",
            " 6   employmentSince          1000 non-null   float64\n",
            " 7   installmentRate          1000 non-null   float64\n",
            " 8   personalStatus           1000 non-null   float64\n",
            " 9   otherDebtors             1000 non-null   float64\n",
            " 10  presentResidenceSince    1000 non-null   float64\n",
            " 11  property                 1000 non-null   float64\n",
            " 12  age                      1000 non-null   float64\n",
            " 13  otherInstallmentPlan     1000 non-null   float64\n",
            " 14  housing                  1000 non-null   float64\n",
            " 15  numberOfExistingCredits  1000 non-null   float64\n",
            " 16  job                      1000 non-null   float64\n",
            " 17  maintenance              1000 non-null   float64\n",
            " 18  telephone                1000 non-null   float64\n",
            " 19  foreignWorker            1000 non-null   float64\n",
            " 20  creditStatus             1000 non-null   float64\n",
            "dtypes: float64(21)\n",
            "memory usage: 164.2 KB\n",
            "None\n"
          ],
          "name": "stdout"
        },
        {
          "output_type": "execute_result",
          "data": {
            "text/html": [
              "<div>\n",
              "<style scoped>\n",
              "    .dataframe tbody tr th:only-of-type {\n",
              "        vertical-align: middle;\n",
              "    }\n",
              "\n",
              "    .dataframe tbody tr th {\n",
              "        vertical-align: top;\n",
              "    }\n",
              "\n",
              "    .dataframe thead th {\n",
              "        text-align: right;\n",
              "    }\n",
              "</style>\n",
              "<table border=\"1\" class=\"dataframe\">\n",
              "  <thead>\n",
              "    <tr style=\"text-align: right;\">\n",
              "      <th></th>\n",
              "      <th>salary</th>\n",
              "      <th>duration</th>\n",
              "      <th>creditHistory</th>\n",
              "      <th>purpose</th>\n",
              "      <th>creditAmount</th>\n",
              "      <th>savingAccount/bonds</th>\n",
              "      <th>employmentSince</th>\n",
              "      <th>installmentRate</th>\n",
              "      <th>personalStatus</th>\n",
              "      <th>otherDebtors</th>\n",
              "      <th>presentResidenceSince</th>\n",
              "      <th>property</th>\n",
              "      <th>age</th>\n",
              "      <th>otherInstallmentPlan</th>\n",
              "      <th>housing</th>\n",
              "      <th>numberOfExistingCredits</th>\n",
              "      <th>job</th>\n",
              "      <th>maintenance</th>\n",
              "      <th>telephone</th>\n",
              "      <th>foreignWorker</th>\n",
              "      <th>creditStatus</th>\n",
              "    </tr>\n",
              "  </thead>\n",
              "  <tbody>\n",
              "    <tr>\n",
              "      <th>0</th>\n",
              "      <td>1.0</td>\n",
              "      <td>6.0</td>\n",
              "      <td>4.0</td>\n",
              "      <td>3.0</td>\n",
              "      <td>1169.0</td>\n",
              "      <td>5.0</td>\n",
              "      <td>5.0</td>\n",
              "      <td>4.0</td>\n",
              "      <td>3.0</td>\n",
              "      <td>1.0</td>\n",
              "      <td>4.0</td>\n",
              "      <td>1.0</td>\n",
              "      <td>67.0</td>\n",
              "      <td>3.0</td>\n",
              "      <td>2.0</td>\n",
              "      <td>2.0</td>\n",
              "      <td>3.0</td>\n",
              "      <td>1.0</td>\n",
              "      <td>2.0</td>\n",
              "      <td>1.0</td>\n",
              "      <td>1.0</td>\n",
              "    </tr>\n",
              "    <tr>\n",
              "      <th>1</th>\n",
              "      <td>2.0</td>\n",
              "      <td>48.0</td>\n",
              "      <td>2.0</td>\n",
              "      <td>3.0</td>\n",
              "      <td>5951.0</td>\n",
              "      <td>1.0</td>\n",
              "      <td>3.0</td>\n",
              "      <td>2.0</td>\n",
              "      <td>2.0</td>\n",
              "      <td>1.0</td>\n",
              "      <td>2.0</td>\n",
              "      <td>1.0</td>\n",
              "      <td>22.0</td>\n",
              "      <td>3.0</td>\n",
              "      <td>2.0</td>\n",
              "      <td>1.0</td>\n",
              "      <td>3.0</td>\n",
              "      <td>1.0</td>\n",
              "      <td>1.0</td>\n",
              "      <td>1.0</td>\n",
              "      <td>2.0</td>\n",
              "    </tr>\n",
              "    <tr>\n",
              "      <th>2</th>\n",
              "      <td>4.0</td>\n",
              "      <td>12.0</td>\n",
              "      <td>4.0</td>\n",
              "      <td>6.0</td>\n",
              "      <td>2096.0</td>\n",
              "      <td>1.0</td>\n",
              "      <td>4.0</td>\n",
              "      <td>2.0</td>\n",
              "      <td>3.0</td>\n",
              "      <td>1.0</td>\n",
              "      <td>3.0</td>\n",
              "      <td>1.0</td>\n",
              "      <td>49.0</td>\n",
              "      <td>3.0</td>\n",
              "      <td>2.0</td>\n",
              "      <td>1.0</td>\n",
              "      <td>2.0</td>\n",
              "      <td>2.0</td>\n",
              "      <td>1.0</td>\n",
              "      <td>1.0</td>\n",
              "      <td>1.0</td>\n",
              "    </tr>\n",
              "    <tr>\n",
              "      <th>3</th>\n",
              "      <td>1.0</td>\n",
              "      <td>42.0</td>\n",
              "      <td>2.0</td>\n",
              "      <td>2.0</td>\n",
              "      <td>7882.0</td>\n",
              "      <td>1.0</td>\n",
              "      <td>4.0</td>\n",
              "      <td>2.0</td>\n",
              "      <td>3.0</td>\n",
              "      <td>3.0</td>\n",
              "      <td>4.0</td>\n",
              "      <td>2.0</td>\n",
              "      <td>45.0</td>\n",
              "      <td>3.0</td>\n",
              "      <td>3.0</td>\n",
              "      <td>1.0</td>\n",
              "      <td>3.0</td>\n",
              "      <td>2.0</td>\n",
              "      <td>1.0</td>\n",
              "      <td>1.0</td>\n",
              "      <td>1.0</td>\n",
              "    </tr>\n",
              "    <tr>\n",
              "      <th>4</th>\n",
              "      <td>1.0</td>\n",
              "      <td>24.0</td>\n",
              "      <td>3.0</td>\n",
              "      <td>0.0</td>\n",
              "      <td>4870.0</td>\n",
              "      <td>1.0</td>\n",
              "      <td>3.0</td>\n",
              "      <td>3.0</td>\n",
              "      <td>3.0</td>\n",
              "      <td>1.0</td>\n",
              "      <td>4.0</td>\n",
              "      <td>4.0</td>\n",
              "      <td>53.0</td>\n",
              "      <td>3.0</td>\n",
              "      <td>3.0</td>\n",
              "      <td>2.0</td>\n",
              "      <td>3.0</td>\n",
              "      <td>2.0</td>\n",
              "      <td>1.0</td>\n",
              "      <td>1.0</td>\n",
              "      <td>2.0</td>\n",
              "    </tr>\n",
              "  </tbody>\n",
              "</table>\n",
              "</div>"
            ],
            "text/plain": [
              "   salary  duration  creditHistory  ...  telephone  foreignWorker  creditStatus\n",
              "0     1.0       6.0            4.0  ...        2.0            1.0           1.0\n",
              "1     2.0      48.0            2.0  ...        1.0            1.0           2.0\n",
              "2     4.0      12.0            4.0  ...        1.0            1.0           1.0\n",
              "3     1.0      42.0            2.0  ...        1.0            1.0           1.0\n",
              "4     1.0      24.0            3.0  ...        1.0            1.0           2.0\n",
              "\n",
              "[5 rows x 21 columns]"
            ]
          },
          "metadata": {
            "tags": []
          },
          "execution_count": 56
        }
      ]
    },
    {
      "cell_type": "code",
      "metadata": {
        "id": "CTbVwsHrfC1c",
        "colab_type": "code",
        "colab": {}
      },
      "source": [
        "# Encoding the Credit Status (Replace 2 with 0 (0 Bad , 1 Good))\n",
        "\n",
        "germanDataset['creditStatus'] = germanDataset['creditStatus'].replace(2, 0)"
      ],
      "execution_count": 0,
      "outputs": []
    },
    {
      "cell_type": "code",
      "metadata": {
        "id": "Q6QGeauOfC1f",
        "colab_type": "code",
        "outputId": "8ae56d30-0405-41b2-bfda-fc0934ca3b45",
        "colab": {
          "base_uri": "https://localhost:8080/",
          "height": 686
        }
      },
      "source": [
        "# Finding features with more than 95% missing \n",
        "\n",
        "# Define method for calcuating number of missing values\n",
        "def missing_values(dataframe):\n",
        "    missingValuesSum = dataframe.isnull().sum()\n",
        "    missingValuesPercentage = (missingValuesSum * 100) / dataframe.shape[0]\n",
        "    missingValuesTable = pd.concat([missingValuesSum, missingValuesPercentage], axis=1)\n",
        "    missingValuesTable = missingValuesTable.rename(columns = {0 : 'Number of Missing Values', 1 : '% of Total'})\n",
        "    return missingValuesTable\n",
        "\n",
        "missing_values(germanDataset)"
      ],
      "execution_count": 58,
      "outputs": [
        {
          "output_type": "execute_result",
          "data": {
            "text/html": [
              "<div>\n",
              "<style scoped>\n",
              "    .dataframe tbody tr th:only-of-type {\n",
              "        vertical-align: middle;\n",
              "    }\n",
              "\n",
              "    .dataframe tbody tr th {\n",
              "        vertical-align: top;\n",
              "    }\n",
              "\n",
              "    .dataframe thead th {\n",
              "        text-align: right;\n",
              "    }\n",
              "</style>\n",
              "<table border=\"1\" class=\"dataframe\">\n",
              "  <thead>\n",
              "    <tr style=\"text-align: right;\">\n",
              "      <th></th>\n",
              "      <th>Number of Missing Values</th>\n",
              "      <th>% of Total</th>\n",
              "    </tr>\n",
              "  </thead>\n",
              "  <tbody>\n",
              "    <tr>\n",
              "      <th>salary</th>\n",
              "      <td>0</td>\n",
              "      <td>0.0</td>\n",
              "    </tr>\n",
              "    <tr>\n",
              "      <th>duration</th>\n",
              "      <td>0</td>\n",
              "      <td>0.0</td>\n",
              "    </tr>\n",
              "    <tr>\n",
              "      <th>creditHistory</th>\n",
              "      <td>0</td>\n",
              "      <td>0.0</td>\n",
              "    </tr>\n",
              "    <tr>\n",
              "      <th>purpose</th>\n",
              "      <td>0</td>\n",
              "      <td>0.0</td>\n",
              "    </tr>\n",
              "    <tr>\n",
              "      <th>creditAmount</th>\n",
              "      <td>0</td>\n",
              "      <td>0.0</td>\n",
              "    </tr>\n",
              "    <tr>\n",
              "      <th>savingAccount/bonds</th>\n",
              "      <td>0</td>\n",
              "      <td>0.0</td>\n",
              "    </tr>\n",
              "    <tr>\n",
              "      <th>employmentSince</th>\n",
              "      <td>0</td>\n",
              "      <td>0.0</td>\n",
              "    </tr>\n",
              "    <tr>\n",
              "      <th>installmentRate</th>\n",
              "      <td>0</td>\n",
              "      <td>0.0</td>\n",
              "    </tr>\n",
              "    <tr>\n",
              "      <th>personalStatus</th>\n",
              "      <td>0</td>\n",
              "      <td>0.0</td>\n",
              "    </tr>\n",
              "    <tr>\n",
              "      <th>otherDebtors</th>\n",
              "      <td>0</td>\n",
              "      <td>0.0</td>\n",
              "    </tr>\n",
              "    <tr>\n",
              "      <th>presentResidenceSince</th>\n",
              "      <td>0</td>\n",
              "      <td>0.0</td>\n",
              "    </tr>\n",
              "    <tr>\n",
              "      <th>property</th>\n",
              "      <td>0</td>\n",
              "      <td>0.0</td>\n",
              "    </tr>\n",
              "    <tr>\n",
              "      <th>age</th>\n",
              "      <td>0</td>\n",
              "      <td>0.0</td>\n",
              "    </tr>\n",
              "    <tr>\n",
              "      <th>otherInstallmentPlan</th>\n",
              "      <td>0</td>\n",
              "      <td>0.0</td>\n",
              "    </tr>\n",
              "    <tr>\n",
              "      <th>housing</th>\n",
              "      <td>0</td>\n",
              "      <td>0.0</td>\n",
              "    </tr>\n",
              "    <tr>\n",
              "      <th>numberOfExistingCredits</th>\n",
              "      <td>0</td>\n",
              "      <td>0.0</td>\n",
              "    </tr>\n",
              "    <tr>\n",
              "      <th>job</th>\n",
              "      <td>0</td>\n",
              "      <td>0.0</td>\n",
              "    </tr>\n",
              "    <tr>\n",
              "      <th>maintenance</th>\n",
              "      <td>0</td>\n",
              "      <td>0.0</td>\n",
              "    </tr>\n",
              "    <tr>\n",
              "      <th>telephone</th>\n",
              "      <td>0</td>\n",
              "      <td>0.0</td>\n",
              "    </tr>\n",
              "    <tr>\n",
              "      <th>foreignWorker</th>\n",
              "      <td>0</td>\n",
              "      <td>0.0</td>\n",
              "    </tr>\n",
              "    <tr>\n",
              "      <th>creditStatus</th>\n",
              "      <td>0</td>\n",
              "      <td>0.0</td>\n",
              "    </tr>\n",
              "  </tbody>\n",
              "</table>\n",
              "</div>"
            ],
            "text/plain": [
              "                         Number of Missing Values  % of Total\n",
              "salary                                          0         0.0\n",
              "duration                                        0         0.0\n",
              "creditHistory                                   0         0.0\n",
              "purpose                                         0         0.0\n",
              "creditAmount                                    0         0.0\n",
              "savingAccount/bonds                             0         0.0\n",
              "employmentSince                                 0         0.0\n",
              "installmentRate                                 0         0.0\n",
              "personalStatus                                  0         0.0\n",
              "otherDebtors                                    0         0.0\n",
              "presentResidenceSince                           0         0.0\n",
              "property                                        0         0.0\n",
              "age                                             0         0.0\n",
              "otherInstallmentPlan                            0         0.0\n",
              "housing                                         0         0.0\n",
              "numberOfExistingCredits                         0         0.0\n",
              "job                                             0         0.0\n",
              "maintenance                                     0         0.0\n",
              "telephone                                       0         0.0\n",
              "foreignWorker                                   0         0.0\n",
              "creditStatus                                    0         0.0"
            ]
          },
          "metadata": {
            "tags": []
          },
          "execution_count": 58
        }
      ]
    },
    {
      "cell_type": "code",
      "metadata": {
        "id": "zy-sal_jfC1i",
        "colab_type": "code",
        "outputId": "b2abfcd2-0245-4825-f731-d775743d1e55",
        "colab": {
          "base_uri": "https://localhost:8080/",
          "height": 35
        }
      },
      "source": [
        "# Finding number of duplicated rows\n",
        "\n",
        "duplicate_rows = germanDataset[germanDataset.duplicated()]\n",
        "duplicate_rows.shape"
      ],
      "execution_count": 59,
      "outputs": [
        {
          "output_type": "execute_result",
          "data": {
            "text/plain": [
              "(0, 21)"
            ]
          },
          "metadata": {
            "tags": []
          },
          "execution_count": 59
        }
      ]
    },
    {
      "cell_type": "code",
      "metadata": {
        "id": "O0taf0i3fC1k",
        "colab_type": "code",
        "colab": {}
      },
      "source": [
        "# Modify the scale of duration, age and continuous Features\n",
        "\n",
        "continuousFeatures = ['duration', 'creditAmount', 'age', 'installmentRate', \n",
        "                      'presentResidenceSince', 'numberOfExistingCredits']\n",
        "x = germanDataset[continuousFeatures].values\n",
        "x_scaled = minmax_scale(x)\n",
        "dfTemp = pd.DataFrame(x_scaled, columns=continuousFeatures, index = germanDataset.index)\n",
        "germanDataset[continuousFeatures] = dfTemp"
      ],
      "execution_count": 0,
      "outputs": []
    },
    {
      "cell_type": "markdown",
      "metadata": {
        "id": "H_peljD2xNeR",
        "colab_type": "text"
      },
      "source": [
        "## k-means - clustering"
      ]
    },
    {
      "cell_type": "code",
      "metadata": {
        "id": "4lieSsJBfC1m",
        "colab_type": "code",
        "outputId": "958cc7c4-25e7-4e3b-cfa7-3940c535f205",
        "colab": {
          "base_uri": "https://localhost:8080/",
          "height": 70
        }
      },
      "source": [
        "#  Clustering\n",
        "\n",
        "clu = KMeans(n_clusters=5, random_state=42)\n",
        "clu.fit(germanDataset.iloc[:, :-1].values)"
      ],
      "execution_count": 61,
      "outputs": [
        {
          "output_type": "execute_result",
          "data": {
            "text/plain": [
              "KMeans(algorithm='auto', copy_x=True, init='k-means++', max_iter=300,\n",
              "       n_clusters=5, n_init=10, n_jobs=None, precompute_distances='auto',\n",
              "       random_state=42, tol=0.0001, verbose=0)"
            ]
          },
          "metadata": {
            "tags": []
          },
          "execution_count": 61
        }
      ]
    },
    {
      "cell_type": "code",
      "metadata": {
        "id": "NThpzYfGfC1p",
        "colab_type": "code",
        "colab": {}
      },
      "source": [
        "# Add cluster label as a feature\n",
        "\n",
        "labels = pd.Series(clu.labels_, index = germanDataset.index)\n",
        "germanDataset.insert(0,'clusterLabel',labels)"
      ],
      "execution_count": 0,
      "outputs": []
    },
    {
      "cell_type": "code",
      "metadata": {
        "id": "xldsvqdFymPV",
        "colab_type": "code",
        "colab": {
          "base_uri": "https://localhost:8080/",
          "height": 141
        },
        "outputId": "3996d914-1654-4716-a9d7-860500d26da6"
      },
      "source": [
        "ct = pd.crosstab (germanDataset['clusterLabel'], germanDataset['creditStatus'])\n",
        "print (ct)"
      ],
      "execution_count": 63,
      "outputs": [
        {
          "output_type": "stream",
          "text": [
            "creditStatus  0.0  1.0\n",
            "clusterLabel          \n",
            "0              31  165\n",
            "1              19  169\n",
            "2              61  106\n",
            "3              99  126\n",
            "4              90  134\n"
          ],
          "name": "stdout"
        }
      ]
    },
    {
      "cell_type": "code",
      "metadata": {
        "id": "5mpLVmrQyoMF",
        "colab_type": "code",
        "colab": {
          "base_uri": "https://localhost:8080/",
          "height": 434
        },
        "outputId": "426ada8f-770b-49c1-e540-d3d6c9224f46"
      },
      "source": [
        "pct = ct.div(ct.sum(1).astype('float'), axis=0)\n",
        "print (pct)\n",
        "\n",
        "pct.plot(kind = 'bar', stacked=True, title = 'Default rate per cluster')"
      ],
      "execution_count": 64,
      "outputs": [
        {
          "output_type": "stream",
          "text": [
            "creditStatus       0.0       1.0\n",
            "clusterLabel                    \n",
            "0             0.158163  0.841837\n",
            "1             0.101064  0.898936\n",
            "2             0.365269  0.634731\n",
            "3             0.440000  0.560000\n",
            "4             0.401786  0.598214\n"
          ],
          "name": "stdout"
        },
        {
          "output_type": "execute_result",
          "data": {
            "text/plain": [
              "<matplotlib.axes._subplots.AxesSubplot at 0x7f0b955bdcf8>"
            ]
          },
          "metadata": {
            "tags": []
          },
          "execution_count": 64
        },
        {
          "output_type": "display_data",
          "data": {
            "image/png": "[encoded data removed]",
            "text/plain": [
              "<Figure size 432x288 with 1 Axes>"
            ]
          },
          "metadata": {
            "tags": []
          }
        }
      ]
    },
    {
      "cell_type": "code",
      "metadata": {
        "id": "rcsgUbhOfC1s",
        "colab_type": "code",
        "outputId": "8b0af664-5ea9-4611-b7e3-f0b44b8c88fa",
        "colab": {
          "base_uri": "https://localhost:8080/",
          "height": 389
        }
      },
      "source": [
        "# Dataset description \n",
        "\n",
        "Desc_Dataset = germanDataset.describe()\n",
        "\n",
        "# Standard deviation metrics\n",
        "\n",
        "Desc_Dataset.loc['+3 std'] = Desc_Dataset.loc['mean'] + (Desc_Dataset.loc['std'] * 3)\n",
        "Desc_Dataset.loc['-3 std'] = Desc_Dataset.loc['mean'] - (Desc_Dataset.loc['std'] * 3)\n",
        "Desc_Dataset"
      ],
      "execution_count": 65,
      "outputs": [
        {
          "output_type": "execute_result",
          "data": {
            "text/html": [
              "<div>\n",
              "<style scoped>\n",
              "    .dataframe tbody tr th:only-of-type {\n",
              "        vertical-align: middle;\n",
              "    }\n",
              "\n",
              "    .dataframe tbody tr th {\n",
              "        vertical-align: top;\n",
              "    }\n",
              "\n",
              "    .dataframe thead th {\n",
              "        text-align: right;\n",
              "    }\n",
              "</style>\n",
              "<table border=\"1\" class=\"dataframe\">\n",
              "  <thead>\n",
              "    <tr style=\"text-align: right;\">\n",
              "      <th></th>\n",
              "      <th>clusterLabel</th>\n",
              "      <th>salary</th>\n",
              "      <th>duration</th>\n",
              "      <th>creditHistory</th>\n",
              "      <th>purpose</th>\n",
              "      <th>creditAmount</th>\n",
              "      <th>savingAccount/bonds</th>\n",
              "      <th>employmentSince</th>\n",
              "      <th>installmentRate</th>\n",
              "      <th>personalStatus</th>\n",
              "      <th>otherDebtors</th>\n",
              "      <th>presentResidenceSince</th>\n",
              "      <th>property</th>\n",
              "      <th>age</th>\n",
              "      <th>otherInstallmentPlan</th>\n",
              "      <th>housing</th>\n",
              "      <th>numberOfExistingCredits</th>\n",
              "      <th>job</th>\n",
              "      <th>maintenance</th>\n",
              "      <th>telephone</th>\n",
              "      <th>foreignWorker</th>\n",
              "      <th>creditStatus</th>\n",
              "    </tr>\n",
              "  </thead>\n",
              "  <tbody>\n",
              "    <tr>\n",
              "      <th>count</th>\n",
              "      <td>1000.000000</td>\n",
              "      <td>1000.000000</td>\n",
              "      <td>1000.000000</td>\n",
              "      <td>1000.000000</td>\n",
              "      <td>1000.000000</td>\n",
              "      <td>1000.000000</td>\n",
              "      <td>1000.000000</td>\n",
              "      <td>1000.000000</td>\n",
              "      <td>1000.000000</td>\n",
              "      <td>1000.00000</td>\n",
              "      <td>1000.000000</td>\n",
              "      <td>1000.000000</td>\n",
              "      <td>1000.000000</td>\n",
              "      <td>1000.000000</td>\n",
              "      <td>1000.000000</td>\n",
              "      <td>1000.000000</td>\n",
              "      <td>1000.000000</td>\n",
              "      <td>1000.000000</td>\n",
              "      <td>1000.000000</td>\n",
              "      <td>1000.000000</td>\n",
              "      <td>1000.000000</td>\n",
              "      <td>1000.000000</td>\n",
              "    </tr>\n",
              "    <tr>\n",
              "      <th>mean</th>\n",
              "      <td>2.093000</td>\n",
              "      <td>2.577000</td>\n",
              "      <td>0.248574</td>\n",
              "      <td>2.545000</td>\n",
              "      <td>2.828000</td>\n",
              "      <td>0.166241</td>\n",
              "      <td>2.105000</td>\n",
              "      <td>3.384000</td>\n",
              "      <td>0.657667</td>\n",
              "      <td>2.68200</td>\n",
              "      <td>1.145000</td>\n",
              "      <td>0.615000</td>\n",
              "      <td>2.358000</td>\n",
              "      <td>0.295464</td>\n",
              "      <td>2.675000</td>\n",
              "      <td>1.929000</td>\n",
              "      <td>0.135667</td>\n",
              "      <td>2.904000</td>\n",
              "      <td>1.155000</td>\n",
              "      <td>1.404000</td>\n",
              "      <td>1.037000</td>\n",
              "      <td>0.700000</td>\n",
              "    </tr>\n",
              "    <tr>\n",
              "      <th>std</th>\n",
              "      <td>1.444451</td>\n",
              "      <td>1.257638</td>\n",
              "      <td>0.177336</td>\n",
              "      <td>1.083120</td>\n",
              "      <td>2.744439</td>\n",
              "      <td>0.155317</td>\n",
              "      <td>1.580023</td>\n",
              "      <td>1.208306</td>\n",
              "      <td>0.372905</td>\n",
              "      <td>0.70808</td>\n",
              "      <td>0.477706</td>\n",
              "      <td>0.367906</td>\n",
              "      <td>1.050209</td>\n",
              "      <td>0.203133</td>\n",
              "      <td>0.705601</td>\n",
              "      <td>0.531264</td>\n",
              "      <td>0.192551</td>\n",
              "      <td>0.653614</td>\n",
              "      <td>0.362086</td>\n",
              "      <td>0.490943</td>\n",
              "      <td>0.188856</td>\n",
              "      <td>0.458487</td>\n",
              "    </tr>\n",
              "    <tr>\n",
              "      <th>min</th>\n",
              "      <td>0.000000</td>\n",
              "      <td>1.000000</td>\n",
              "      <td>0.000000</td>\n",
              "      <td>0.000000</td>\n",
              "      <td>0.000000</td>\n",
              "      <td>0.000000</td>\n",
              "      <td>1.000000</td>\n",
              "      <td>1.000000</td>\n",
              "      <td>0.000000</td>\n",
              "      <td>1.00000</td>\n",
              "      <td>1.000000</td>\n",
              "      <td>0.000000</td>\n",
              "      <td>1.000000</td>\n",
              "      <td>0.000000</td>\n",
              "      <td>1.000000</td>\n",
              "      <td>1.000000</td>\n",
              "      <td>0.000000</td>\n",
              "      <td>1.000000</td>\n",
              "      <td>1.000000</td>\n",
              "      <td>1.000000</td>\n",
              "      <td>1.000000</td>\n",
              "      <td>0.000000</td>\n",
              "    </tr>\n",
              "    <tr>\n",
              "      <th>25%</th>\n",
              "      <td>1.000000</td>\n",
              "      <td>1.000000</td>\n",
              "      <td>0.117647</td>\n",
              "      <td>2.000000</td>\n",
              "      <td>1.000000</td>\n",
              "      <td>0.061379</td>\n",
              "      <td>1.000000</td>\n",
              "      <td>3.000000</td>\n",
              "      <td>0.333333</td>\n",
              "      <td>2.00000</td>\n",
              "      <td>1.000000</td>\n",
              "      <td>0.333333</td>\n",
              "      <td>1.000000</td>\n",
              "      <td>0.142857</td>\n",
              "      <td>3.000000</td>\n",
              "      <td>2.000000</td>\n",
              "      <td>0.000000</td>\n",
              "      <td>3.000000</td>\n",
              "      <td>1.000000</td>\n",
              "      <td>1.000000</td>\n",
              "      <td>1.000000</td>\n",
              "      <td>0.000000</td>\n",
              "    </tr>\n",
              "    <tr>\n",
              "      <th>50%</th>\n",
              "      <td>2.000000</td>\n",
              "      <td>2.000000</td>\n",
              "      <td>0.205882</td>\n",
              "      <td>2.000000</td>\n",
              "      <td>2.000000</td>\n",
              "      <td>0.113871</td>\n",
              "      <td>1.000000</td>\n",
              "      <td>3.000000</td>\n",
              "      <td>0.666667</td>\n",
              "      <td>3.00000</td>\n",
              "      <td>1.000000</td>\n",
              "      <td>0.666667</td>\n",
              "      <td>2.000000</td>\n",
              "      <td>0.250000</td>\n",
              "      <td>3.000000</td>\n",
              "      <td>2.000000</td>\n",
              "      <td>0.000000</td>\n",
              "      <td>3.000000</td>\n",
              "      <td>1.000000</td>\n",
              "      <td>1.000000</td>\n",
              "      <td>1.000000</td>\n",
              "      <td>1.000000</td>\n",
              "    </tr>\n",
              "    <tr>\n",
              "      <th>75%</th>\n",
              "      <td>3.000000</td>\n",
              "      <td>4.000000</td>\n",
              "      <td>0.294118</td>\n",
              "      <td>4.000000</td>\n",
              "      <td>3.000000</td>\n",
              "      <td>0.204812</td>\n",
              "      <td>3.000000</td>\n",
              "      <td>5.000000</td>\n",
              "      <td>1.000000</td>\n",
              "      <td>3.00000</td>\n",
              "      <td>1.000000</td>\n",
              "      <td>1.000000</td>\n",
              "      <td>3.000000</td>\n",
              "      <td>0.410714</td>\n",
              "      <td>3.000000</td>\n",
              "      <td>2.000000</td>\n",
              "      <td>0.333333</td>\n",
              "      <td>3.000000</td>\n",
              "      <td>1.000000</td>\n",
              "      <td>2.000000</td>\n",
              "      <td>1.000000</td>\n",
              "      <td>1.000000</td>\n",
              "    </tr>\n",
              "    <tr>\n",
              "      <th>max</th>\n",
              "      <td>4.000000</td>\n",
              "      <td>4.000000</td>\n",
              "      <td>1.000000</td>\n",
              "      <td>4.000000</td>\n",
              "      <td>10.000000</td>\n",
              "      <td>1.000000</td>\n",
              "      <td>5.000000</td>\n",
              "      <td>5.000000</td>\n",
              "      <td>1.000000</td>\n",
              "      <td>4.00000</td>\n",
              "      <td>3.000000</td>\n",
              "      <td>1.000000</td>\n",
              "      <td>4.000000</td>\n",
              "      <td>1.000000</td>\n",
              "      <td>3.000000</td>\n",
              "      <td>3.000000</td>\n",
              "      <td>1.000000</td>\n",
              "      <td>4.000000</td>\n",
              "      <td>2.000000</td>\n",
              "      <td>2.000000</td>\n",
              "      <td>2.000000</td>\n",
              "      <td>1.000000</td>\n",
              "    </tr>\n",
              "    <tr>\n",
              "      <th>+3 std</th>\n",
              "      <td>6.426352</td>\n",
              "      <td>6.349913</td>\n",
              "      <td>0.780580</td>\n",
              "      <td>5.794359</td>\n",
              "      <td>11.061318</td>\n",
              "      <td>0.632193</td>\n",
              "      <td>6.845068</td>\n",
              "      <td>7.008919</td>\n",
              "      <td>1.776381</td>\n",
              "      <td>4.80624</td>\n",
              "      <td>2.578119</td>\n",
              "      <td>1.718718</td>\n",
              "      <td>5.508627</td>\n",
              "      <td>0.904864</td>\n",
              "      <td>4.791803</td>\n",
              "      <td>3.522791</td>\n",
              "      <td>0.713321</td>\n",
              "      <td>4.864842</td>\n",
              "      <td>2.241257</td>\n",
              "      <td>2.876829</td>\n",
              "      <td>1.603569</td>\n",
              "      <td>2.075461</td>\n",
              "    </tr>\n",
              "    <tr>\n",
              "      <th>-3 std</th>\n",
              "      <td>-2.240352</td>\n",
              "      <td>-1.195913</td>\n",
              "      <td>-0.283433</td>\n",
              "      <td>-0.704359</td>\n",
              "      <td>-5.405318</td>\n",
              "      <td>-0.299711</td>\n",
              "      <td>-2.635068</td>\n",
              "      <td>-0.240919</td>\n",
              "      <td>-0.461048</td>\n",
              "      <td>0.55776</td>\n",
              "      <td>-0.288119</td>\n",
              "      <td>-0.488718</td>\n",
              "      <td>-0.792627</td>\n",
              "      <td>-0.313936</td>\n",
              "      <td>0.558197</td>\n",
              "      <td>0.335209</td>\n",
              "      <td>-0.441988</td>\n",
              "      <td>0.943158</td>\n",
              "      <td>0.068743</td>\n",
              "      <td>-0.068829</td>\n",
              "      <td>0.470431</td>\n",
              "      <td>-0.675461</td>\n",
              "    </tr>\n",
              "  </tbody>\n",
              "</table>\n",
              "</div>"
            ],
            "text/plain": [
              "        clusterLabel       salary  ...  foreignWorker  creditStatus\n",
              "count    1000.000000  1000.000000  ...    1000.000000   1000.000000\n",
              "mean        2.093000     2.577000  ...       1.037000      0.700000\n",
              "std         1.444451     1.257638  ...       0.188856      0.458487\n",
              "min         0.000000     1.000000  ...       1.000000      0.000000\n",
              "25%         1.000000     1.000000  ...       1.000000      0.000000\n",
              "50%         2.000000     2.000000  ...       1.000000      1.000000\n",
              "75%         3.000000     4.000000  ...       1.000000      1.000000\n",
              "max         4.000000     4.000000  ...       2.000000      1.000000\n",
              "+3 std      6.426352     6.349913  ...       1.603569      2.075461\n",
              "-3 std     -2.240352    -1.195913  ...       0.470431     -0.675461\n",
              "\n",
              "[10 rows x 22 columns]"
            ]
          },
          "metadata": {
            "tags": []
          },
          "execution_count": 65
        }
      ]
    },
    {
      "cell_type": "code",
      "metadata": {
        "id": "v128LT-rfC1u",
        "colab_type": "code",
        "outputId": "5e7ce8ba-7b82-431f-e458-17a529f8dcc8",
        "colab": {
          "base_uri": "https://localhost:8080/",
          "height": 366
        }
      },
      "source": [
        "# Visualise (Target variable) Credit Status \n",
        "\n",
        "bad = germanDataset[germanDataset['creditStatus'] == 0]['creditStatus'].count()\n",
        "good = germanDataset[germanDataset['creditStatus'] == 1]['creditStatus'].count()\n",
        "data = {\"Counts\":[bad, good] }\n",
        "applicantStatus = pd.DataFrame(data, index=[\"Bad Applicant\", \"Good Applicant\"])\n",
        "applicantStatus.plot(kind='bar', title=\"Status of the Loan\")"
      ],
      "execution_count": 66,
      "outputs": [
        {
          "output_type": "execute_result",
          "data": {
            "text/plain": [
              "<matplotlib.axes._subplots.AxesSubplot at 0x7f0b95433278>"
            ]
          },
          "metadata": {
            "tags": []
          },
          "execution_count": 66
        },
        {
          "output_type": "display_data",
          "data": {
            "image/png": "[encoded data removed]",
            "text/plain": [
              "<Figure size 432x288 with 1 Axes>"
            ]
          },
          "metadata": {
            "tags": []
          }
        }
      ]
    },
    {
      "cell_type": "code",
      "metadata": {
        "id": "7I_EldOCfC1w",
        "colab_type": "code",
        "colab": {}
      },
      "source": [
        "# Shuffle rows of the dataframe\n",
        "\n",
        "germanDataset = shuffle(germanDataset, random_state=42)\n",
        "germanDataset.reset_index (drop=True , inplace=True)"
      ],
      "execution_count": 0,
      "outputs": []
    },
    {
      "cell_type": "code",
      "metadata": {
        "id": "q5UVxsuQfC11",
        "colab_type": "code",
        "outputId": "4223ec5e-5c54-4d13-93b7-fad9971dbd4f",
        "colab": {
          "base_uri": "https://localhost:8080/",
          "height": 52
        }
      },
      "source": [
        "# Split data into traning 70%  & test 30%\n",
        "\n",
        "dataset, testDataset = np.split(germanDataset, [int(.7 * len(germanDataset))])\n",
        "print(dataset.shape)\n",
        "print(testDataset.shape)"
      ],
      "execution_count": 68,
      "outputs": [
        {
          "output_type": "stream",
          "text": [
            "(700, 22)\n",
            "(300, 22)\n"
          ],
          "name": "stdout"
        }
      ]
    },
    {
      "cell_type": "code",
      "metadata": {
        "id": "IPAGsP20fC14",
        "colab_type": "code",
        "outputId": "672c3106-1d0d-4267-8809-5050c2d94a3e",
        "colab": {
          "base_uri": "https://localhost:8080/",
          "height": 35
        }
      },
      "source": [
        "# Number of high correlated features (correlation greater than 0.7)\n",
        "\n",
        "correlation = dataset.corr().abs()\n",
        "high = correlation.where(np.triu(np.ones(correlation.shape), k=1).astype(np.bool))\n",
        "highList = [column for column in high.columns if any(high[column] > 0.7)]\n",
        "print(\"Number of feature columns with correlation greater than 0.7 :\", len(highList))"
      ],
      "execution_count": 69,
      "outputs": [
        {
          "output_type": "stream",
          "text": [
            "Number of feature columns with correlation greater than 0.7 : 0\n"
          ],
          "name": "stdout"
        }
      ]
    },
    {
      "cell_type": "code",
      "metadata": {
        "id": "KR49OhYcfC16",
        "colab_type": "code",
        "outputId": "999d657d-1cb8-4667-e072-8506adf0eb95",
        "colab": {
          "base_uri": "https://localhost:8080/",
          "height": 141
        }
      },
      "source": [
        "# Features List\n",
        "\n",
        "featureList = dataset.columns[:-1]\n",
        "featureList"
      ],
      "execution_count": 70,
      "outputs": [
        {
          "output_type": "execute_result",
          "data": {
            "text/plain": [
              "Index(['clusterLabel', 'salary', 'duration', 'creditHistory', 'purpose',\n",
              "       'creditAmount', 'savingAccount/bonds', 'employmentSince',\n",
              "       'installmentRate', 'personalStatus', 'otherDebtors',\n",
              "       'presentResidenceSince', 'property', 'age', 'otherInstallmentPlan',\n",
              "       'housing', 'numberOfExistingCredits', 'job', 'maintenance ',\n",
              "       'telephone', 'foreignWorker'],\n",
              "      dtype='object')"
            ]
          },
          "metadata": {
            "tags": []
          },
          "execution_count": 70
        }
      ]
    },
    {
      "cell_type": "code",
      "metadata": {
        "id": "pACMMoJofC18",
        "colab_type": "code",
        "colab": {}
      },
      "source": [
        "#  Define Label and Features\n",
        "\n",
        "X = dataset.drop ('creditStatus' , axis=1)\n",
        "y = dataset['creditStatus']"
      ],
      "execution_count": 0,
      "outputs": []
    },
    {
      "cell_type": "code",
      "metadata": {
        "id": "4UpP-X9zfC1-",
        "colab_type": "code",
        "colab": {}
      },
      "source": [
        "# # Grid Search - Hyperparameter Tunning\n",
        "\n",
        "# param = {\"max_depth\": np.arange(5, 25), \"n_estimators\": [100, 200, 300, 400, 500], \"min_samples_leaf\": np.arange(3, 10)}\n",
        "\n",
        "# clf = RandomForestClassifier(random_state=42, n_jobs=-1)\n",
        "# clf_cv = GridSearchCV(clf, param, cv=5) \n",
        "# clf_cv.fit(X, y)\n",
        "# print(clf_cv.best_params_)\n",
        "# print(clf_cv.best_score_)\n",
        "\n",
        "# # {'max_depth': 12, 'min_samples_leaf': 5, 'n_estimators': 300}"
      ],
      "execution_count": 0,
      "outputs": []
    },
    {
      "cell_type": "code",
      "metadata": {
        "id": "xvdNIEUqfC2A",
        "colab_type": "code",
        "outputId": "b0b22f3c-5a58-4904-9928-80b4e5fad777",
        "colab": {
          "base_uri": "https://localhost:8080/",
          "height": 390
        }
      },
      "source": [
        "# Create a random forest classifier\n",
        "clf = RandomForestClassifier(n_estimators=300, random_state=42, max_depth=12, min_samples_leaf=5, n_jobs=-1)\n",
        "\n",
        "# Train the classifier\n",
        "clf.fit(X, y)\n",
        "\n",
        "# Print the name and gini importance of each feature\n",
        "for feature in zip(featureList , clf.feature_importances_):\n",
        "    print(feature)"
      ],
      "execution_count": 73,
      "outputs": [
        {
          "output_type": "stream",
          "text": [
            "('clusterLabel', 0.09987273942462618)\n",
            "('salary', 0.15323220416909855)\n",
            "('duration', 0.10590160870065526)\n",
            "('creditHistory', 0.057772348621793146)\n",
            "('purpose', 0.04353386805148011)\n",
            "('creditAmount', 0.12401312133577466)\n",
            "('savingAccount/bonds', 0.04619967737580227)\n",
            "('employmentSince', 0.04208671992177451)\n",
            "('installmentRate', 0.035030759215971666)\n",
            "('personalStatus', 0.03752283499320414)\n",
            "('otherDebtors', 0.009994330611920227)\n",
            "('presentResidenceSince', 0.030632445646447133)\n",
            "('property', 0.033310101423589686)\n",
            "('age', 0.0839392077525927)\n",
            "('otherInstallmentPlan', 0.028324449081765683)\n",
            "('housing', 0.017361671854375562)\n",
            "('numberOfExistingCredits', 0.011521660354744057)\n",
            "('job', 0.016116465552817698)\n",
            "('maintenance ', 0.00820504531959857)\n",
            "('telephone', 0.013305590830805404)\n",
            "('foreignWorker', 0.0021231497611628692)\n"
          ],
          "name": "stdout"
        }
      ]
    },
    {
      "cell_type": "markdown",
      "metadata": {
        "id": "D1xA6XmgfC2C",
        "colab_type": "text"
      },
      "source": [
        "## 1 - Logistic Regression"
      ]
    },
    {
      "cell_type": "code",
      "metadata": {
        "id": "hRv7AuO_fC2D",
        "colab_type": "code",
        "outputId": "fd83d259-768d-45f1-c056-c1b2b4024e7d",
        "colab": {
          "base_uri": "https://localhost:8080/",
          "height": 230
        }
      },
      "source": [
        "# Calcuate Feature Importance\n",
        "# Create a random forest classifier feature selection\n",
        "clf = RandomForestClassifier(n_estimators=100, random_state=42, max_depth=15, min_samples_leaf=3, n_jobs=-1)\n",
        "\n",
        "# Train the classifier\n",
        "clf.fit(X, y)\n",
        "\n",
        "# Create a selector object to identify features that have gini importance greater than # 0.04 (LR)\n",
        "sfmLR = SelectFromModel(clf, threshold = 0.04)\n",
        "\n",
        "# Train the selector\n",
        "sfmLR.fit(X, y)\n",
        "\n",
        "# Print the selected features\n",
        "numberOfSelectedFeatures = 0\n",
        "for featureListIndex in sfmLR.get_support(indices=True):\n",
        "    print(featureList[featureListIndex])\n",
        "    numberOfSelectedFeatures = numberOfSelectedFeatures + 1\n",
        "\n",
        "print('-'*100)\n",
        "print(\"Number of selected featurs: \", numberOfSelectedFeatures)\n",
        "\n",
        "# Define Label and Features for testDataset\n",
        "XX = testDataset.drop('creditStatus', axis=1)\n",
        "yy = testDataset['creditStatus']\n",
        "\n",
        "# Transform the data to create a new dataset containing only the selected features\n",
        "# Apply the transform to the training X and test X data.\n",
        "X_important_train = sfmLR.transform(X)\n",
        "XX_important = sfmLR.transform(XX)"
      ],
      "execution_count": 74,
      "outputs": [
        {
          "output_type": "stream",
          "text": [
            "clusterLabel\n",
            "salary\n",
            "duration\n",
            "creditHistory\n",
            "purpose\n",
            "creditAmount\n",
            "savingAccount/bonds\n",
            "employmentSince\n",
            "installmentRate\n",
            "age\n",
            "----------------------------------------------------------------------------------------------------\n",
            "Number of selected featurs:  10\n"
          ],
          "name": "stdout"
        }
      ]
    },
    {
      "cell_type": "code",
      "metadata": {
        "id": "eBM99ecrfC2F",
        "colab_type": "code",
        "outputId": "213e900d-ed0e-4898-8120-d4d61cbea7f0",
        "colab": {
          "base_uri": "https://localhost:8080/",
          "height": 724
        }
      },
      "source": [
        "# Create a new Logistic Regression classifier for the selected features\n",
        "LR_clf_important = LogisticRegression(random_state=42)\n",
        "\n",
        "# Train the new classifier on the new dataset containing the selected features\n",
        "LR_clf_important.fit(X_important_train, y)\n",
        "\n",
        "# Apply The Full Featured Classifier To The Test Data\n",
        "yy_pred = LR_clf_important.predict(XX_important)\n",
        "\n",
        "# View The Accuracy Of Selected Features\n",
        "print(\"Accuracy of Test set : \",accuracy_score(yy, yy_pred))\n",
        "print('-'*100)\n",
        "      \n",
        "#  Cross Validation Score\n",
        "cv_scores = cross_val_score(LR_clf_important, XX, yy, cv=5)\n",
        "print(\"Cross validation - Accuracy of Test set : \", np.mean(cv_scores))\n",
        "print('-'*100)\n",
        "      \n",
        "# Confusion Matrix\n",
        "cm = confusion_matrix(yy, yy_pred, [1, 0])\n",
        "print(\"Confusion Matrix:\")\n",
        "print(cm)\n",
        "print(\"Classification Report:\")\n",
        "print(classification_report(yy, yy_pred))\n",
        "print('-'*100)\n",
        "\n",
        "# Normalisation Confusion Matrix - Type I and II error\n",
        "cm = normalize(cm,norm='l1',axis=0)\n",
        "cm_df = pd.DataFrame(cm, columns=['Good (1)', 'Bad (0)'], index=['Good (1)', 'Bad (0)'])\n",
        "print(\"Normalized Confusion Matrix:\")\n",
        "print(cm_df)\n",
        "print('-'*100)\n",
        "      \n",
        "# The ROC Curve\n",
        "yy_pred_prob = LR_clf_important.predict_proba(XX_important)[:,1]\n",
        "fpr, tpr, thresholds = roc_curve(yy, yy_pred_prob)\n",
        "plt.plot([0, 1], [0, 1], 'k--')\n",
        "plt.plot(fpr,tpr)\n",
        "plt.xlabel('FPR')\n",
        "plt.ylabel('TPR')\n",
        "plt.show()\n",
        "      \n",
        "# AUC Area under the roc curve \n",
        "print(\"AUC of Test set : \",roc_auc_score(yy, yy_pred_prob))\n",
        "      \n",
        "# Matthews Correlation Coefficient\n",
        "print(\"MCC of Test set : \",matthews_corrcoef(yy, yy_pred))"
      ],
      "execution_count": 75,
      "outputs": [
        {
          "output_type": "stream",
          "text": [
            "Accuracy of Test set :  0.8066666666666666\n",
            "----------------------------------------------------------------------------------------------------\n",
            "Cross validation - Accuracy of Test set :  0.7666666666666667\n",
            "----------------------------------------------------------------------------------------------------\n",
            "Confusion Matrix:\n",
            "[[193  15]\n",
            " [ 43  49]]\n",
            "Classification Report:\n",
            "              precision    recall  f1-score   support\n",
            "\n",
            "         0.0       0.77      0.53      0.63        92\n",
            "         1.0       0.82      0.93      0.87       208\n",
            "\n",
            "    accuracy                           0.81       300\n",
            "   macro avg       0.79      0.73      0.75       300\n",
            "weighted avg       0.80      0.81      0.80       300\n",
            "\n",
            "----------------------------------------------------------------------------------------------------\n",
            "Normalized Confusion Matrix:\n",
            "          Good (1)   Bad (0)\n",
            "Good (1)  0.817797  0.234375\n",
            "Bad (0)   0.182203  0.765625\n",
            "----------------------------------------------------------------------------------------------------\n"
          ],
          "name": "stdout"
        },
        {
          "output_type": "display_data",
          "data": {
            "image/png": "[encoded data removed]",
            "text/plain": [
              "<Figure size 432x288 with 1 Axes>"
            ]
          },
          "metadata": {
            "tags": []
          }
        },
        {
          "output_type": "stream",
          "text": [
            "AUC of Test set :  0.8162102842809364\n",
            "MCC of Test set :  0.5183259100193276\n"
          ],
          "name": "stdout"
        }
      ]
    },
    {
      "cell_type": "code",
      "metadata": {
        "id": "pyphDjD3fC2G",
        "colab_type": "code",
        "colab": {}
      },
      "source": [
        "LRTest = LR_clf_important.predict(XX_important)\n",
        "LR = LR_clf_important.predict(X_important_train)"
      ],
      "execution_count": 0,
      "outputs": []
    },
    {
      "cell_type": "markdown",
      "metadata": {
        "id": "Mui9_9qUfC2I",
        "colab_type": "text"
      },
      "source": [
        "## 2 - ANN"
      ]
    },
    {
      "cell_type": "code",
      "metadata": {
        "id": "Fb6NhQi-fC2J",
        "colab_type": "code",
        "outputId": "75432e4a-a594-4570-bc87-32aa4c5b2726",
        "colab": {
          "base_uri": "https://localhost:8080/",
          "height": 284
        }
      },
      "source": [
        "# Calcuate Feature Importance\n",
        "# Create a random forest classifier feature selection\n",
        "clf = RandomForestClassifier(n_estimators=100, random_state=42, max_depth=15, min_samples_leaf=3, n_jobs=-1)\n",
        "\n",
        "# Train the classifier\n",
        "clf.fit(X, y)\n",
        "\n",
        "# Create a selector object to identify features that have gini importance greater than # 0.03 (ANN)\n",
        "sfmANN = SelectFromModel(clf, threshold = 0.03)\n",
        "\n",
        "# Train the selector\n",
        "sfmANN.fit(X, y)\n",
        "\n",
        "# Print the selected features\n",
        "numberOfSelectedFeatures = 0\n",
        "for featureListIndex in sfmANN.get_support(indices=True):\n",
        "    print(featureList[featureListIndex])\n",
        "    numberOfSelectedFeatures = numberOfSelectedFeatures + 1\n",
        "\n",
        "print('-'*100)\n",
        "print(\"Number of selected featurs: \", numberOfSelectedFeatures)\n",
        "\n",
        "# Define Label and Features for testDataset\n",
        "XX = testDataset.drop('creditStatus', axis=1)\n",
        "yy = testDataset['creditStatus']\n",
        "\n",
        "# Transform the data to create a new dataset containing only the selected features\n",
        "# Apply the transform to the training X and test X data.\n",
        "X_important_train = sfmANN.transform(X)\n",
        "XX_important = sfmANN.transform(XX)"
      ],
      "execution_count": 77,
      "outputs": [
        {
          "output_type": "stream",
          "text": [
            "clusterLabel\n",
            "salary\n",
            "duration\n",
            "creditHistory\n",
            "purpose\n",
            "creditAmount\n",
            "savingAccount/bonds\n",
            "employmentSince\n",
            "installmentRate\n",
            "personalStatus\n",
            "presentResidenceSince\n",
            "property\n",
            "age\n",
            "----------------------------------------------------------------------------------------------------\n",
            "Number of selected featurs:  13\n"
          ],
          "name": "stdout"
        }
      ]
    },
    {
      "cell_type": "code",
      "metadata": {
        "id": "cszLqw7ofC2L",
        "colab_type": "code",
        "colab": {}
      },
      "source": [
        "# # Grid Search - Hyperparameter Tunning\n",
        "\n",
        "# param = {'hidden_layer_sizes': np.arange(10,50) , \"alpha\": [0.001, 0.01, 0.1, 1]}\n",
        "\n",
        "# clf = MLPClassifier(random_state=42)\n",
        "# clf_cv = GridSearchCV(clf, param, cv=5) \n",
        "# clf_cv.fit(X_important_train, y)\n",
        "# print(clf_cv.best_params_)\n",
        "# print(clf_cv.best_score_)\n",
        "\n",
        "# # {'alpha': 0.1, 'hidden_layer_sizes': 37}"
      ],
      "execution_count": 0,
      "outputs": []
    },
    {
      "cell_type": "code",
      "metadata": {
        "id": "35ebB5EmfC2N",
        "colab_type": "code",
        "outputId": "14b3f793-02b4-49e6-8742-1f22aaf6e962",
        "colab": {
          "base_uri": "https://localhost:8080/",
          "height": 724
        }
      },
      "source": [
        "# Create a new MLP classifier for the selected features\n",
        "ANN_clf_important = MLPClassifier(alpha = 0.1, hidden_layer_sizes = (37) ,random_state = 42)\n",
        "\n",
        "# Train the new classifier on the new dataset containing the selected features\n",
        "ANN_clf_important.fit(X_important_train, y)\n",
        "\n",
        "# Apply The Full Featured Classifier To The Test Data\n",
        "yy_pred = ANN_clf_important.predict(XX_important)\n",
        "\n",
        "# View The Accuracy Of Selected Features\n",
        "print(\"Accuracy of Test set : \",accuracy_score(yy, yy_pred))\n",
        "print('-'*100)\n",
        "      \n",
        "#  Cross Validation Score\n",
        "cv_scores = cross_val_score(ANN_clf_important, XX, yy, cv=5)\n",
        "print(\"Cross validation - Accuracy of Test set : \", np.mean(cv_scores))\n",
        "print('-'*100)\n",
        "      \n",
        "# Confusion Matrix\n",
        "cm = confusion_matrix(yy, yy_pred, [1, 0])\n",
        "print(\"Confusion Matrix:\")\n",
        "print(cm)\n",
        "print(\"Classification Report:\")\n",
        "print(classification_report(yy, yy_pred))\n",
        "print('-'*100)\n",
        "\n",
        "# Normalisation Confusion Matrix - Type I and II error\n",
        "cm = normalize(cm,norm='l1',axis=0)\n",
        "cm_df = pd.DataFrame(cm, columns=['Good (1)', 'Bad (0)'], index=['Good (1)', 'Bad (0)'])\n",
        "print(\"Normalized Confusion Matrix:\")\n",
        "print(cm_df)\n",
        "print('-'*100)\n",
        "      \n",
        "# The ROC Curve\n",
        "yy_pred_prob = ANN_clf_important.predict_proba(XX_important)[:,1]\n",
        "fpr, tpr, thresholds = roc_curve(yy, yy_pred_prob)\n",
        "plt.plot([0, 1], [0, 1], 'k--')\n",
        "plt.plot(fpr,tpr)\n",
        "plt.xlabel('FPR')\n",
        "plt.ylabel('TPR')\n",
        "plt.show()\n",
        "      \n",
        "# AUC Area under the roc curve \n",
        "print(\"AUC of Test set : \",roc_auc_score(yy, yy_pred_prob))\n",
        "      \n",
        "# Matthews Correlation Coefficient\n",
        "print(\"MCC of Test set : \",matthews_corrcoef(yy, yy_pred))"
      ],
      "execution_count": 79,
      "outputs": [
        {
          "output_type": "stream",
          "text": [
            "Accuracy of Test set :  0.79\n",
            "----------------------------------------------------------------------------------------------------\n",
            "Cross validation - Accuracy of Test set :  0.8\n",
            "----------------------------------------------------------------------------------------------------\n",
            "Confusion Matrix:\n",
            "[[186  22]\n",
            " [ 41  51]]\n",
            "Classification Report:\n",
            "              precision    recall  f1-score   support\n",
            "\n",
            "         0.0       0.70      0.55      0.62        92\n",
            "         1.0       0.82      0.89      0.86       208\n",
            "\n",
            "    accuracy                           0.79       300\n",
            "   macro avg       0.76      0.72      0.74       300\n",
            "weighted avg       0.78      0.79      0.78       300\n",
            "\n",
            "----------------------------------------------------------------------------------------------------\n",
            "Normalized Confusion Matrix:\n",
            "          Good (1)  Bad (0)\n",
            "Good (1)  0.819383  0.30137\n",
            "Bad (0)   0.180617  0.69863\n",
            "----------------------------------------------------------------------------------------------------\n"
          ],
          "name": "stdout"
        },
        {
          "output_type": "display_data",
          "data": {
            "image/png": "[encoded data removed]",
            "text/plain": [
              "<Figure size 432x288 with 1 Axes>"
            ]
          },
          "metadata": {
            "tags": []
          }
        },
        {
          "output_type": "stream",
          "text": [
            "AUC of Test set :  0.8147470735785953\n",
            "MCC of Test set :  0.4820474270612345\n"
          ],
          "name": "stdout"
        }
      ]
    },
    {
      "cell_type": "code",
      "metadata": {
        "id": "0PawOhoWfC2P",
        "colab_type": "code",
        "colab": {}
      },
      "source": [
        "ANNTest = ANN_clf_important.predict(XX_important)\n",
        "ANN = ANN_clf_important.predict(X_important_train)"
      ],
      "execution_count": 0,
      "outputs": []
    },
    {
      "cell_type": "markdown",
      "metadata": {
        "id": "DKyOyRBrfC2R",
        "colab_type": "text"
      },
      "source": [
        "## 3 - Decision Trees"
      ]
    },
    {
      "cell_type": "code",
      "metadata": {
        "id": "N819e6G0fC2R",
        "colab_type": "code",
        "outputId": "c51ef1d7-8fa6-4d58-82c4-48d0b02faf95",
        "colab": {
          "base_uri": "https://localhost:8080/",
          "height": 159
        }
      },
      "source": [
        "# Calcuate Feature Importance\n",
        "# Create a random forest classifier feature selection\n",
        "clf = RandomForestClassifier(n_estimators=100, random_state=42, max_depth=15, min_samples_leaf=3, n_jobs=-1)\n",
        "\n",
        "# Train the classifier\n",
        "clf.fit(X, y)\n",
        "\n",
        "# Create a selector object to identify features that have gini importance greater than # 0.05 (DT)\n",
        "sfmDT = SelectFromModel(clf, threshold = 0.05)\n",
        "\n",
        "# Train the selector\n",
        "sfmDT.fit(X, y)\n",
        "\n",
        "# Print the selected features\n",
        "numberOfSelectedFeatures = 0\n",
        "for featureListIndex in sfmDT.get_support(indices=True):\n",
        "    print(featureList[featureListIndex])\n",
        "    numberOfSelectedFeatures = numberOfSelectedFeatures + 1\n",
        "\n",
        "print('-'*100)\n",
        "print(\"Number of selected featurs: \", numberOfSelectedFeatures)\n",
        "\n",
        "# Define Label and Features for testDataset\n",
        "XX = testDataset.drop('creditStatus', axis=1)\n",
        "yy = testDataset['creditStatus']\n",
        "\n",
        "# Transform the data to create a new dataset containing only the selected features\n",
        "# Apply the transform to the training X and test X data.\n",
        "X_important_train = sfmDT.transform(X)\n",
        "XX_important = sfmDT.transform(XX)"
      ],
      "execution_count": 81,
      "outputs": [
        {
          "output_type": "stream",
          "text": [
            "clusterLabel\n",
            "salary\n",
            "duration\n",
            "creditHistory\n",
            "creditAmount\n",
            "age\n",
            "----------------------------------------------------------------------------------------------------\n",
            "Number of selected featurs:  6\n"
          ],
          "name": "stdout"
        }
      ]
    },
    {
      "cell_type": "code",
      "metadata": {
        "id": "4PPtPpUMfC2U",
        "colab_type": "code",
        "colab": {}
      },
      "source": [
        "# # Grid Search - Hyperparameter Tunning\n",
        "\n",
        "# param = {'min_samples_split': np.arange (5, 20), 'max_depth': np.arange(5, 15)}\n",
        "\n",
        "# clf = DecisionTreeClassifier(random_state = 42)\n",
        "# clf_cv = GridSearchCV(clf, param, cv=5) \n",
        "# clf_cv.fit(X_important_train, y)\n",
        "# print(clf_cv.best_params_)\n",
        "# print(clf_cv.best_score_)\n",
        "\n",
        "# # {'max_depth': 5, 'min_samples_split': 5}"
      ],
      "execution_count": 0,
      "outputs": []
    },
    {
      "cell_type": "code",
      "metadata": {
        "id": "WfUFkET0fC2V",
        "colab_type": "code",
        "outputId": "b0d1d818-35a0-40f9-d1c4-703073026282",
        "colab": {
          "base_uri": "https://localhost:8080/",
          "height": 724
        }
      },
      "source": [
        "# Create a new decision tree classifier for the selected features\n",
        "DT_clf_important = DecisionTreeClassifier(min_samples_split = 5, random_state = 42, max_depth = 5)\n",
        "\n",
        "# Train the new classifier on the new dataset containing the selected features\n",
        "DT_clf_important.fit(X_important_train, y)\n",
        "\n",
        "# Apply The Full Featured Classifier To The Test Data\n",
        "yy_pred = DT_clf_important.predict(XX_important)\n",
        "\n",
        "# View The Accuracy Of Selected Features\n",
        "print(\"Accuracy of Test set : \",accuracy_score(yy, yy_pred))\n",
        "print('-'*100)\n",
        "      \n",
        "#  Cross Validation Score\n",
        "cv_scores = cross_val_score(DT_clf_important, XX, yy, cv=5)\n",
        "print(\"Cross validation - Accuracy of Test set : \", np.mean(cv_scores))\n",
        "print('-'*100)\n",
        "      \n",
        "# Confusion Matrix\n",
        "cm = confusion_matrix(yy, yy_pred, [1, 0])\n",
        "print(\"Confusion Matrix:\")\n",
        "print(cm)\n",
        "print(\"Classification Report:\")\n",
        "print(classification_report(yy, yy_pred))\n",
        "print('-'*100)\n",
        "\n",
        "# Normalisation Confusion Matrix - Type I and II error\n",
        "cm = normalize(cm,norm='l1',axis=0)\n",
        "cm_df = pd.DataFrame(cm, columns=['Good (1)', 'Bad (0)'], index=['Good (1)', 'Bad (0)'])\n",
        "print(\"Normalized Confusion Matrix:\")\n",
        "print(cm_df)\n",
        "print('-'*100)\n",
        "      \n",
        "# The ROC Curve\n",
        "yy_pred_prob = DT_clf_important.predict_proba(XX_important)[:,1]\n",
        "fpr, tpr, thresholds = roc_curve(yy, yy_pred_prob)\n",
        "plt.plot([0, 1], [0, 1], 'k--')\n",
        "plt.plot(fpr,tpr)\n",
        "plt.xlabel('FPR')\n",
        "plt.ylabel('TPR')\n",
        "plt.show()\n",
        "      \n",
        "# AUC Area under the roc curve \n",
        "print(\"AUC of Test set : \",roc_auc_score(yy, yy_pred_prob))\n",
        "      \n",
        "# Matthews Correlation Coefficient\n",
        "print(\"MCC of Test set : \",matthews_corrcoef(yy, yy_pred))"
      ],
      "execution_count": 83,
      "outputs": [
        {
          "output_type": "stream",
          "text": [
            "Accuracy of Test set :  0.7066666666666667\n",
            "----------------------------------------------------------------------------------------------------\n",
            "Cross validation - Accuracy of Test set :  0.7\n",
            "----------------------------------------------------------------------------------------------------\n",
            "Confusion Matrix:\n",
            "[[170  38]\n",
            " [ 50  42]]\n",
            "Classification Report:\n",
            "              precision    recall  f1-score   support\n",
            "\n",
            "         0.0       0.53      0.46      0.49        92\n",
            "         1.0       0.77      0.82      0.79       208\n",
            "\n",
            "    accuracy                           0.71       300\n",
            "   macro avg       0.65      0.64      0.64       300\n",
            "weighted avg       0.70      0.71      0.70       300\n",
            "\n",
            "----------------------------------------------------------------------------------------------------\n",
            "Normalized Confusion Matrix:\n",
            "          Good (1)  Bad (0)\n",
            "Good (1)  0.772727    0.475\n",
            "Bad (0)   0.227273    0.525\n",
            "----------------------------------------------------------------------------------------------------\n"
          ],
          "name": "stdout"
        },
        {
          "output_type": "display_data",
          "data": {
            "image/png": "[encoded data removed]",
            "text/plain": [
              "<Figure size 432x288 with 1 Axes>"
            ]
          },
          "metadata": {
            "tags": []
          }
        },
        {
          "output_type": "stream",
          "text": [
            "AUC of Test set :  0.7445652173913043\n",
            "MCC of Test set :  0.2855284395897076\n"
          ],
          "name": "stdout"
        }
      ]
    },
    {
      "cell_type": "code",
      "metadata": {
        "id": "ZKrYBNipfC2X",
        "colab_type": "code",
        "colab": {}
      },
      "source": [
        "DTTest = DT_clf_important.predict(XX_important)\n",
        "DT = DT_clf_important.predict(X_important_train)"
      ],
      "execution_count": 0,
      "outputs": []
    },
    {
      "cell_type": "markdown",
      "metadata": {
        "id": "lx5OjYy5fC2Z",
        "colab_type": "text"
      },
      "source": [
        "## 4 - Gradient Boosting Decision Trees "
      ]
    },
    {
      "cell_type": "code",
      "metadata": {
        "id": "jgEm1HGJfC2a",
        "colab_type": "code",
        "outputId": "b5cdadfd-0870-4c3c-83a9-7a0ff98d688a",
        "colab": {
          "base_uri": "https://localhost:8080/",
          "height": 408
        }
      },
      "source": [
        "# Calcuate Feature Importance\n",
        "# Create a random forest classifier feature selection\n",
        "clf = RandomForestClassifier(n_estimators=100, random_state=42, max_depth=15, min_samples_leaf=3, n_jobs=-1)\n",
        "\n",
        "# Train the classifier\n",
        "clf.fit(X, y)\n",
        "\n",
        "# Create a selector object to identify features that have gini importance greater than # 0.01 (GBDT)\n",
        "sfmGBDT = SelectFromModel(clf, threshold = 0.01)\n",
        "\n",
        "# Train the selector\n",
        "sfmGBDT.fit(X, y)\n",
        "\n",
        "# Print the selected features\n",
        "numberOfSelectedFeatures = 0\n",
        "for featureListIndex in sfmGBDT.get_support(indices=True):\n",
        "    print(featureList[featureListIndex])\n",
        "    numberOfSelectedFeatures = numberOfSelectedFeatures + 1\n",
        "\n",
        "print('-'*100)\n",
        "print(\"Number of selected featurs: \", numberOfSelectedFeatures)\n",
        "\n",
        "# Define Label and Features for testDataset\n",
        "XX = testDataset.drop('creditStatus', axis=1)\n",
        "yy = testDataset['creditStatus']\n",
        "\n",
        "# Transform the data to create a new dataset containing only the selected features\n",
        "# Apply the transform to the training X and test X data.\n",
        "X_important_train = sfmGBDT.transform(X)\n",
        "XX_important = sfmGBDT.transform(XX)"
      ],
      "execution_count": 85,
      "outputs": [
        {
          "output_type": "stream",
          "text": [
            "clusterLabel\n",
            "salary\n",
            "duration\n",
            "creditHistory\n",
            "purpose\n",
            "creditAmount\n",
            "savingAccount/bonds\n",
            "employmentSince\n",
            "installmentRate\n",
            "personalStatus\n",
            "otherDebtors\n",
            "presentResidenceSince\n",
            "property\n",
            "age\n",
            "otherInstallmentPlan\n",
            "housing\n",
            "numberOfExistingCredits\n",
            "job\n",
            "maintenance \n",
            "telephone\n",
            "----------------------------------------------------------------------------------------------------\n",
            "Number of selected featurs:  20\n"
          ],
          "name": "stdout"
        }
      ]
    },
    {
      "cell_type": "code",
      "metadata": {
        "id": "oTgnwUFRfC2c",
        "colab_type": "code",
        "colab": {}
      },
      "source": [
        "# # Grid Search - Hyperparameter Tunning\n",
        "\n",
        "# param = {\"max_depth\": np.arange(5, 25), \"n_estimators\": [100, 200, 300, 400, 500], \"learning_rate\": [0.001, 0.01, 0.1, 1]}\n",
        "\n",
        "# clf = GradientBoostingClassifier(random_state=42)\n",
        "# clf_cv = GridSearchCV(clf, param, cv=5) \n",
        "# clf_cv.fit(X_important_train, y)\n",
        "# print(clf_cv.best_params_)\n",
        "# print(clf_cv.best_score_)\n",
        "\n",
        "# # {'learning_rate': 0.1, 'max_depth': 5, 'n_estimators': 100}"
      ],
      "execution_count": 0,
      "outputs": []
    },
    {
      "cell_type": "code",
      "metadata": {
        "id": "tzFOIij0fC2e",
        "colab_type": "code",
        "outputId": "bd9aa378-1cdb-4972-9a8d-4283e97f81fc",
        "colab": {
          "base_uri": "https://localhost:8080/",
          "height": 724
        }
      },
      "source": [
        "# Create a new GBDT classifier for the selected features\n",
        "GBDT_clf_important = GradientBoostingClassifier(learning_rate=0.1, max_depth=5, n_estimators=100, random_state=42)\n",
        "\n",
        "# Train the new classifier on the new dataset containing the selected features\n",
        "GBDT_clf_important.fit(X_important_train, y)\n",
        "\n",
        "# Apply The Full Featured Classifier To The Test Data\n",
        "yy_pred = GBDT_clf_important.predict(XX_important)\n",
        "\n",
        "# View The Accuracy Of Selected Features\n",
        "print(\"Accuracy of Test set : \",accuracy_score(yy, yy_pred))\n",
        "print('-'*100)\n",
        "      \n",
        "#  Cross Validation Score\n",
        "cv_scores = cross_val_score(GBDT_clf_important, XX, yy, cv=5)\n",
        "print(\"Cross validation - Accuracy of Test set : \", np.mean(cv_scores))\n",
        "print('-'*100)\n",
        "      \n",
        "# Confusion Matrix\n",
        "cm = confusion_matrix(yy, yy_pred, [1, 0])\n",
        "print(\"Confusion Matrix:\")\n",
        "print(cm)\n",
        "print(\"Classification Report:\")\n",
        "print(classification_report(yy, yy_pred))\n",
        "print('-'*100)\n",
        "\n",
        "# Normalisation Confusion Matrix - Type I and II error\n",
        "cm = normalize(cm,norm='l1',axis=0)\n",
        "cm_df = pd.DataFrame(cm, columns=['Good (1)', 'Bad (0)'], index=['Good (1)', 'Bad (0)'])\n",
        "print(\"Normalized Confusion Matrix:\")\n",
        "print(cm_df)\n",
        "print('-'*100)\n",
        "      \n",
        "# The ROC Curve\n",
        "yy_pred_prob = GBDT_clf_important.predict_proba(XX_important)[:,1]\n",
        "fpr, tpr, thresholds = roc_curve(yy, yy_pred_prob)\n",
        "plt.plot([0, 1], [0, 1], 'k--')\n",
        "plt.plot(fpr,tpr)\n",
        "plt.xlabel('FPR')\n",
        "plt.ylabel('TPR')\n",
        "plt.show()\n",
        "      \n",
        "# AUC Area under the roc curve \n",
        "print(\"AUC of Test set : \",roc_auc_score(yy, yy_pred_prob))\n",
        "      \n",
        "# Matthews Correlation Coefficient\n",
        "print(\"MCC of Test set : \",matthews_corrcoef(yy, yy_pred))"
      ],
      "execution_count": 87,
      "outputs": [
        {
          "output_type": "stream",
          "text": [
            "Accuracy of Test set :  0.7633333333333333\n",
            "----------------------------------------------------------------------------------------------------\n",
            "Cross validation - Accuracy of Test set :  0.7666666666666667\n",
            "----------------------------------------------------------------------------------------------------\n",
            "Confusion Matrix:\n",
            "[[177  31]\n",
            " [ 40  52]]\n",
            "Classification Report:\n",
            "              precision    recall  f1-score   support\n",
            "\n",
            "         0.0       0.63      0.57      0.59        92\n",
            "         1.0       0.82      0.85      0.83       208\n",
            "\n",
            "    accuracy                           0.76       300\n",
            "   macro avg       0.72      0.71      0.71       300\n",
            "weighted avg       0.76      0.76      0.76       300\n",
            "\n",
            "----------------------------------------------------------------------------------------------------\n",
            "Normalized Confusion Matrix:\n",
            "          Good (1)   Bad (0)\n",
            "Good (1)  0.815668  0.373494\n",
            "Bad (0)   0.184332  0.626506\n",
            "----------------------------------------------------------------------------------------------------\n"
          ],
          "name": "stdout"
        },
        {
          "output_type": "display_data",
          "data": {
            "image/png": "[encoded data removed]",
            "text/plain": [
              "<Figure size 432x288 with 1 Axes>"
            ]
          },
          "metadata": {
            "tags": []
          }
        },
        {
          "output_type": "stream",
          "text": [
            "AUC of Test set :  0.7955685618729097\n",
            "MCC of Test set :  0.42897971572700266\n"
          ],
          "name": "stdout"
        }
      ]
    },
    {
      "cell_type": "code",
      "metadata": {
        "id": "4K7u8jJsfC2g",
        "colab_type": "code",
        "colab": {}
      },
      "source": [
        "GBDTTest = GBDT_clf_important.predict(XX_important)\n",
        "GBDT = GBDT_clf_important.predict(X_important_train)"
      ],
      "execution_count": 0,
      "outputs": []
    },
    {
      "cell_type": "markdown",
      "metadata": {
        "id": "WI5xWWVKfC2j",
        "colab_type": "text"
      },
      "source": [
        "## 5 - kNN"
      ]
    },
    {
      "cell_type": "code",
      "metadata": {
        "id": "6v2o8hd-fC2j",
        "colab_type": "code",
        "outputId": "7f0c42ad-d372-48d3-e697-b17d10fcbf51",
        "colab": {
          "base_uri": "https://localhost:8080/",
          "height": 195
        }
      },
      "source": [
        "# Calcuate Feature Importance\n",
        "# Create a random forest classifier feature selection\n",
        "clf = RandomForestClassifier(n_estimators=100, random_state=42, max_depth=15, min_samples_leaf=3, n_jobs=-1)\n",
        "\n",
        "# Train the classifier\n",
        "clf.fit(X, y)\n",
        "\n",
        "# Create a selector object to identify features that have gini importance greater than # 0.045 (kNN)\n",
        "sfmKNN = SelectFromModel(clf, threshold = 0.045)\n",
        "\n",
        "# Train the selector\n",
        "sfmKNN.fit(X, y)\n",
        "\n",
        "# Print the selected features\n",
        "numberOfSelectedFeatures = 0\n",
        "for featureListIndex in sfmKNN.get_support(indices=True):\n",
        "    print(featureList[featureListIndex])\n",
        "    numberOfSelectedFeatures = numberOfSelectedFeatures + 1\n",
        "\n",
        "print('-'*100)\n",
        "print(\"Number of selected featurs: \", numberOfSelectedFeatures)\n",
        "\n",
        "# Define Label and Features for testDataset\n",
        "XX = testDataset.drop('creditStatus', axis=1)\n",
        "yy = testDataset['creditStatus']\n",
        "\n",
        "# Transform the data to create a new dataset containing only the selected features\n",
        "# Apply the transform to the training X and test X data.\n",
        "X_important_train = sfmKNN.transform(X)\n",
        "XX_important = sfmKNN.transform(XX)"
      ],
      "execution_count": 89,
      "outputs": [
        {
          "output_type": "stream",
          "text": [
            "clusterLabel\n",
            "salary\n",
            "duration\n",
            "creditHistory\n",
            "purpose\n",
            "creditAmount\n",
            "employmentSince\n",
            "age\n",
            "----------------------------------------------------------------------------------------------------\n",
            "Number of selected featurs:  8\n"
          ],
          "name": "stdout"
        }
      ]
    },
    {
      "cell_type": "code",
      "metadata": {
        "id": "RDM923wZfC2l",
        "colab_type": "code",
        "colab": {}
      },
      "source": [
        "# # Grid Search - Hyperparameter Tunning\n",
        "\n",
        "# param = {'n_neighbors': np.arange(3, 10)}\n",
        "\n",
        "# clf = KNeighborsClassifier()\n",
        "# clf_cv = GridSearchCV(clf, param, cv=5) \n",
        "# clf_cv.fit(X_important_train, y)\n",
        "# print(clf_cv.best_params_)\n",
        "# print(clf_cv.best_score_)\n",
        "\n",
        "# # {'n_neighbors': 7}"
      ],
      "execution_count": 0,
      "outputs": []
    },
    {
      "cell_type": "code",
      "metadata": {
        "id": "2HT4PvvkfC2o",
        "colab_type": "code",
        "outputId": "cc1033d0-d77d-4e09-909a-2e9f21128ea5",
        "colab": {
          "base_uri": "https://localhost:8080/",
          "height": 724
        }
      },
      "source": [
        "# Create a new kNN classifier for the selected features\n",
        "KNN_clf_important = KNeighborsClassifier(n_neighbors=7)\n",
        "\n",
        "# Train the new classifier on the new dataset containing the selected features\n",
        "KNN_clf_important.fit(X_important_train, y)\n",
        "\n",
        "# Apply The Full Featured Classifier To The Test Data\n",
        "yy_pred = KNN_clf_important.predict(XX_important)\n",
        "\n",
        "# View The Accuracy Of Selected Features\n",
        "print(\"Accuracy of Test set : \",accuracy_score(yy, yy_pred))\n",
        "print('-'*100)\n",
        "      \n",
        "#  Cross Validation Score\n",
        "cv_scores = cross_val_score(KNN_clf_important, XX, yy, cv=5)\n",
        "print(\"Cross validation - Accuracy of Test set : \", np.mean(cv_scores))\n",
        "print('-'*100)\n",
        "      \n",
        "# Confusion Matrix\n",
        "cm = confusion_matrix(yy, yy_pred, [1, 0])\n",
        "print(\"Confusion Matrix:\")\n",
        "print(cm)\n",
        "print(\"Classification Report:\")\n",
        "print(classification_report(yy, yy_pred))\n",
        "print('-'*100)\n",
        "\n",
        "# Normalisation Confusion Matrix - Type I and II error\n",
        "cm = normalize(cm,norm='l1',axis=0)\n",
        "cm_df = pd.DataFrame(cm, columns=['Good (1)', 'Bad (0)'], index=['Good (1)', 'Bad (0)'])\n",
        "print(\"Normalized Confusion Matrix:\")\n",
        "print(cm_df)\n",
        "print('-'*100)\n",
        "      \n",
        "# The ROC Curve\n",
        "yy_pred_prob = KNN_clf_important.predict_proba(XX_important)[:,1]\n",
        "fpr, tpr, thresholds = roc_curve(yy, yy_pred_prob)\n",
        "plt.plot([0, 1], [0, 1], 'k--')\n",
        "plt.plot(fpr,tpr)\n",
        "plt.xlabel('FPR')\n",
        "plt.ylabel('TPR')\n",
        "plt.show()\n",
        "      \n",
        "# AUC Area under the roc curve \n",
        "print(\"AUC of Test set : \",roc_auc_score(yy, yy_pred_prob))\n",
        "      \n",
        "# Matthews Correlation Coefficient\n",
        "print(\"MCC of Test set : \",matthews_corrcoef(yy, yy_pred))"
      ],
      "execution_count": 91,
      "outputs": [
        {
          "output_type": "stream",
          "text": [
            "Accuracy of Test set :  0.74\n",
            "----------------------------------------------------------------------------------------------------\n",
            "Cross validation - Accuracy of Test set :  0.7366666666666666\n",
            "----------------------------------------------------------------------------------------------------\n",
            "Confusion Matrix:\n",
            "[[184  24]\n",
            " [ 54  38]]\n",
            "Classification Report:\n",
            "              precision    recall  f1-score   support\n",
            "\n",
            "         0.0       0.61      0.41      0.49        92\n",
            "         1.0       0.77      0.88      0.83       208\n",
            "\n",
            "    accuracy                           0.74       300\n",
            "   macro avg       0.69      0.65      0.66       300\n",
            "weighted avg       0.72      0.74      0.72       300\n",
            "\n",
            "----------------------------------------------------------------------------------------------------\n",
            "Normalized Confusion Matrix:\n",
            "          Good (1)   Bad (0)\n",
            "Good (1)  0.773109  0.387097\n",
            "Bad (0)   0.226891  0.612903\n",
            "----------------------------------------------------------------------------------------------------\n"
          ],
          "name": "stdout"
        },
        {
          "output_type": "display_data",
          "data": {
            "image/png": "[encoded data removed]",
            "text/plain": [
              "<Figure size 432x288 with 1 Axes>"
            ]
          },
          "metadata": {
            "tags": []
          }
        },
        {
          "output_type": "stream",
          "text": [
            "AUC of Test set :  0.752299331103679\n",
            "MCC of Test set :  0.33896907341023713\n"
          ],
          "name": "stdout"
        }
      ]
    },
    {
      "cell_type": "code",
      "metadata": {
        "id": "fuSvBf9DfC2q",
        "colab_type": "code",
        "colab": {}
      },
      "source": [
        "KNNTest = KNN_clf_important.predict(XX_important)\n",
        "KNN = KNN_clf_important.predict(X_important_train)"
      ],
      "execution_count": 0,
      "outputs": []
    },
    {
      "cell_type": "markdown",
      "metadata": {
        "id": "3uhAa5cEfC2s",
        "colab_type": "text"
      },
      "source": [
        "## 6 - Random Forest"
      ]
    },
    {
      "cell_type": "code",
      "metadata": {
        "id": "qtvOcFljfC2t",
        "colab_type": "code",
        "outputId": "bbd9bf43-cb95-491c-b6c3-0c20f34ef8e9",
        "colab": {
          "base_uri": "https://localhost:8080/",
          "height": 337
        }
      },
      "source": [
        "# Calcuate Feature Importance\n",
        "# Create a random forest classifier feature selection\n",
        "clf = RandomForestClassifier(n_estimators=100, random_state=42, max_depth=15, min_samples_leaf=3, n_jobs=-1)\n",
        "\n",
        "# Train the classifier\n",
        "clf.fit(X, y)\n",
        "\n",
        "# Create a selector object to identify features that have gini importance greater than # 0.02 (RF) \n",
        "sfmRF = SelectFromModel(clf, threshold = 0.02)\n",
        "\n",
        "# Train the selector\n",
        "sfmRF.fit(X, y)\n",
        "\n",
        "# Print the selected features\n",
        "numberOfSelectedFeatures = 0\n",
        "for featureListIndex in sfmRF.get_support(indices=True):\n",
        "    print(featureList[featureListIndex])\n",
        "    numberOfSelectedFeatures = numberOfSelectedFeatures + 1\n",
        "\n",
        "print('-'*100)\n",
        "print(\"Number of selected featurs: \", numberOfSelectedFeatures)\n",
        "\n",
        "# Define Label and Features for testDataset\n",
        "XX = testDataset.drop('creditStatus', axis=1)\n",
        "yy = testDataset['creditStatus']\n",
        "\n",
        "# Transform the data to create a new dataset containing only the selected features\n",
        "# Apply the transform to the training X and test X data.\n",
        "X_important_train = sfmRF.transform(X)\n",
        "XX_important = sfmRF.transform(XX)"
      ],
      "execution_count": 93,
      "outputs": [
        {
          "output_type": "stream",
          "text": [
            "clusterLabel\n",
            "salary\n",
            "duration\n",
            "creditHistory\n",
            "purpose\n",
            "creditAmount\n",
            "savingAccount/bonds\n",
            "employmentSince\n",
            "installmentRate\n",
            "personalStatus\n",
            "presentResidenceSince\n",
            "property\n",
            "age\n",
            "otherInstallmentPlan\n",
            "housing\n",
            "job\n",
            "----------------------------------------------------------------------------------------------------\n",
            "Number of selected featurs:  16\n"
          ],
          "name": "stdout"
        }
      ]
    },
    {
      "cell_type": "code",
      "metadata": {
        "id": "wgK85IwVfC2u",
        "colab_type": "code",
        "colab": {}
      },
      "source": [
        "# # Grid Search - Hyperparameter Tunning\n",
        "\n",
        "# param = {\"max_depth\": np.arange(5, 25), \"n_estimators\": [100, 200, 300, 400, 500], \"min_samples_leaf\": np.arange(3, 10)}\n",
        "\n",
        "# clf = RandomForestClassifier(random_state=42)\n",
        "# clf_cv = GridSearchCV(clf, param, cv=5) \n",
        "# clf_cv.fit(X_important_train, y)\n",
        "# print(clf_cv.best_params_)\n",
        "# print(clf_cv.best_score_)\n",
        "\n",
        "# # {'max_depth': 11, 'min_samples_leaf': 3, 'n_estimators': 300}"
      ],
      "execution_count": 0,
      "outputs": []
    },
    {
      "cell_type": "code",
      "metadata": {
        "id": "AeWhjSgxfC2y",
        "colab_type": "code",
        "outputId": "334766f4-6afe-481b-e7f8-80c199b541f7",
        "colab": {
          "base_uri": "https://localhost:8080/",
          "height": 724
        }
      },
      "source": [
        "# Create a new random forest classifier for the selected features\n",
        "RF_clf_important = RandomForestClassifier(n_estimators=300, random_state=42, max_depth=11, min_samples_leaf=3, n_jobs=-1)\n",
        "\n",
        "# Train the new classifier on the new dataset containing the selected features\n",
        "RF_clf_important.fit(X_important_train, y)\n",
        "\n",
        "# Apply The Full Featured Classifier To The Test Data\n",
        "yy_pred = RF_clf_important.predict(XX_important)\n",
        "\n",
        "# View The Accuracy Of Selected Features\n",
        "print(\"Accuracy of Test set : \",accuracy_score(yy, yy_pred))\n",
        "print('-'*100)\n",
        "      \n",
        "#  Cross Validation Score\n",
        "cv_scores = cross_val_score(RF_clf_important, XX, yy, cv=5)\n",
        "print(\"Cross validation - Accuracy of Test set : \", np.mean(cv_scores))\n",
        "print('-'*100)\n",
        "      \n",
        "# Confusion Matrix\n",
        "cm = confusion_matrix(yy, yy_pred, [1, 0])\n",
        "print(\"Confusion Matrix:\")\n",
        "print(cm)\n",
        "print(\"Classification Report:\")\n",
        "print(classification_report(yy, yy_pred))\n",
        "print('-'*100)\n",
        "\n",
        "# Normalisation Confusion Matrix - Type I and II error\n",
        "cm = normalize(cm,norm='l1',axis=0)\n",
        "cm_df = pd.DataFrame(cm, columns=['Good (1)', 'Bad (0)'], index=['Good (1)', 'Bad (0)'])\n",
        "print(\"Normalized Confusion Matrix:\")\n",
        "print(cm_df)\n",
        "print('-'*100)\n",
        "      \n",
        "# The ROC Curve\n",
        "yy_pred_prob = RF_clf_important.predict_proba(XX_important)[:,1]\n",
        "fpr, tpr, thresholds = roc_curve(yy, yy_pred_prob)\n",
        "plt.plot([0, 1], [0, 1], 'k--')\n",
        "plt.plot(fpr,tpr)\n",
        "plt.xlabel('FPR')\n",
        "plt.ylabel('TPR')\n",
        "plt.show()\n",
        "      \n",
        "# AUC Area under the roc curve \n",
        "print(\"AUC of Test set : \",roc_auc_score(yy, yy_pred_prob))\n",
        "      \n",
        "# Matthews Correlation Coefficient\n",
        "print(\"MCC of Test set : \",matthews_corrcoef(yy, yy_pred))"
      ],
      "execution_count": 95,
      "outputs": [
        {
          "output_type": "stream",
          "text": [
            "Accuracy of Test set :  0.7966666666666666\n",
            "----------------------------------------------------------------------------------------------------\n",
            "Cross validation - Accuracy of Test set :  0.7833333333333334\n",
            "----------------------------------------------------------------------------------------------------\n",
            "Confusion Matrix:\n",
            "[[193  15]\n",
            " [ 46  46]]\n",
            "Classification Report:\n",
            "              precision    recall  f1-score   support\n",
            "\n",
            "         0.0       0.75      0.50      0.60        92\n",
            "         1.0       0.81      0.93      0.86       208\n",
            "\n",
            "    accuracy                           0.80       300\n",
            "   macro avg       0.78      0.71      0.73       300\n",
            "weighted avg       0.79      0.80      0.78       300\n",
            "\n",
            "----------------------------------------------------------------------------------------------------\n",
            "Normalized Confusion Matrix:\n",
            "          Good (1)   Bad (0)\n",
            "Good (1)  0.807531  0.245902\n",
            "Bad (0)   0.192469  0.754098\n",
            "----------------------------------------------------------------------------------------------------\n"
          ],
          "name": "stdout"
        },
        {
          "output_type": "display_data",
          "data": {
            "image/png": "[encoded data removed]",
            "text/plain": [
              "<Figure size 432x288 with 1 Axes>"
            ]
          },
          "metadata": {
            "tags": []
          }
        },
        {
          "output_type": "stream",
          "text": [
            "AUC of Test set :  0.8308946488294315\n",
            "MCC of Test set :  0.49021701917752486\n"
          ],
          "name": "stdout"
        }
      ]
    },
    {
      "cell_type": "code",
      "metadata": {
        "id": "kPShuVUvfC21",
        "colab_type": "code",
        "colab": {}
      },
      "source": [
        "RFTest = RF_clf_important.predict(XX_important)\n",
        "RF = RF_clf_important.predict(X_important_train)"
      ],
      "execution_count": 0,
      "outputs": []
    },
    {
      "cell_type": "markdown",
      "metadata": {
        "id": "4s75x62efC23",
        "colab_type": "text"
      },
      "source": [
        "## 7 - SVM"
      ]
    },
    {
      "cell_type": "code",
      "metadata": {
        "id": "5UinqCnsfC24",
        "colab_type": "code",
        "outputId": "a5266ff4-d761-405a-f9cb-47f2d8116935",
        "colab": {
          "base_uri": "https://localhost:8080/",
          "height": 408
        }
      },
      "source": [
        "# Calcuate Feature Importance\n",
        "# Create a random forest classifier feature selection\n",
        "clf = RandomForestClassifier(n_estimators=100, random_state=42, max_depth=15, min_samples_leaf=3, n_jobs=-1)\n",
        "\n",
        "# Train the classifier\n",
        "clf.fit(X, y)\n",
        "\n",
        "# Create a selector object to identify features that have gini importance greater than # 0.01 (SVM)\n",
        "sfmSVM = SelectFromModel(clf, threshold = 0.01)\n",
        "\n",
        "# Train the selector\n",
        "sfmSVM.fit(X, y)\n",
        "\n",
        "# Print the selected features\n",
        "numberOfSelectedFeatures = 0\n",
        "for featureListIndex in sfmSVM.get_support(indices=True):\n",
        "    print(featureList[featureListIndex])\n",
        "    numberOfSelectedFeatures = numberOfSelectedFeatures + 1\n",
        "\n",
        "print('-'*100)\n",
        "print(\"Number of selected featurs: \", numberOfSelectedFeatures)\n",
        "\n",
        "# Define Label and Features for testDataset\n",
        "XX = testDataset.drop('creditStatus', axis=1)\n",
        "yy = testDataset['creditStatus']\n",
        "\n",
        "# Transform the data to create a new dataset containing only the selected features\n",
        "# Apply the transform to the training X and test X data.\n",
        "X_important_train = sfmSVM.transform(X)\n",
        "XX_important = sfmSVM.transform(XX)"
      ],
      "execution_count": 97,
      "outputs": [
        {
          "output_type": "stream",
          "text": [
            "clusterLabel\n",
            "salary\n",
            "duration\n",
            "creditHistory\n",
            "purpose\n",
            "creditAmount\n",
            "savingAccount/bonds\n",
            "employmentSince\n",
            "installmentRate\n",
            "personalStatus\n",
            "otherDebtors\n",
            "presentResidenceSince\n",
            "property\n",
            "age\n",
            "otherInstallmentPlan\n",
            "housing\n",
            "numberOfExistingCredits\n",
            "job\n",
            "maintenance \n",
            "telephone\n",
            "----------------------------------------------------------------------------------------------------\n",
            "Number of selected featurs:  20\n"
          ],
          "name": "stdout"
        }
      ]
    },
    {
      "cell_type": "code",
      "metadata": {
        "id": "ABjxtD-nfC27",
        "colab_type": "code",
        "colab": {}
      },
      "source": [
        "# # Grid Search - Hyperparameter Tunning\n",
        "\n",
        "# param = {'C' : [0.001, 0.01, 0.1, 1, 10], 'gamma' : [0.001, 0.01, 0.1, 1, 10]}\n",
        "\n",
        "# clf = svm.SVC(random_state=42)\n",
        "# clf_cv = GridSearchCV(clf, param, cv=5) \n",
        "# clf_cv.fit(X_important_train, y)\n",
        "# print(clf_cv.best_params_)\n",
        "# print(clf_cv.best_score_)\n",
        "\n",
        "# # {'C': 1, 'gamma': 0.1}"
      ],
      "execution_count": 0,
      "outputs": []
    },
    {
      "cell_type": "code",
      "metadata": {
        "id": "ySwS4ybtfC29",
        "colab_type": "code",
        "outputId": "8a3aca58-96b3-485a-90d0-5b3406a1adb3",
        "colab": {
          "base_uri": "https://localhost:8080/",
          "height": 724
        }
      },
      "source": [
        "# Create a new SVM classifier for the selected features\n",
        "SVM_clf_important = svm.SVC(probability=True, C = 1, gamma= 0.1, kernel='rbf', random_state=42)\n",
        "\n",
        "# Train the new classifier on the new dataset containing the selected features\n",
        "SVM_clf_important.fit(X_important_train, y)\n",
        "\n",
        "# Apply The Full Featured Classifier To The Test Data\n",
        "yy_pred = SVM_clf_important.predict(XX_important)\n",
        "\n",
        "# View The Accuracy Of Selected Features\n",
        "print(\"Accuracy of Test set : \",accuracy_score(yy, yy_pred))\n",
        "print('-'*100)\n",
        "      \n",
        "#  Cross Validation Score\n",
        "cv_scores = cross_val_score(SVM_clf_important, XX, yy, cv=5)\n",
        "print(\"Cross validation - Accuracy of Test set : \", np.mean(cv_scores))\n",
        "print('-'*100)\n",
        "      \n",
        "# Confusion Matrix\n",
        "cm = confusion_matrix(yy, yy_pred, [1, 0])\n",
        "print(\"Confusion Matrix:\")\n",
        "print(cm)\n",
        "print(\"Classification Report:\")\n",
        "print(classification_report(yy, yy_pred))\n",
        "print('-'*100)\n",
        "\n",
        "# Normalisation Confusion Matrix - Type I and II error\n",
        "cm = normalize(cm,norm='l1',axis=0)\n",
        "cm_df = pd.DataFrame(cm, columns=['Good (1)', 'Bad (0)'], index=['Good (1)', 'Bad (0)'])\n",
        "print(\"Normalized Confusion Matrix:\")\n",
        "print(cm_df)\n",
        "print('-'*100)\n",
        "      \n",
        "# The ROC Curve\n",
        "yy_pred_prob = SVM_clf_important.predict_proba(XX_important)[:,1]\n",
        "fpr, tpr, thresholds = roc_curve(yy, yy_pred_prob)\n",
        "plt.plot([0, 1], [0, 1], 'k--')\n",
        "plt.plot(fpr,tpr)\n",
        "plt.xlabel('FPR')\n",
        "plt.ylabel('TPR')\n",
        "plt.show()\n",
        "      \n",
        "# AUC Area under the roc curve \n",
        "print(\"AUC of Test set : \",roc_auc_score(yy, yy_pred_prob))\n",
        "      \n",
        "# Matthews Correlation Coefficient\n",
        "print(\"MCC of Test set : \",matthews_corrcoef(yy, yy_pred))"
      ],
      "execution_count": 99,
      "outputs": [
        {
          "output_type": "stream",
          "text": [
            "Accuracy of Test set :  0.7666666666666667\n",
            "----------------------------------------------------------------------------------------------------\n",
            "Cross validation - Accuracy of Test set :  0.7866666666666667\n",
            "----------------------------------------------------------------------------------------------------\n",
            "Confusion Matrix:\n",
            "[[191  17]\n",
            " [ 53  39]]\n",
            "Classification Report:\n",
            "              precision    recall  f1-score   support\n",
            "\n",
            "         0.0       0.70      0.42      0.53        92\n",
            "         1.0       0.78      0.92      0.85       208\n",
            "\n",
            "    accuracy                           0.77       300\n",
            "   macro avg       0.74      0.67      0.69       300\n",
            "weighted avg       0.76      0.77      0.75       300\n",
            "\n",
            "----------------------------------------------------------------------------------------------------\n",
            "Normalized Confusion Matrix:\n",
            "          Good (1)   Bad (0)\n",
            "Good (1)  0.782787  0.303571\n",
            "Bad (0)   0.217213  0.696429\n",
            "----------------------------------------------------------------------------------------------------\n"
          ],
          "name": "stdout"
        },
        {
          "output_type": "display_data",
          "data": {
            "image/png": "[encoded data removed]",
            "text/plain": [
              "<Figure size 432x288 with 1 Axes>"
            ]
          },
          "metadata": {
            "tags": []
          }
        },
        {
          "output_type": "stream",
          "text": [
            "AUC of Test set :  0.7745871655518395\n",
            "MCC of Test set :  0.40494324888732436\n"
          ],
          "name": "stdout"
        }
      ]
    },
    {
      "cell_type": "code",
      "metadata": {
        "id": "zG5g_utofC3A",
        "colab_type": "code",
        "colab": {}
      },
      "source": [
        "SVMTest = SVM_clf_important.predict(XX_important)\n",
        "SVM = SVM_clf_important.predict(X_important_train)"
      ],
      "execution_count": 0,
      "outputs": []
    },
    {
      "cell_type": "markdown",
      "metadata": {
        "id": "jErybSYMfC3D",
        "colab_type": "text"
      },
      "source": [
        "## Consensus Model Kohonen’s self-organizing maps (SOM)"
      ]
    },
    {
      "cell_type": "code",
      "metadata": {
        "id": "aAsug9wufC3D",
        "colab_type": "code",
        "colab": {}
      },
      "source": [
        "# Individual models outcomes (Create training dataset based on result of models)\n",
        "\n",
        "somDataset = pd.DataFrame ({\"LR\": LR, \"ANN\": ANN, \"DT\": DT, \"GBDT\": GBDT, \"KNN\": KNN, \"RF\": RF, \"SVM\":SVM})"
      ],
      "execution_count": 0,
      "outputs": []
    },
    {
      "cell_type": "code",
      "metadata": {
        "id": "WrcAFcGsfC3F",
        "colab_type": "code",
        "colab": {}
      },
      "source": [
        "# Individual models outcomes (Create Test dataset based on result of models)\n",
        "\n",
        "somTestDataset = pd.DataFrame ({\"LR\": LRTest, \"ANN\": ANNTest, \"DT\": DTTest, \"GBDT\": GBDTTest,\n",
        "                                \"KNN\": KNNTest, \"RF\": RFTest, \"SVM\":SVMTest})"
      ],
      "execution_count": 0,
      "outputs": []
    },
    {
      "cell_type": "code",
      "metadata": {
        "id": "zosL_8Y6fC3G",
        "colab_type": "code",
        "colab": {}
      },
      "source": [
        "# # Grid Search - Hyperparameter Tunning\n",
        "\n",
        "# param = {\"learning_rate_end\" : np.arange(0.000001, 0.001), \n",
        "#          \"learning_rate_start\" : np.arange(0.01, 1)}\n",
        "\n",
        "# clf = susi.SOMClassifier(random_state=42, n_jobs=-1)\n",
        "# clf_cv = GridSearchCV(clf, param, cv=5) \n",
        "# clf_cv.fit(somDataset, y)\n",
        "# print(clf_cv.best_params_)\n",
        "# print(clf_cv.best_score_)\n",
        "\n",
        "# # {'do_class_weighting': False, 'learning_rate_end': 1e-06, 'learning_rate_start': 0.01}"
      ],
      "execution_count": 0,
      "outputs": []
    },
    {
      "cell_type": "markdown",
      "metadata": {
        "id": "J1sQj7lLfC3I",
        "colab_type": "text"
      },
      "source": [
        "@misc{riese2019susicode,\n",
        "    author = {Riese, Felix~M.},\n",
        "    title = {{SuSi: SUpervised Self-organIzing maps in Python}},\n",
        "    year = {2019},\n",
        "    DOI = {10.5281/zenodo.2609130},\n",
        "    publisher = {Zenodo},\n",
        "    howpublished = {\\href{https://doi.org/10.5281/zenodo.2609130}{doi.org/10.5281/zenodo.2609130}}\n",
        "}"
      ]
    },
    {
      "cell_type": "code",
      "metadata": {
        "id": "b3MROIpGfC3I",
        "colab_type": "code",
        "outputId": "a5b18957-8108-49c0-adda-64128f910ea9",
        "colab": {
          "base_uri": "https://localhost:8080/",
          "height": 212
        }
      },
      "source": [
        "# Create a new SOM classifier \n",
        "som = susi.SOMClassifier(n_jobs=-1, random_state=42, learning_rate_end=0.000001, learning_rate_start=0.1)\n",
        "\n",
        "# Train the new classifier on the new dataset containing the probability of individual models\n",
        "som.fit(somDataset, y)"
      ],
      "execution_count": 104,
      "outputs": [
        {
          "output_type": "execute_result",
          "data": {
            "text/plain": [
              "SOMClassifier(distance_metric='euclidean', do_class_weighting=True,\n",
              "              init_mode_supervised='majority', init_mode_unsupervised='random',\n",
              "              learn_mode_supervised='min', learn_mode_unsupervised='min',\n",
              "              learning_rate_end=1e-06, learning_rate_start=0.1,\n",
              "              missing_label_placeholder=None, n_columns=10,\n",
              "              n_iter_supervised=1000, n_iter_unsupervised=1000, n_jobs=-1,\n",
              "              n_rows=10, nbh_dist_weight_mode='pseudo-gaussian',\n",
              "              neighborhood_mode_supervised='linear',\n",
              "              neighborhood_mode_unsupervised='linear', random_state=42,\n",
              "              train_mode_supervised='online', train_mode_unsupervised='online',\n",
              "              verbose=0)"
            ]
          },
          "metadata": {
            "tags": []
          },
          "execution_count": 104
        }
      ]
    },
    {
      "cell_type": "code",
      "metadata": {
        "id": "s_SnnuKffC3K",
        "colab_type": "code",
        "outputId": "a10839c6-becb-4d1e-92ac-5fa801f8b6d7",
        "colab": {
          "base_uri": "https://localhost:8080/",
          "height": 52
        }
      },
      "source": [
        "# Train set \n",
        "y_train_pred = som.predict(somDataset)\n",
        "\n",
        "print(\"Accuracy of Train set : \", accuracy_score(y, y_train_pred))\n",
        "print('-'*100)"
      ],
      "execution_count": 105,
      "outputs": [
        {
          "output_type": "stream",
          "text": [
            "Accuracy of Train set :  0.9028571428571428\n",
            "----------------------------------------------------------------------------------------------------\n"
          ],
          "name": "stdout"
        }
      ]
    },
    {
      "cell_type": "code",
      "metadata": {
        "id": "v4-dkBiUfC3M",
        "colab_type": "code",
        "outputId": "ae1b7887-8745-4865-ac26-ab9d88f85afb",
        "colab": {
          "base_uri": "https://localhost:8080/",
          "height": 408
        }
      },
      "source": [
        "# Apply The Classifier To The Test Data\n",
        "yy_pred = som.predict(somTestDataset)\n",
        "\n",
        "# Accuracy Of model\n",
        "print(\"Accuracy of Test set : \",accuracy_score(yy, yy_pred))\n",
        "print('-'*100)\n",
        "            \n",
        "# Confusion Matrix\n",
        "cm = confusion_matrix(yy, yy_pred, [1, 0])\n",
        "print(\"Confusion Matrix:\")\n",
        "print(cm)\n",
        "print(\"Classification Report:\")\n",
        "print(classification_report(yy, yy_pred))\n",
        "print('-'*100)\n",
        "\n",
        "# Normalisation Confusion Matrix - Type I and II error\n",
        "cm = normalize(cm,norm='l1',axis=0)\n",
        "cm_df = pd.DataFrame(cm, columns=['Good (1)', 'Bad (0)'], index=['Good (1)', 'Bad (0)'])\n",
        "print(\"Normalized Confusion Matrix:\")\n",
        "print(cm_df)\n",
        "print('-'*100)\n",
        "      \n",
        "# Matthews Correlation Coefficient\n",
        "print(\"MCC of Test set : \",matthews_corrcoef(yy, yy_pred))"
      ],
      "execution_count": 106,
      "outputs": [
        {
          "output_type": "stream",
          "text": [
            "Accuracy of Test set :  0.8133333333333334\n",
            "----------------------------------------------------------------------------------------------------\n",
            "Confusion Matrix:\n",
            "[[187  21]\n",
            " [ 35  57]]\n",
            "Classification Report:\n",
            "              precision    recall  f1-score   support\n",
            "\n",
            "         0.0       0.73      0.62      0.67        92\n",
            "         1.0       0.84      0.90      0.87       208\n",
            "\n",
            "    accuracy                           0.81       300\n",
            "   macro avg       0.79      0.76      0.77       300\n",
            "weighted avg       0.81      0.81      0.81       300\n",
            "\n",
            "----------------------------------------------------------------------------------------------------\n",
            "Normalized Confusion Matrix:\n",
            "          Good (1)   Bad (0)\n",
            "Good (1)  0.842342  0.269231\n",
            "Bad (0)   0.157658  0.730769\n",
            "----------------------------------------------------------------------------------------------------\n",
            "MCC of Test set :  0.5451768247576994\n"
          ],
          "name": "stdout"
        }
      ]
    },
    {
      "cell_type": "code",
      "metadata": {
        "id": "R7axaM1zfC3P",
        "colab_type": "code",
        "outputId": "e78b0303-0177-41c0-9f4f-6faaab96097a",
        "colab": {
          "base_uri": "https://localhost:8080/",
          "height": 265
        }
      },
      "source": [
        "# Plot u-Matrix \n",
        "\n",
        "u_matrix = som.get_u_matrix()\n",
        "plt.imshow(np.squeeze(u_matrix), cmap=\"Greys\")\n",
        "plt.colorbar()\n",
        "plt.show()"
      ],
      "execution_count": 107,
      "outputs": [
        {
          "output_type": "display_data",
          "data": {
            "image/png": "[encoded data removed]",
            "text/plain": [
              "<Figure size 432x288 with 2 Axes>"
            ]
          },
          "metadata": {
            "tags": []
          }
        }
      ]
    },
    {
      "cell_type": "code",
      "metadata": {
        "id": "41ZW5Mo6fC3S",
        "colab_type": "code",
        "outputId": "eba1a332-fd0b-4e90-c342-034d64b48e7d",
        "colab": {
          "base_uri": "https://localhost:8080/",
          "height": 344
        }
      },
      "source": [
        "# Plot estimation map\n",
        "\n",
        "def plot_estimation_map(estimation_map, fontsize=15):\n",
        "    plt.figure(figsize=(7,5))\n",
        "    plt.imshow(estimation_map, cmap=\"viridis_r\")\n",
        "    plt.xlabel(\"SOM columns\", fontsize=fontsize)\n",
        "    plt.ylabel(\"SOM rows\", fontsize=fontsize)\n",
        "    plt.xticks(fontsize=fontsize)\n",
        "    plt.yticks(fontsize=fontsize)\n",
        "    plt.grid(b=False)\n",
        "\n",
        "estimation_map = som.get_estimation_map().squeeze()\n",
        "plot_estimation_map(estimation_map)"
      ],
      "execution_count": 108,
      "outputs": [
        {
          "output_type": "display_data",
          "data": {
            "image/png": "[encoded data removed]",
            "text/plain": [
              "<Figure size 504x360 with 1 Axes>"
            ]
          },
          "metadata": {
            "tags": []
          }
        }
      ]
    }
  ]
}