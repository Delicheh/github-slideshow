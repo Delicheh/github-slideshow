{
  "nbformat": 4,
  "nbformat_minor": 0,
  "metadata": {
    "kernelspec": {
      "name": "python3",
      "display_name": "Python 3"
    },
    "language_info": {
      "codemirror_mode": {
        "name": "ipython",
        "version": 3
      },
      "file_extension": ".py",
      "mimetype": "text/x-python",
      "name": "python",
      "nbconvert_exporter": "python",
      "pygments_lexer": "ipython3",
      "version": "3.7.1"
    },
    "colab": {
      "name": "GermanDataset-IndividualConsensusMethod.ipynb",
      "provenance": [],
      "collapsed_sections": [],
      "toc_visible": true,
      "include_colab_link": true
    },
    "accelerator": "GPU"
  },
  "cells": [
    {
      "cell_type": "markdown",
      "metadata": {
        "id": "view-in-github",
        "colab_type": "text"
      },
      "source": [
        "<a href=\"https://colab.research.google.com/github/Delicheh/github-slideshow/blob/master/GermanDataset_IndividualConsensusMethod.ipynb\" target=\"_parent\"><img src=\"https://colab.research.google.com/assets/colab-badge.svg\" alt=\"Open In Colab\"/></a>"
      ]
    },
    {
      "cell_type": "markdown",
      "metadata": {
        "id": "5tBXWvEMYZ64",
        "colab_type": "text"
      },
      "source": [
        "# Individual models & Consensus Model Kohonen’s self-organizing maps (SOM)"
      ]
    },
    {
      "cell_type": "markdown",
      "metadata": {
        "id": "-xCnjp05ZR34",
        "colab_type": "text"
      },
      "source": [
        "@misc{riese2019susicode, author = {Riese, Felix~M.}, title = {{SuSi: SUpervised Self-organIzing maps in Python}}, year = {2019}, DOI = {10.5281/zenodo.2609130}, publisher = {Zenodo}, howpublished = {\\href{https://doi.org/10.5281/zenodo.2609130}{doi.org/10.5281/zenodo.2609130}} }"
      ]
    },
    {
      "cell_type": "code",
      "metadata": {
        "id": "w02bT807Zaxw",
        "colab_type": "code",
        "outputId": "d4b96b99-ec31-4ccd-f697-51f7533607c7",
        "colab": {
          "base_uri": "https://localhost:8080/",
          "height": 286
        }
      },
      "source": [
        "pip install susi"
      ],
      "execution_count": 1,
      "outputs": [
        {
          "output_type": "stream",
          "text": [
            "Collecting susi\n",
            "  Downloading https://files.pythonhosted.org/packages/f3/2d/dbc835d97b2beb0dd6992f40892cf5c242ce5bd8f1bcd51f9ee99745cbe6/susi-1.0.9.zip\n",
            "Requirement already satisfied: joblib in /usr/local/lib/python3.6/dist-packages (from susi) (0.14.1)\n",
            "Requirement already satisfied: numpy in /usr/local/lib/python3.6/dist-packages (from susi) (1.18.2)\n",
            "Requirement already satisfied: scikit-learn in /usr/local/lib/python3.6/dist-packages (from susi) (0.22.2.post1)\n",
            "Requirement already satisfied: scipy in /usr/local/lib/python3.6/dist-packages (from susi) (1.4.1)\n",
            "Requirement already satisfied: tqdm in /usr/local/lib/python3.6/dist-packages (from susi) (4.38.0)\n",
            "Building wheels for collected packages: susi\n",
            "  Building wheel for susi (setup.py) ... \u001b[?25l\u001b[?25hdone\n",
            "  Created wheel for susi: filename=susi-1.0.9-cp36-none-any.whl size=22513 sha256=3665da3d5b94baf0682dff65bf7f5a0f76e13b64497654bbd2d642cb69d39206\n",
            "  Stored in directory: /root/.cache/pip/wheels/58/36/90/7dee8bfbfd20933bc0e9639ece1d8e5511ac58e08a899e85f2\n",
            "Successfully built susi\n",
            "Installing collected packages: susi\n",
            "Successfully installed susi-1.0.9\n"
          ],
          "name": "stdout"
        }
      ]
    },
    {
      "cell_type": "code",
      "metadata": {
        "id": "eaMnTNr6YZ65",
        "colab_type": "code",
        "outputId": "55ce9427-51a8-4ead-c278-7edc7d20619d",
        "colab": {
          "base_uri": "https://localhost:8080/",
          "height": 72
        }
      },
      "source": [
        "# Import Libraries\n",
        "\n",
        "from sklearn.preprocessing import normalize, minmax_scale, LabelEncoder\n",
        "from sklearn.ensemble import RandomForestClassifier\n",
        "from sklearn.model_selection import train_test_split, cross_val_score, GridSearchCV\n",
        "from sklearn.feature_selection import SelectFromModel \n",
        "from sklearn.metrics import accuracy_score, classification_report, confusion_matrix, roc_curve, roc_auc_score, matthews_corrcoef\n",
        "from sklearn.linear_model import LogisticRegression\n",
        "from sklearn.neural_network import MLPClassifier\n",
        "from sklearn.tree import DecisionTreeClassifier\n",
        "from sklearn.ensemble import GradientBoostingClassifier\n",
        "from sklearn.neighbors import KNeighborsClassifier\n",
        "from sklearn import svm\n",
        "from sklearn.utils import shuffle\n",
        "import susi\n",
        "import s3fs\n",
        "import pandas as pd\n",
        "import numpy as np\n",
        "import seaborn as sb\n",
        "import matplotlib.pyplot as plt\n",
        "import warnings\n",
        "warnings.filterwarnings(action='ignore')"
      ],
      "execution_count": 2,
      "outputs": [
        {
          "output_type": "stream",
          "text": [
            "/usr/local/lib/python3.6/dist-packages/statsmodels/tools/_testing.py:19: FutureWarning: pandas.util.testing is deprecated. Use the functions in the public API at pandas.testing instead.\n",
            "  import pandas.util.testing as tm\n"
          ],
          "name": "stderr"
        }
      ]
    },
    {
      "cell_type": "code",
      "metadata": {
        "id": "GUVfzSGbYZ68",
        "colab_type": "code",
        "outputId": "2c06bc8c-c41c-421a-85e6-4f25a5a23a46",
        "colab": {
          "base_uri": "https://localhost:8080/",
          "height": 753
        }
      },
      "source": [
        "# Import the Dataset\n",
        "\n",
        "germanDataset = pd.read_csv ('s3://dissertationdataset/GermanDataset/GermanDataset.csv')\n",
        "germanDataset = germanDataset.astype('float64')\n",
        "print(germanDataset.shape)\n",
        "print(germanDataset.info())\n",
        "germanDataset.head()"
      ],
      "execution_count": 3,
      "outputs": [
        {
          "output_type": "stream",
          "text": [
            "(1000, 21)\n",
            "<class 'pandas.core.frame.DataFrame'>\n",
            "RangeIndex: 1000 entries, 0 to 999\n",
            "Data columns (total 21 columns):\n",
            " #   Column                   Non-Null Count  Dtype  \n",
            "---  ------                   --------------  -----  \n",
            " 0   salary                   1000 non-null   float64\n",
            " 1   duration                 1000 non-null   float64\n",
            " 2   creditHistory            1000 non-null   float64\n",
            " 3   purpose                  1000 non-null   float64\n",
            " 4   creditAmount             1000 non-null   float64\n",
            " 5   savingAccount/bonds      1000 non-null   float64\n",
            " 6   employmentSince          1000 non-null   float64\n",
            " 7   installmentRate          1000 non-null   float64\n",
            " 8   personalStatus           1000 non-null   float64\n",
            " 9   otherDebtors             1000 non-null   float64\n",
            " 10  presentResidenceSince    1000 non-null   float64\n",
            " 11  property                 1000 non-null   float64\n",
            " 12  age                      1000 non-null   float64\n",
            " 13  otherInstallmentPlan     1000 non-null   float64\n",
            " 14  housing                  1000 non-null   float64\n",
            " 15  numberOfExistingCredits  1000 non-null   float64\n",
            " 16  job                      1000 non-null   float64\n",
            " 17  maintenance              1000 non-null   float64\n",
            " 18  telephone                1000 non-null   float64\n",
            " 19  foreignWorker            1000 non-null   float64\n",
            " 20  creditStatus             1000 non-null   float64\n",
            "dtypes: float64(21)\n",
            "memory usage: 164.2 KB\n",
            "None\n"
          ],
          "name": "stdout"
        },
        {
          "output_type": "execute_result",
          "data": {
            "text/html": [
              "<div>\n",
              "<style scoped>\n",
              "    .dataframe tbody tr th:only-of-type {\n",
              "        vertical-align: middle;\n",
              "    }\n",
              "\n",
              "    .dataframe tbody tr th {\n",
              "        vertical-align: top;\n",
              "    }\n",
              "\n",
              "    .dataframe thead th {\n",
              "        text-align: right;\n",
              "    }\n",
              "</style>\n",
              "<table border=\"1\" class=\"dataframe\">\n",
              "  <thead>\n",
              "    <tr style=\"text-align: right;\">\n",
              "      <th></th>\n",
              "      <th>salary</th>\n",
              "      <th>duration</th>\n",
              "      <th>creditHistory</th>\n",
              "      <th>purpose</th>\n",
              "      <th>creditAmount</th>\n",
              "      <th>savingAccount/bonds</th>\n",
              "      <th>employmentSince</th>\n",
              "      <th>installmentRate</th>\n",
              "      <th>personalStatus</th>\n",
              "      <th>otherDebtors</th>\n",
              "      <th>presentResidenceSince</th>\n",
              "      <th>property</th>\n",
              "      <th>age</th>\n",
              "      <th>otherInstallmentPlan</th>\n",
              "      <th>housing</th>\n",
              "      <th>numberOfExistingCredits</th>\n",
              "      <th>job</th>\n",
              "      <th>maintenance</th>\n",
              "      <th>telephone</th>\n",
              "      <th>foreignWorker</th>\n",
              "      <th>creditStatus</th>\n",
              "    </tr>\n",
              "  </thead>\n",
              "  <tbody>\n",
              "    <tr>\n",
              "      <th>0</th>\n",
              "      <td>1.0</td>\n",
              "      <td>6.0</td>\n",
              "      <td>4.0</td>\n",
              "      <td>3.0</td>\n",
              "      <td>1169.0</td>\n",
              "      <td>5.0</td>\n",
              "      <td>5.0</td>\n",
              "      <td>4.0</td>\n",
              "      <td>3.0</td>\n",
              "      <td>1.0</td>\n",
              "      <td>4.0</td>\n",
              "      <td>1.0</td>\n",
              "      <td>67.0</td>\n",
              "      <td>3.0</td>\n",
              "      <td>2.0</td>\n",
              "      <td>2.0</td>\n",
              "      <td>3.0</td>\n",
              "      <td>1.0</td>\n",
              "      <td>2.0</td>\n",
              "      <td>1.0</td>\n",
              "      <td>1.0</td>\n",
              "    </tr>\n",
              "    <tr>\n",
              "      <th>1</th>\n",
              "      <td>2.0</td>\n",
              "      <td>48.0</td>\n",
              "      <td>2.0</td>\n",
              "      <td>3.0</td>\n",
              "      <td>5951.0</td>\n",
              "      <td>1.0</td>\n",
              "      <td>3.0</td>\n",
              "      <td>2.0</td>\n",
              "      <td>2.0</td>\n",
              "      <td>1.0</td>\n",
              "      <td>2.0</td>\n",
              "      <td>1.0</td>\n",
              "      <td>22.0</td>\n",
              "      <td>3.0</td>\n",
              "      <td>2.0</td>\n",
              "      <td>1.0</td>\n",
              "      <td>3.0</td>\n",
              "      <td>1.0</td>\n",
              "      <td>1.0</td>\n",
              "      <td>1.0</td>\n",
              "      <td>2.0</td>\n",
              "    </tr>\n",
              "    <tr>\n",
              "      <th>2</th>\n",
              "      <td>4.0</td>\n",
              "      <td>12.0</td>\n",
              "      <td>4.0</td>\n",
              "      <td>6.0</td>\n",
              "      <td>2096.0</td>\n",
              "      <td>1.0</td>\n",
              "      <td>4.0</td>\n",
              "      <td>2.0</td>\n",
              "      <td>3.0</td>\n",
              "      <td>1.0</td>\n",
              "      <td>3.0</td>\n",
              "      <td>1.0</td>\n",
              "      <td>49.0</td>\n",
              "      <td>3.0</td>\n",
              "      <td>2.0</td>\n",
              "      <td>1.0</td>\n",
              "      <td>2.0</td>\n",
              "      <td>2.0</td>\n",
              "      <td>1.0</td>\n",
              "      <td>1.0</td>\n",
              "      <td>1.0</td>\n",
              "    </tr>\n",
              "    <tr>\n",
              "      <th>3</th>\n",
              "      <td>1.0</td>\n",
              "      <td>42.0</td>\n",
              "      <td>2.0</td>\n",
              "      <td>2.0</td>\n",
              "      <td>7882.0</td>\n",
              "      <td>1.0</td>\n",
              "      <td>4.0</td>\n",
              "      <td>2.0</td>\n",
              "      <td>3.0</td>\n",
              "      <td>3.0</td>\n",
              "      <td>4.0</td>\n",
              "      <td>2.0</td>\n",
              "      <td>45.0</td>\n",
              "      <td>3.0</td>\n",
              "      <td>3.0</td>\n",
              "      <td>1.0</td>\n",
              "      <td>3.0</td>\n",
              "      <td>2.0</td>\n",
              "      <td>1.0</td>\n",
              "      <td>1.0</td>\n",
              "      <td>1.0</td>\n",
              "    </tr>\n",
              "    <tr>\n",
              "      <th>4</th>\n",
              "      <td>1.0</td>\n",
              "      <td>24.0</td>\n",
              "      <td>3.0</td>\n",
              "      <td>0.0</td>\n",
              "      <td>4870.0</td>\n",
              "      <td>1.0</td>\n",
              "      <td>3.0</td>\n",
              "      <td>3.0</td>\n",
              "      <td>3.0</td>\n",
              "      <td>1.0</td>\n",
              "      <td>4.0</td>\n",
              "      <td>4.0</td>\n",
              "      <td>53.0</td>\n",
              "      <td>3.0</td>\n",
              "      <td>3.0</td>\n",
              "      <td>2.0</td>\n",
              "      <td>3.0</td>\n",
              "      <td>2.0</td>\n",
              "      <td>1.0</td>\n",
              "      <td>1.0</td>\n",
              "      <td>2.0</td>\n",
              "    </tr>\n",
              "  </tbody>\n",
              "</table>\n",
              "</div>"
            ],
            "text/plain": [
              "   salary  duration  creditHistory  ...  telephone  foreignWorker  creditStatus\n",
              "0     1.0       6.0            4.0  ...        2.0            1.0           1.0\n",
              "1     2.0      48.0            2.0  ...        1.0            1.0           2.0\n",
              "2     4.0      12.0            4.0  ...        1.0            1.0           1.0\n",
              "3     1.0      42.0            2.0  ...        1.0            1.0           1.0\n",
              "4     1.0      24.0            3.0  ...        1.0            1.0           2.0\n",
              "\n",
              "[5 rows x 21 columns]"
            ]
          },
          "metadata": {
            "tags": []
          },
          "execution_count": 3
        }
      ]
    },
    {
      "cell_type": "code",
      "metadata": {
        "id": "tG9X92M-YZ7A",
        "colab_type": "code",
        "colab": {}
      },
      "source": [
        "# Encoding the Credit Status (Replace 2 with 0 (0 Bad , 1 Good))\n",
        "\n",
        "germanDataset['creditStatus'] = germanDataset['creditStatus'].replace(2, 0)"
      ],
      "execution_count": 0,
      "outputs": []
    },
    {
      "cell_type": "code",
      "metadata": {
        "id": "1pj6ks6DYZ7C",
        "colab_type": "code",
        "outputId": "15b7fb07-df66-4b8e-e6f0-4570208bd0a5",
        "colab": {
          "base_uri": "https://localhost:8080/",
          "height": 686
        }
      },
      "source": [
        "# Finding features with more than 95% missing \n",
        "\n",
        "# Define method for calcuating number of missing values\n",
        "def missing_values(dataframe):\n",
        "    missingValuesSum = dataframe.isnull().sum()\n",
        "    missingValuesPercentage = (missingValuesSum * 100) / dataframe.shape[0]\n",
        "    missingValuesTable = pd.concat([missingValuesSum, missingValuesPercentage], axis=1)\n",
        "    missingValuesTable = missingValuesTable.rename(columns = {0 : 'Number of Missing Values', 1 : '% of Total'})\n",
        "    return missingValuesTable\n",
        "\n",
        "missing_values(germanDataset)"
      ],
      "execution_count": 5,
      "outputs": [
        {
          "output_type": "execute_result",
          "data": {
            "text/html": [
              "<div>\n",
              "<style scoped>\n",
              "    .dataframe tbody tr th:only-of-type {\n",
              "        vertical-align: middle;\n",
              "    }\n",
              "\n",
              "    .dataframe tbody tr th {\n",
              "        vertical-align: top;\n",
              "    }\n",
              "\n",
              "    .dataframe thead th {\n",
              "        text-align: right;\n",
              "    }\n",
              "</style>\n",
              "<table border=\"1\" class=\"dataframe\">\n",
              "  <thead>\n",
              "    <tr style=\"text-align: right;\">\n",
              "      <th></th>\n",
              "      <th>Number of Missing Values</th>\n",
              "      <th>% of Total</th>\n",
              "    </tr>\n",
              "  </thead>\n",
              "  <tbody>\n",
              "    <tr>\n",
              "      <th>salary</th>\n",
              "      <td>0</td>\n",
              "      <td>0.0</td>\n",
              "    </tr>\n",
              "    <tr>\n",
              "      <th>duration</th>\n",
              "      <td>0</td>\n",
              "      <td>0.0</td>\n",
              "    </tr>\n",
              "    <tr>\n",
              "      <th>creditHistory</th>\n",
              "      <td>0</td>\n",
              "      <td>0.0</td>\n",
              "    </tr>\n",
              "    <tr>\n",
              "      <th>purpose</th>\n",
              "      <td>0</td>\n",
              "      <td>0.0</td>\n",
              "    </tr>\n",
              "    <tr>\n",
              "      <th>creditAmount</th>\n",
              "      <td>0</td>\n",
              "      <td>0.0</td>\n",
              "    </tr>\n",
              "    <tr>\n",
              "      <th>savingAccount/bonds</th>\n",
              "      <td>0</td>\n",
              "      <td>0.0</td>\n",
              "    </tr>\n",
              "    <tr>\n",
              "      <th>employmentSince</th>\n",
              "      <td>0</td>\n",
              "      <td>0.0</td>\n",
              "    </tr>\n",
              "    <tr>\n",
              "      <th>installmentRate</th>\n",
              "      <td>0</td>\n",
              "      <td>0.0</td>\n",
              "    </tr>\n",
              "    <tr>\n",
              "      <th>personalStatus</th>\n",
              "      <td>0</td>\n",
              "      <td>0.0</td>\n",
              "    </tr>\n",
              "    <tr>\n",
              "      <th>otherDebtors</th>\n",
              "      <td>0</td>\n",
              "      <td>0.0</td>\n",
              "    </tr>\n",
              "    <tr>\n",
              "      <th>presentResidenceSince</th>\n",
              "      <td>0</td>\n",
              "      <td>0.0</td>\n",
              "    </tr>\n",
              "    <tr>\n",
              "      <th>property</th>\n",
              "      <td>0</td>\n",
              "      <td>0.0</td>\n",
              "    </tr>\n",
              "    <tr>\n",
              "      <th>age</th>\n",
              "      <td>0</td>\n",
              "      <td>0.0</td>\n",
              "    </tr>\n",
              "    <tr>\n",
              "      <th>otherInstallmentPlan</th>\n",
              "      <td>0</td>\n",
              "      <td>0.0</td>\n",
              "    </tr>\n",
              "    <tr>\n",
              "      <th>housing</th>\n",
              "      <td>0</td>\n",
              "      <td>0.0</td>\n",
              "    </tr>\n",
              "    <tr>\n",
              "      <th>numberOfExistingCredits</th>\n",
              "      <td>0</td>\n",
              "      <td>0.0</td>\n",
              "    </tr>\n",
              "    <tr>\n",
              "      <th>job</th>\n",
              "      <td>0</td>\n",
              "      <td>0.0</td>\n",
              "    </tr>\n",
              "    <tr>\n",
              "      <th>maintenance</th>\n",
              "      <td>0</td>\n",
              "      <td>0.0</td>\n",
              "    </tr>\n",
              "    <tr>\n",
              "      <th>telephone</th>\n",
              "      <td>0</td>\n",
              "      <td>0.0</td>\n",
              "    </tr>\n",
              "    <tr>\n",
              "      <th>foreignWorker</th>\n",
              "      <td>0</td>\n",
              "      <td>0.0</td>\n",
              "    </tr>\n",
              "    <tr>\n",
              "      <th>creditStatus</th>\n",
              "      <td>0</td>\n",
              "      <td>0.0</td>\n",
              "    </tr>\n",
              "  </tbody>\n",
              "</table>\n",
              "</div>"
            ],
            "text/plain": [
              "                         Number of Missing Values  % of Total\n",
              "salary                                          0         0.0\n",
              "duration                                        0         0.0\n",
              "creditHistory                                   0         0.0\n",
              "purpose                                         0         0.0\n",
              "creditAmount                                    0         0.0\n",
              "savingAccount/bonds                             0         0.0\n",
              "employmentSince                                 0         0.0\n",
              "installmentRate                                 0         0.0\n",
              "personalStatus                                  0         0.0\n",
              "otherDebtors                                    0         0.0\n",
              "presentResidenceSince                           0         0.0\n",
              "property                                        0         0.0\n",
              "age                                             0         0.0\n",
              "otherInstallmentPlan                            0         0.0\n",
              "housing                                         0         0.0\n",
              "numberOfExistingCredits                         0         0.0\n",
              "job                                             0         0.0\n",
              "maintenance                                     0         0.0\n",
              "telephone                                       0         0.0\n",
              "foreignWorker                                   0         0.0\n",
              "creditStatus                                    0         0.0"
            ]
          },
          "metadata": {
            "tags": []
          },
          "execution_count": 5
        }
      ]
    },
    {
      "cell_type": "code",
      "metadata": {
        "id": "omLgMsHXYZ7F",
        "colab_type": "code",
        "outputId": "45f30075-13ef-46bb-8ea0-e7058597c20d",
        "colab": {
          "base_uri": "https://localhost:8080/",
          "height": 35
        }
      },
      "source": [
        "# Finding number of duplicated rows\n",
        "\n",
        "duplicate_rows = germanDataset[germanDataset.duplicated()]\n",
        "duplicate_rows.shape"
      ],
      "execution_count": 6,
      "outputs": [
        {
          "output_type": "execute_result",
          "data": {
            "text/plain": [
              "(0, 21)"
            ]
          },
          "metadata": {
            "tags": []
          },
          "execution_count": 6
        }
      ]
    },
    {
      "cell_type": "code",
      "metadata": {
        "id": "4lH3rtQkYZ7H",
        "colab_type": "code",
        "colab": {}
      },
      "source": [
        "# Modify the scale of continuous features\n",
        "\n",
        "continuousFeatures = ['duration', 'creditAmount', 'age', 'installmentRate', \n",
        "                      'presentResidenceSince', 'numberOfExistingCredits']\n",
        "x = germanDataset[continuousFeatures].values\n",
        "x_scaled = minmax_scale(x)\n",
        "dfTemp = pd.DataFrame(x_scaled, columns=continuousFeatures, index = germanDataset.index)\n",
        "germanDataset[continuousFeatures] = dfTemp"
      ],
      "execution_count": 0,
      "outputs": []
    },
    {
      "cell_type": "code",
      "metadata": {
        "id": "d17BrFqBYZ7J",
        "colab_type": "code",
        "outputId": "aa5787cd-bbf9-4d8c-dde5-4d272e177302",
        "colab": {
          "base_uri": "https://localhost:8080/",
          "height": 389
        }
      },
      "source": [
        "# Dataset description \n",
        "\n",
        "Desc_Dataset = germanDataset.describe()\n",
        "\n",
        "# Standard deviation metrics\n",
        "\n",
        "Desc_Dataset.loc['+3 std'] = Desc_Dataset.loc['mean'] + (Desc_Dataset.loc['std'] * 3)\n",
        "Desc_Dataset.loc['-3 std'] = Desc_Dataset.loc['mean'] - (Desc_Dataset.loc['std'] * 3)\n",
        "Desc_Dataset"
      ],
      "execution_count": 8,
      "outputs": [
        {
          "output_type": "execute_result",
          "data": {
            "text/html": [
              "<div>\n",
              "<style scoped>\n",
              "    .dataframe tbody tr th:only-of-type {\n",
              "        vertical-align: middle;\n",
              "    }\n",
              "\n",
              "    .dataframe tbody tr th {\n",
              "        vertical-align: top;\n",
              "    }\n",
              "\n",
              "    .dataframe thead th {\n",
              "        text-align: right;\n",
              "    }\n",
              "</style>\n",
              "<table border=\"1\" class=\"dataframe\">\n",
              "  <thead>\n",
              "    <tr style=\"text-align: right;\">\n",
              "      <th></th>\n",
              "      <th>salary</th>\n",
              "      <th>duration</th>\n",
              "      <th>creditHistory</th>\n",
              "      <th>purpose</th>\n",
              "      <th>creditAmount</th>\n",
              "      <th>savingAccount/bonds</th>\n",
              "      <th>employmentSince</th>\n",
              "      <th>installmentRate</th>\n",
              "      <th>personalStatus</th>\n",
              "      <th>otherDebtors</th>\n",
              "      <th>presentResidenceSince</th>\n",
              "      <th>property</th>\n",
              "      <th>age</th>\n",
              "      <th>otherInstallmentPlan</th>\n",
              "      <th>housing</th>\n",
              "      <th>numberOfExistingCredits</th>\n",
              "      <th>job</th>\n",
              "      <th>maintenance</th>\n",
              "      <th>telephone</th>\n",
              "      <th>foreignWorker</th>\n",
              "      <th>creditStatus</th>\n",
              "    </tr>\n",
              "  </thead>\n",
              "  <tbody>\n",
              "    <tr>\n",
              "      <th>count</th>\n",
              "      <td>1000.000000</td>\n",
              "      <td>1000.000000</td>\n",
              "      <td>1000.000000</td>\n",
              "      <td>1000.000000</td>\n",
              "      <td>1000.000000</td>\n",
              "      <td>1000.000000</td>\n",
              "      <td>1000.000000</td>\n",
              "      <td>1000.000000</td>\n",
              "      <td>1000.00000</td>\n",
              "      <td>1000.000000</td>\n",
              "      <td>1000.000000</td>\n",
              "      <td>1000.000000</td>\n",
              "      <td>1000.000000</td>\n",
              "      <td>1000.000000</td>\n",
              "      <td>1000.000000</td>\n",
              "      <td>1000.000000</td>\n",
              "      <td>1000.000000</td>\n",
              "      <td>1000.000000</td>\n",
              "      <td>1000.000000</td>\n",
              "      <td>1000.000000</td>\n",
              "      <td>1000.000000</td>\n",
              "    </tr>\n",
              "    <tr>\n",
              "      <th>mean</th>\n",
              "      <td>2.577000</td>\n",
              "      <td>0.248574</td>\n",
              "      <td>2.545000</td>\n",
              "      <td>2.828000</td>\n",
              "      <td>0.166241</td>\n",
              "      <td>2.105000</td>\n",
              "      <td>3.384000</td>\n",
              "      <td>0.657667</td>\n",
              "      <td>2.68200</td>\n",
              "      <td>1.145000</td>\n",
              "      <td>0.615000</td>\n",
              "      <td>2.358000</td>\n",
              "      <td>0.295464</td>\n",
              "      <td>2.675000</td>\n",
              "      <td>1.929000</td>\n",
              "      <td>0.135667</td>\n",
              "      <td>2.904000</td>\n",
              "      <td>1.155000</td>\n",
              "      <td>1.404000</td>\n",
              "      <td>1.037000</td>\n",
              "      <td>0.700000</td>\n",
              "    </tr>\n",
              "    <tr>\n",
              "      <th>std</th>\n",
              "      <td>1.257638</td>\n",
              "      <td>0.177336</td>\n",
              "      <td>1.083120</td>\n",
              "      <td>2.744439</td>\n",
              "      <td>0.155317</td>\n",
              "      <td>1.580023</td>\n",
              "      <td>1.208306</td>\n",
              "      <td>0.372905</td>\n",
              "      <td>0.70808</td>\n",
              "      <td>0.477706</td>\n",
              "      <td>0.367906</td>\n",
              "      <td>1.050209</td>\n",
              "      <td>0.203133</td>\n",
              "      <td>0.705601</td>\n",
              "      <td>0.531264</td>\n",
              "      <td>0.192551</td>\n",
              "      <td>0.653614</td>\n",
              "      <td>0.362086</td>\n",
              "      <td>0.490943</td>\n",
              "      <td>0.188856</td>\n",
              "      <td>0.458487</td>\n",
              "    </tr>\n",
              "    <tr>\n",
              "      <th>min</th>\n",
              "      <td>1.000000</td>\n",
              "      <td>0.000000</td>\n",
              "      <td>0.000000</td>\n",
              "      <td>0.000000</td>\n",
              "      <td>0.000000</td>\n",
              "      <td>1.000000</td>\n",
              "      <td>1.000000</td>\n",
              "      <td>0.000000</td>\n",
              "      <td>1.00000</td>\n",
              "      <td>1.000000</td>\n",
              "      <td>0.000000</td>\n",
              "      <td>1.000000</td>\n",
              "      <td>0.000000</td>\n",
              "      <td>1.000000</td>\n",
              "      <td>1.000000</td>\n",
              "      <td>0.000000</td>\n",
              "      <td>1.000000</td>\n",
              "      <td>1.000000</td>\n",
              "      <td>1.000000</td>\n",
              "      <td>1.000000</td>\n",
              "      <td>0.000000</td>\n",
              "    </tr>\n",
              "    <tr>\n",
              "      <th>25%</th>\n",
              "      <td>1.000000</td>\n",
              "      <td>0.117647</td>\n",
              "      <td>2.000000</td>\n",
              "      <td>1.000000</td>\n",
              "      <td>0.061379</td>\n",
              "      <td>1.000000</td>\n",
              "      <td>3.000000</td>\n",
              "      <td>0.333333</td>\n",
              "      <td>2.00000</td>\n",
              "      <td>1.000000</td>\n",
              "      <td>0.333333</td>\n",
              "      <td>1.000000</td>\n",
              "      <td>0.142857</td>\n",
              "      <td>3.000000</td>\n",
              "      <td>2.000000</td>\n",
              "      <td>0.000000</td>\n",
              "      <td>3.000000</td>\n",
              "      <td>1.000000</td>\n",
              "      <td>1.000000</td>\n",
              "      <td>1.000000</td>\n",
              "      <td>0.000000</td>\n",
              "    </tr>\n",
              "    <tr>\n",
              "      <th>50%</th>\n",
              "      <td>2.000000</td>\n",
              "      <td>0.205882</td>\n",
              "      <td>2.000000</td>\n",
              "      <td>2.000000</td>\n",
              "      <td>0.113871</td>\n",
              "      <td>1.000000</td>\n",
              "      <td>3.000000</td>\n",
              "      <td>0.666667</td>\n",
              "      <td>3.00000</td>\n",
              "      <td>1.000000</td>\n",
              "      <td>0.666667</td>\n",
              "      <td>2.000000</td>\n",
              "      <td>0.250000</td>\n",
              "      <td>3.000000</td>\n",
              "      <td>2.000000</td>\n",
              "      <td>0.000000</td>\n",
              "      <td>3.000000</td>\n",
              "      <td>1.000000</td>\n",
              "      <td>1.000000</td>\n",
              "      <td>1.000000</td>\n",
              "      <td>1.000000</td>\n",
              "    </tr>\n",
              "    <tr>\n",
              "      <th>75%</th>\n",
              "      <td>4.000000</td>\n",
              "      <td>0.294118</td>\n",
              "      <td>4.000000</td>\n",
              "      <td>3.000000</td>\n",
              "      <td>0.204812</td>\n",
              "      <td>3.000000</td>\n",
              "      <td>5.000000</td>\n",
              "      <td>1.000000</td>\n",
              "      <td>3.00000</td>\n",
              "      <td>1.000000</td>\n",
              "      <td>1.000000</td>\n",
              "      <td>3.000000</td>\n",
              "      <td>0.410714</td>\n",
              "      <td>3.000000</td>\n",
              "      <td>2.000000</td>\n",
              "      <td>0.333333</td>\n",
              "      <td>3.000000</td>\n",
              "      <td>1.000000</td>\n",
              "      <td>2.000000</td>\n",
              "      <td>1.000000</td>\n",
              "      <td>1.000000</td>\n",
              "    </tr>\n",
              "    <tr>\n",
              "      <th>max</th>\n",
              "      <td>4.000000</td>\n",
              "      <td>1.000000</td>\n",
              "      <td>4.000000</td>\n",
              "      <td>10.000000</td>\n",
              "      <td>1.000000</td>\n",
              "      <td>5.000000</td>\n",
              "      <td>5.000000</td>\n",
              "      <td>1.000000</td>\n",
              "      <td>4.00000</td>\n",
              "      <td>3.000000</td>\n",
              "      <td>1.000000</td>\n",
              "      <td>4.000000</td>\n",
              "      <td>1.000000</td>\n",
              "      <td>3.000000</td>\n",
              "      <td>3.000000</td>\n",
              "      <td>1.000000</td>\n",
              "      <td>4.000000</td>\n",
              "      <td>2.000000</td>\n",
              "      <td>2.000000</td>\n",
              "      <td>2.000000</td>\n",
              "      <td>1.000000</td>\n",
              "    </tr>\n",
              "    <tr>\n",
              "      <th>+3 std</th>\n",
              "      <td>6.349913</td>\n",
              "      <td>0.780580</td>\n",
              "      <td>5.794359</td>\n",
              "      <td>11.061318</td>\n",
              "      <td>0.632193</td>\n",
              "      <td>6.845068</td>\n",
              "      <td>7.008919</td>\n",
              "      <td>1.776381</td>\n",
              "      <td>4.80624</td>\n",
              "      <td>2.578119</td>\n",
              "      <td>1.718718</td>\n",
              "      <td>5.508627</td>\n",
              "      <td>0.904864</td>\n",
              "      <td>4.791803</td>\n",
              "      <td>3.522791</td>\n",
              "      <td>0.713321</td>\n",
              "      <td>4.864842</td>\n",
              "      <td>2.241257</td>\n",
              "      <td>2.876829</td>\n",
              "      <td>1.603569</td>\n",
              "      <td>2.075461</td>\n",
              "    </tr>\n",
              "    <tr>\n",
              "      <th>-3 std</th>\n",
              "      <td>-1.195913</td>\n",
              "      <td>-0.283433</td>\n",
              "      <td>-0.704359</td>\n",
              "      <td>-5.405318</td>\n",
              "      <td>-0.299711</td>\n",
              "      <td>-2.635068</td>\n",
              "      <td>-0.240919</td>\n",
              "      <td>-0.461048</td>\n",
              "      <td>0.55776</td>\n",
              "      <td>-0.288119</td>\n",
              "      <td>-0.488718</td>\n",
              "      <td>-0.792627</td>\n",
              "      <td>-0.313936</td>\n",
              "      <td>0.558197</td>\n",
              "      <td>0.335209</td>\n",
              "      <td>-0.441988</td>\n",
              "      <td>0.943158</td>\n",
              "      <td>0.068743</td>\n",
              "      <td>-0.068829</td>\n",
              "      <td>0.470431</td>\n",
              "      <td>-0.675461</td>\n",
              "    </tr>\n",
              "  </tbody>\n",
              "</table>\n",
              "</div>"
            ],
            "text/plain": [
              "             salary     duration  ...  foreignWorker  creditStatus\n",
              "count   1000.000000  1000.000000  ...    1000.000000   1000.000000\n",
              "mean       2.577000     0.248574  ...       1.037000      0.700000\n",
              "std        1.257638     0.177336  ...       0.188856      0.458487\n",
              "min        1.000000     0.000000  ...       1.000000      0.000000\n",
              "25%        1.000000     0.117647  ...       1.000000      0.000000\n",
              "50%        2.000000     0.205882  ...       1.000000      1.000000\n",
              "75%        4.000000     0.294118  ...       1.000000      1.000000\n",
              "max        4.000000     1.000000  ...       2.000000      1.000000\n",
              "+3 std     6.349913     0.780580  ...       1.603569      2.075461\n",
              "-3 std    -1.195913    -0.283433  ...       0.470431     -0.675461\n",
              "\n",
              "[10 rows x 21 columns]"
            ]
          },
          "metadata": {
            "tags": []
          },
          "execution_count": 8
        }
      ]
    },
    {
      "cell_type": "code",
      "metadata": {
        "id": "tI8TQjSHYZ7O",
        "colab_type": "code",
        "outputId": "220bd134-3b79-443e-933a-98cac0b20692",
        "colab": {
          "base_uri": "https://localhost:8080/",
          "height": 366
        }
      },
      "source": [
        "# Visualise (Target variable) Credit Status \n",
        "\n",
        "bad = germanDataset[germanDataset['creditStatus'] == 0]['creditStatus'].count()\n",
        "good = germanDataset[germanDataset['creditStatus'] == 1]['creditStatus'].count()\n",
        "data = {\"Counts\":[bad, good] }\n",
        "applicantStatus = pd.DataFrame(data, index=[\"Bad Applicant\", \"Good Applicant\"])\n",
        "applicantStatus.plot(kind='bar', title=\"Status of the Loan\")"
      ],
      "execution_count": 9,
      "outputs": [
        {
          "output_type": "execute_result",
          "data": {
            "text/plain": [
              "<matplotlib.axes._subplots.AxesSubplot at 0x7f090660de10>"
            ]
          },
          "metadata": {
            "tags": []
          },
          "execution_count": 9
        },
        {
          "output_type": "display_data",
          "data": {
            "image/png": "[encoded data removed]",
            "text/plain": [
              "<Figure size 432x288 with 1 Axes>"
            ]
          },
          "metadata": {
            "tags": []
          }
        }
      ]
    },
    {
      "cell_type": "code",
      "metadata": {
        "id": "_xIOnh7XYZ7R",
        "colab_type": "code",
        "colab": {}
      },
      "source": [
        "# Shuffle rows of the dataframe\n",
        "\n",
        "germanDataset = shuffle(germanDataset, random_state=42)\n",
        "germanDataset.reset_index (drop=True , inplace=True)"
      ],
      "execution_count": 0,
      "outputs": []
    },
    {
      "cell_type": "code",
      "metadata": {
        "id": "TV7X_ZqdYZ7U",
        "colab_type": "code",
        "outputId": "2129526a-dfb5-4a7f-9893-6f82b17645f2",
        "colab": {
          "base_uri": "https://localhost:8080/",
          "height": 52
        }
      },
      "source": [
        "# Split data into traning 70%  & test 30%\n",
        "\n",
        "dataset, testDataset = np.split(germanDataset, [int(.7 * len(germanDataset))])\n",
        "print(dataset.shape)\n",
        "print(testDataset.shape)"
      ],
      "execution_count": 11,
      "outputs": [
        {
          "output_type": "stream",
          "text": [
            "(700, 21)\n",
            "(300, 21)\n"
          ],
          "name": "stdout"
        }
      ]
    },
    {
      "cell_type": "code",
      "metadata": {
        "id": "bAoA91T2YZ7W",
        "colab_type": "code",
        "outputId": "e4b7fe38-953c-4eba-9128-d9774fa3911a",
        "colab": {
          "base_uri": "https://localhost:8080/",
          "height": 35
        }
      },
      "source": [
        "# Number of high correlated features (correlation greater than 0.7)\n",
        "\n",
        "correlation = dataset.corr().abs()\n",
        "high = correlation.where(np.triu(np.ones(correlation.shape), k=1).astype(np.bool))\n",
        "highList = [column for column in high.columns if any(high[column] > 0.7)]\n",
        "print(\"Number of feature columns with correlation greater than 0.7 :\", len(highList))"
      ],
      "execution_count": 12,
      "outputs": [
        {
          "output_type": "stream",
          "text": [
            "Number of feature columns with correlation greater than 0.7 : 0\n"
          ],
          "name": "stdout"
        }
      ]
    },
    {
      "cell_type": "code",
      "metadata": {
        "id": "bk0iiFpNYZ7Z",
        "colab_type": "code",
        "outputId": "1891f2b3-14e6-4381-914e-3a1605acf3ab",
        "colab": {
          "base_uri": "https://localhost:8080/",
          "height": 124
        }
      },
      "source": [
        "# Features List\n",
        "\n",
        "featureList = dataset.columns[:-1]\n",
        "featureList"
      ],
      "execution_count": 13,
      "outputs": [
        {
          "output_type": "execute_result",
          "data": {
            "text/plain": [
              "Index(['salary', 'duration', 'creditHistory', 'purpose', 'creditAmount',\n",
              "       'savingAccount/bonds', 'employmentSince', 'installmentRate',\n",
              "       'personalStatus', 'otherDebtors', 'presentResidenceSince', 'property',\n",
              "       'age', 'otherInstallmentPlan', 'housing', 'numberOfExistingCredits',\n",
              "       'job', 'maintenance ', 'telephone', 'foreignWorker'],\n",
              "      dtype='object')"
            ]
          },
          "metadata": {
            "tags": []
          },
          "execution_count": 13
        }
      ]
    },
    {
      "cell_type": "code",
      "metadata": {
        "id": "la_vv6FyYZ7b",
        "colab_type": "code",
        "colab": {}
      },
      "source": [
        "#  Define Label and Features\n",
        "\n",
        "X = dataset.drop ('creditStatus' , axis=1)\n",
        "y = dataset['creditStatus']"
      ],
      "execution_count": 0,
      "outputs": []
    },
    {
      "cell_type": "code",
      "metadata": {
        "id": "ORoP8TFnYZ7d",
        "colab_type": "code",
        "colab": {}
      },
      "source": [
        "# # Grid Search - Hyperparameter Tunning\n",
        "\n",
        "# param = {\"max_depth\": np.arange(5, 25), \"n_estimators\": [100, 200, 300, 400, 500], \"min_samples_leaf\": np.arange(3, 10)}\n",
        "\n",
        "# clf = RandomForestClassifier(random_state=42, n_jobs=-1)\n",
        "# clf_cv = GridSearchCV(clf, param, cv=5) \n",
        "# clf_cv.fit(X, y)\n",
        "# print(clf_cv.best_params_)\n",
        "# print(clf_cv.best_score_)\n",
        "\n",
        "# # {'max_depth': 15, 'min_samples_leaf': 3, 'n_estimators': 100}"
      ],
      "execution_count": 0,
      "outputs": []
    },
    {
      "cell_type": "code",
      "metadata": {
        "id": "vykDsGL3YZ7f",
        "colab_type": "code",
        "outputId": "91dcccdc-bc7e-4cc1-ea38-596fe0f1b487",
        "colab": {
          "base_uri": "https://localhost:8080/",
          "height": 372
        }
      },
      "source": [
        "# Create a random forest classifier\n",
        "clf = RandomForestClassifier(n_estimators=100, random_state=42, max_depth=15, min_samples_leaf=3, n_jobs=-1)\n",
        "\n",
        "# Train the classifier\n",
        "clf.fit(X, y)\n",
        "\n",
        "# Print the name and gini importance of each feature\n",
        "for feature in zip(featureList , clf.feature_importances_):\n",
        "    print(feature)"
      ],
      "execution_count": 16,
      "outputs": [
        {
          "output_type": "stream",
          "text": [
            "('salary', 0.15854189042471362)\n",
            "('duration', 0.10631961748613251)\n",
            "('creditHistory', 0.05912139900331556)\n",
            "('purpose', 0.0538410304399028)\n",
            "('creditAmount', 0.13543089003608777)\n",
            "('savingAccount/bonds', 0.0520422757429839)\n",
            "('employmentSince', 0.04776494168934713)\n",
            "('installmentRate', 0.04111330501804116)\n",
            "('personalStatus', 0.03744396877050522)\n",
            "('otherDebtors', 0.012813887899022613)\n",
            "('presentResidenceSince', 0.04242635531050019)\n",
            "('property', 0.038047713091531016)\n",
            "('age', 0.0958528066742112)\n",
            "('otherInstallmentPlan', 0.03109351428304357)\n",
            "('housing', 0.022545303028238733)\n",
            "('numberOfExistingCredits', 0.014466624960644572)\n",
            "('job', 0.023631111182157095)\n",
            "('maintenance ', 0.01045795692232315)\n",
            "('telephone', 0.015033756053221442)\n",
            "('foreignWorker', 0.002011651984076874)\n"
          ],
          "name": "stdout"
        }
      ]
    },
    {
      "cell_type": "markdown",
      "metadata": {
        "id": "XCPFtsNuYZ7h",
        "colab_type": "text"
      },
      "source": [
        "## 1 - Logistic Regression"
      ]
    },
    {
      "cell_type": "code",
      "metadata": {
        "id": "mUoLVjNwYZ7i",
        "colab_type": "code",
        "outputId": "b9e0ce2c-4357-4447-fcec-b90d4e27a745",
        "colab": {
          "base_uri": "https://localhost:8080/",
          "height": 266
        }
      },
      "source": [
        "# Calcuate Feature Importance\n",
        "# Create a random forest classifier feature selection\n",
        "clf = RandomForestClassifier(n_estimators=100, random_state=42, max_depth=15, min_samples_leaf=3, n_jobs=-1)\n",
        "\n",
        "# Train the classifier\n",
        "clf.fit(X, y)\n",
        "\n",
        "# Create a selector object to identify features that have gini importance greater than \n",
        "# 0.035 (LR), 0.03 (ANN), 0.035 (DT), 0.01 (GBDT), 0.01 (kNN), 0.02 (RF) , 0.015 (SVM)\n",
        "sfmLR = SelectFromModel(clf, threshold = 0.035)\n",
        "\n",
        "# Train the selector\n",
        "sfmLR.fit(X, y)\n",
        "\n",
        "# Print the selected features\n",
        "numberOfSelectedFeatures = 0\n",
        "for featureListIndex in sfmLR.get_support(indices=True):\n",
        "    print(featureList[featureListIndex])\n",
        "    numberOfSelectedFeatures = numberOfSelectedFeatures + 1\n",
        "\n",
        "print('-'*100)\n",
        "print(\"Number of selected featurs: \", numberOfSelectedFeatures)\n",
        "\n",
        "# Define Label and Features for testDataset\n",
        "XX = testDataset.drop('creditStatus', axis=1)\n",
        "yy = testDataset['creditStatus']\n",
        "\n",
        "# Transform the data to create a new dataset containing only the selected features\n",
        "# Apply the transform to the training X and test X data.\n",
        "X_important_train = sfmLR.transform(X)\n",
        "XX_important = sfmLR.transform(XX)"
      ],
      "execution_count": 17,
      "outputs": [
        {
          "output_type": "stream",
          "text": [
            "salary\n",
            "duration\n",
            "creditHistory\n",
            "purpose\n",
            "creditAmount\n",
            "savingAccount/bonds\n",
            "employmentSince\n",
            "installmentRate\n",
            "personalStatus\n",
            "presentResidenceSince\n",
            "property\n",
            "age\n",
            "----------------------------------------------------------------------------------------------------\n",
            "Number of selected featurs:  12\n"
          ],
          "name": "stdout"
        }
      ]
    },
    {
      "cell_type": "code",
      "metadata": {
        "id": "SuPOUoVSYZ7k",
        "colab_type": "code",
        "outputId": "14305023-ab44-4bdd-d66d-140037b1d21b",
        "colab": {
          "base_uri": "https://localhost:8080/",
          "height": 724
        }
      },
      "source": [
        "# Create a new Logistic Regression classifier for the selected features\n",
        "LR_clf_important = LogisticRegression(random_state=42)\n",
        "\n",
        "# Train the new classifier on the new dataset containing the selected features\n",
        "LR_clf_important.fit(X_important_train, y)\n",
        "\n",
        "# Apply The Full Featured Classifier To The Test Data\n",
        "yy_pred = LR_clf_important.predict(XX_important)\n",
        "\n",
        "# View The Accuracy Of Selected Features\n",
        "print(\"Accuracy of Test set : \",accuracy_score(yy, yy_pred))\n",
        "print('-'*100)\n",
        "      \n",
        "#  Cross Validation Score\n",
        "cv_scores = cross_val_score(LR_clf_important, XX, yy, cv=5)\n",
        "print(\"Cross validation - Accuracy of Test set : \", np.mean(cv_scores))\n",
        "print('-'*100)\n",
        "      \n",
        "# Confusion Matrix\n",
        "cm = confusion_matrix(yy, yy_pred, [1, 0])\n",
        "print(\"Confusion Matrix:\")\n",
        "print(cm)\n",
        "print(\"Classification Report:\")\n",
        "print(classification_report(yy, yy_pred))\n",
        "print('-'*100)\n",
        "\n",
        "# Normalisation Confusion Matrix - Type I and II error\n",
        "cm = normalize(cm,norm='l1',axis=0)\n",
        "cm_df = pd.DataFrame(cm, columns=['Good (1)', 'Bad (0)'], index=['Good (1)', 'Bad (0)'])\n",
        "print(\"Normalized Confusion Matrix:\")\n",
        "print(cm_df)\n",
        "print('-'*100)\n",
        "      \n",
        "# The ROC Curve\n",
        "yy_pred_prob = LR_clf_important.predict_proba(XX_important)[:,1]\n",
        "fpr, tpr, thresholds = roc_curve(yy, yy_pred_prob)\n",
        "plt.plot([0, 1], [0, 1], 'k--')\n",
        "plt.plot(fpr,tpr)\n",
        "plt.xlabel('FPR')\n",
        "plt.ylabel('TPR')\n",
        "plt.show()\n",
        "      \n",
        "# AUC Area under the roc curve \n",
        "print(\"AUC of Test set : \",roc_auc_score(yy, yy_pred_prob))\n",
        "      \n",
        "# Matthews Correlation Coefficient\n",
        "print(\"MCC of Test set : \",matthews_corrcoef(yy, yy_pred))"
      ],
      "execution_count": 18,
      "outputs": [
        {
          "output_type": "stream",
          "text": [
            "Accuracy of Test set :  0.7966666666666666\n",
            "----------------------------------------------------------------------------------------------------\n",
            "Cross validation - Accuracy of Test set :  0.7799999999999999\n",
            "----------------------------------------------------------------------------------------------------\n",
            "Confusion Matrix:\n",
            "[[190  18]\n",
            " [ 43  49]]\n",
            "Classification Report:\n",
            "              precision    recall  f1-score   support\n",
            "\n",
            "         0.0       0.73      0.53      0.62        92\n",
            "         1.0       0.82      0.91      0.86       208\n",
            "\n",
            "    accuracy                           0.80       300\n",
            "   macro avg       0.77      0.72      0.74       300\n",
            "weighted avg       0.79      0.80      0.79       300\n",
            "\n",
            "----------------------------------------------------------------------------------------------------\n",
            "Normalized Confusion Matrix:\n",
            "          Good (1)   Bad (0)\n",
            "Good (1)  0.815451  0.268657\n",
            "Bad (0)   0.184549  0.731343\n",
            "----------------------------------------------------------------------------------------------------\n"
          ],
          "name": "stdout"
        },
        {
          "output_type": "display_data",
          "data": {
            "image/png": "[encoded data removed]",
            "text/plain": [
              "<Figure size 432x288 with 1 Axes>"
            ]
          },
          "metadata": {
            "tags": []
          }
        },
        {
          "output_type": "stream",
          "text": [
            "AUC of Test set :  0.8155831939799331\n",
            "MCC of Test set :  0.49387092968603324\n"
          ],
          "name": "stdout"
        }
      ]
    },
    {
      "cell_type": "code",
      "metadata": {
        "id": "o4KaqjCbYZ7n",
        "colab_type": "code",
        "colab": {}
      },
      "source": [
        "LRTest = LR_clf_important.predict(XX_important)\n",
        "LR = LR_clf_important.predict(X_important_train)"
      ],
      "execution_count": 0,
      "outputs": []
    },
    {
      "cell_type": "markdown",
      "metadata": {
        "id": "aHqUiC30YZ7q",
        "colab_type": "text"
      },
      "source": [
        "## 2 - ANN"
      ]
    },
    {
      "cell_type": "code",
      "metadata": {
        "id": "084LmfiqYZ7q",
        "colab_type": "code",
        "outputId": "e7b7e68d-9065-4c01-cd4e-cd4993a04049",
        "colab": {
          "base_uri": "https://localhost:8080/",
          "height": 284
        }
      },
      "source": [
        "# Calcuate Feature Importance\n",
        "# Create a random forest classifier feature selection\n",
        "clf = RandomForestClassifier(n_estimators=100, random_state=42, max_depth=15, min_samples_leaf=3, n_jobs=-1)\n",
        "\n",
        "# Train the classifier\n",
        "clf.fit(X, y)\n",
        "\n",
        "# Create a selector object to identify features that have gini importance greater than \n",
        "# 0.035 (LR), 0.03 (ANN), 0.035 (DT), 0.01 (GBDT), 0.01 (kNN), 0.02 (RF) , 0.015 (SVM)\n",
        "sfmANN = SelectFromModel(clf, threshold = 0.03)\n",
        "\n",
        "# Train the selector\n",
        "sfmANN.fit(X, y)\n",
        "\n",
        "# Print the selected features\n",
        "numberOfSelectedFeatures = 0\n",
        "for featureListIndex in sfmANN.get_support(indices=True):\n",
        "    print(featureList[featureListIndex])\n",
        "    numberOfSelectedFeatures = numberOfSelectedFeatures + 1\n",
        "\n",
        "print('-'*100)\n",
        "print(\"Number of selected featurs: \", numberOfSelectedFeatures)\n",
        "\n",
        "# Define Label and Features for testDataset\n",
        "XX = testDataset.drop('creditStatus', axis=1)\n",
        "yy = testDataset['creditStatus']\n",
        "\n",
        "# Transform the data to create a new dataset containing only the selected features\n",
        "# Apply the transform to the training X and test X data.\n",
        "X_important_train = sfmANN.transform(X)\n",
        "XX_important = sfmANN.transform(XX)"
      ],
      "execution_count": 20,
      "outputs": [
        {
          "output_type": "stream",
          "text": [
            "salary\n",
            "duration\n",
            "creditHistory\n",
            "purpose\n",
            "creditAmount\n",
            "savingAccount/bonds\n",
            "employmentSince\n",
            "installmentRate\n",
            "personalStatus\n",
            "presentResidenceSince\n",
            "property\n",
            "age\n",
            "otherInstallmentPlan\n",
            "----------------------------------------------------------------------------------------------------\n",
            "Number of selected featurs:  13\n"
          ],
          "name": "stdout"
        }
      ]
    },
    {
      "cell_type": "code",
      "metadata": {
        "id": "vEWNIabsYZ7s",
        "colab_type": "code",
        "colab": {}
      },
      "source": [
        "# # Grid Search - Hyperparameter Tunning\n",
        "\n",
        "# param = {'hidden_layer_sizes': np.arange(10,50) , \"alpha\": [0.001, 0.01, 0.1, 1]}\n",
        "\n",
        "# clf = MLPClassifier(random_state=42)\n",
        "# clf_cv = GridSearchCV(clf, param, cv=5) \n",
        "# clf_cv.fit(X_important_train, y)\n",
        "# print(clf_cv.best_params_)\n",
        "# print(clf_cv.best_score_)\n",
        "\n",
        "# # {'alpha': 0.001, 'hidden_layer_sizes': 38}"
      ],
      "execution_count": 0,
      "outputs": []
    },
    {
      "cell_type": "code",
      "metadata": {
        "id": "C1-vSC-wYZ7u",
        "colab_type": "code",
        "outputId": "cd7e2384-1139-47a1-b2f6-388db0173b74",
        "colab": {
          "base_uri": "https://localhost:8080/",
          "height": 724
        }
      },
      "source": [
        "# Create a new MLP classifier for the selected features\n",
        "ANN_clf_important = MLPClassifier(alpha = 0.001, hidden_layer_sizes = (38) ,random_state = 42)\n",
        "\n",
        "# Train the new classifier on the new dataset containing the selected features\n",
        "ANN_clf_important.fit(X_important_train, y)\n",
        "\n",
        "# Apply The Full Featured Classifier To The Test Data\n",
        "yy_pred = ANN_clf_important.predict(XX_important)\n",
        "\n",
        "# View The Accuracy Of Selected Features\n",
        "print(\"Accuracy of Test set : \",accuracy_score(yy, yy_pred))\n",
        "print('-'*100)\n",
        "      \n",
        "#  Cross Validation Score\n",
        "cv_scores = cross_val_score(ANN_clf_important, XX, yy, cv=5)\n",
        "print(\"Cross validation - Accuracy of Test set : \", np.mean(cv_scores))\n",
        "print('-'*100)\n",
        "      \n",
        "# Confusion Matrix\n",
        "cm = confusion_matrix(yy, yy_pred, [1, 0])\n",
        "print(\"Confusion Matrix:\")\n",
        "print(cm)\n",
        "print(\"Classification Report:\")\n",
        "print(classification_report(yy, yy_pred))\n",
        "print('-'*100)\n",
        "\n",
        "# Normalisation Confusion Matrix - Type I and II error\n",
        "cm = normalize(cm,norm='l1',axis=0)\n",
        "cm_df = pd.DataFrame(cm, columns=['Good (1)', 'Bad (0)'], index=['Good (1)', 'Bad (0)'])\n",
        "print(\"Normalized Confusion Matrix:\")\n",
        "print(cm_df)\n",
        "print('-'*100)\n",
        "      \n",
        "# The ROC Curve\n",
        "yy_pred_prob = ANN_clf_important.predict_proba(XX_important)[:,1]\n",
        "fpr, tpr, thresholds = roc_curve(yy, yy_pred_prob)\n",
        "plt.plot([0, 1], [0, 1], 'k--')\n",
        "plt.plot(fpr,tpr)\n",
        "plt.xlabel('FPR')\n",
        "plt.ylabel('TPR')\n",
        "plt.show()\n",
        "      \n",
        "# AUC Area under the roc curve \n",
        "print(\"AUC of Test set : \",roc_auc_score(yy, yy_pred_prob))\n",
        "      \n",
        "# Matthews Correlation Coefficient\n",
        "print(\"MCC of Test set : \",matthews_corrcoef(yy, yy_pred))"
      ],
      "execution_count": 22,
      "outputs": [
        {
          "output_type": "stream",
          "text": [
            "Accuracy of Test set :  0.7966666666666666\n",
            "----------------------------------------------------------------------------------------------------\n",
            "Cross validation - Accuracy of Test set :  0.7933333333333333\n",
            "----------------------------------------------------------------------------------------------------\n",
            "Confusion Matrix:\n",
            "[[190  18]\n",
            " [ 43  49]]\n",
            "Classification Report:\n",
            "              precision    recall  f1-score   support\n",
            "\n",
            "         0.0       0.73      0.53      0.62        92\n",
            "         1.0       0.82      0.91      0.86       208\n",
            "\n",
            "    accuracy                           0.80       300\n",
            "   macro avg       0.77      0.72      0.74       300\n",
            "weighted avg       0.79      0.80      0.79       300\n",
            "\n",
            "----------------------------------------------------------------------------------------------------\n",
            "Normalized Confusion Matrix:\n",
            "          Good (1)   Bad (0)\n",
            "Good (1)  0.815451  0.268657\n",
            "Bad (0)   0.184549  0.731343\n",
            "----------------------------------------------------------------------------------------------------\n"
          ],
          "name": "stdout"
        },
        {
          "output_type": "display_data",
          "data": {
            "image/png": "[encoded data removed]",
            "text/plain": [
              "<Figure size 432x288 with 1 Axes>"
            ]
          },
          "metadata": {
            "tags": []
          }
        },
        {
          "output_type": "stream",
          "text": [
            "AUC of Test set :  0.8153219063545151\n",
            "MCC of Test set :  0.49387092968603324\n"
          ],
          "name": "stdout"
        }
      ]
    },
    {
      "cell_type": "code",
      "metadata": {
        "id": "fmi93VVLYZ7w",
        "colab_type": "code",
        "colab": {}
      },
      "source": [
        "ANNTest = ANN_clf_important.predict(XX_important)\n",
        "ANN = ANN_clf_important.predict(X_important_train)"
      ],
      "execution_count": 0,
      "outputs": []
    },
    {
      "cell_type": "markdown",
      "metadata": {
        "id": "KFBNOcfZYZ7z",
        "colab_type": "text"
      },
      "source": [
        "## 3 - Decision Trees"
      ]
    },
    {
      "cell_type": "code",
      "metadata": {
        "id": "sp9ROIIwYZ7z",
        "colab_type": "code",
        "outputId": "5a6b6e3f-0efb-46f3-86a0-0b703e2677de",
        "colab": {
          "base_uri": "https://localhost:8080/",
          "height": 266
        }
      },
      "source": [
        "# Calcuate Feature Importance\n",
        "# Create a random forest classifier feature selection\n",
        "clf = RandomForestClassifier(n_estimators=100, random_state=42, max_depth=15, min_samples_leaf=3, n_jobs=-1)\n",
        "\n",
        "# Train the classifier\n",
        "clf.fit(X, y)\n",
        "\n",
        "# Create a selector object to identify features that have gini importance greater than \n",
        "# 0.035 (LR), 0.03 (ANN), 0.035 (DT), 0.01 (GBDT), 0.01 (kNN), 0.02 (RF) , 0.015 (SVM)\n",
        "sfmDT = SelectFromModel(clf, threshold = 0.035)\n",
        "\n",
        "# Train the selector\n",
        "sfmDT.fit(X, y)\n",
        "\n",
        "# Print the selected features\n",
        "numberOfSelectedFeatures = 0\n",
        "for featureListIndex in sfmDT.get_support(indices=True):\n",
        "    print(featureList[featureListIndex])\n",
        "    numberOfSelectedFeatures = numberOfSelectedFeatures + 1\n",
        "\n",
        "print('-'*100)\n",
        "print(\"Number of selected featurs: \", numberOfSelectedFeatures)\n",
        "\n",
        "# Define Label and Features for testDataset\n",
        "XX = testDataset.drop('creditStatus', axis=1)\n",
        "yy = testDataset['creditStatus']\n",
        "\n",
        "# Transform the data to create a new dataset containing only the selected features\n",
        "# Apply the transform to the training X and test X data.\n",
        "X_important_train = sfmDT.transform(X)\n",
        "XX_important = sfmDT.transform(XX)"
      ],
      "execution_count": 24,
      "outputs": [
        {
          "output_type": "stream",
          "text": [
            "salary\n",
            "duration\n",
            "creditHistory\n",
            "purpose\n",
            "creditAmount\n",
            "savingAccount/bonds\n",
            "employmentSince\n",
            "installmentRate\n",
            "personalStatus\n",
            "presentResidenceSince\n",
            "property\n",
            "age\n",
            "----------------------------------------------------------------------------------------------------\n",
            "Number of selected featurs:  12\n"
          ],
          "name": "stdout"
        }
      ]
    },
    {
      "cell_type": "code",
      "metadata": {
        "id": "8S518QmxYZ72",
        "colab_type": "code",
        "colab": {}
      },
      "source": [
        "# # Grid Search - Hyperparameter Tunning\n",
        "\n",
        "# param = {'min_samples_split': np.arange (5, 20), 'max_depth': np.arange(5, 15)}\n",
        "\n",
        "# clf = DecisionTreeClassifier(random_state = 42)\n",
        "# clf_cv = GridSearchCV(clf, param, cv=5) \n",
        "# clf_cv.fit(X_important_train, y)\n",
        "# print(clf_cv.best_params_)\n",
        "# print(clf_cv.best_score_)\n",
        "\n",
        "# # {'max_depth': 6, 'min_samples_split': 8}"
      ],
      "execution_count": 0,
      "outputs": []
    },
    {
      "cell_type": "code",
      "metadata": {
        "id": "Gk9nzpcAYZ74",
        "colab_type": "code",
        "outputId": "3fe696b5-e102-43ac-b4a0-a52378068417",
        "colab": {
          "base_uri": "https://localhost:8080/",
          "height": 724
        }
      },
      "source": [
        "# Create a new decision tree classifier for the selected features\n",
        "DT_clf_important = DecisionTreeClassifier(min_samples_split = 8, random_state = 42, max_depth = 6)\n",
        "\n",
        "# Train the new classifier on the new dataset containing the selected features\n",
        "DT_clf_important.fit(X_important_train, y)\n",
        "\n",
        "# Apply The Full Featured Classifier To The Test Data\n",
        "yy_pred = DT_clf_important.predict(XX_important)\n",
        "\n",
        "# View The Accuracy Of Selected Features\n",
        "print(\"Accuracy of Test set : \",accuracy_score(yy, yy_pred))\n",
        "print('-'*100)\n",
        "      \n",
        "#  Cross Validation Score\n",
        "cv_scores = cross_val_score(DT_clf_important, XX, yy, cv=5)\n",
        "print(\"Cross validation - Accuracy of Test set : \", np.mean(cv_scores))\n",
        "print('-'*100)\n",
        "      \n",
        "# Confusion Matrix\n",
        "cm = confusion_matrix(yy, yy_pred, [1, 0])\n",
        "print(\"Confusion Matrix:\")\n",
        "print(cm)\n",
        "print(\"Classification Report:\")\n",
        "print(classification_report(yy, yy_pred))\n",
        "print('-'*100)\n",
        "\n",
        "# Normalisation Confusion Matrix - Type I and II error\n",
        "cm = normalize(cm,norm='l1',axis=0)\n",
        "cm_df = pd.DataFrame(cm, columns=['Good (1)', 'Bad (0)'], index=['Good (1)', 'Bad (0)'])\n",
        "print(\"Normalized Confusion Matrix:\")\n",
        "print(cm_df)\n",
        "print('-'*100)\n",
        "      \n",
        "# The ROC Curve\n",
        "yy_pred_prob = DT_clf_important.predict_proba(XX_important)[:,1]\n",
        "fpr, tpr, thresholds = roc_curve(yy, yy_pred_prob)\n",
        "plt.plot([0, 1], [0, 1], 'k--')\n",
        "plt.plot(fpr,tpr)\n",
        "plt.xlabel('FPR')\n",
        "plt.ylabel('TPR')\n",
        "plt.show()\n",
        "      \n",
        "# AUC Area under the roc curve \n",
        "print(\"AUC of Test set : \",roc_auc_score(yy, yy_pred_prob))\n",
        "      \n",
        "# Matthews Correlation Coefficient\n",
        "print(\"MCC of Test set : \",matthews_corrcoef(yy, yy_pred))"
      ],
      "execution_count": 26,
      "outputs": [
        {
          "output_type": "stream",
          "text": [
            "Accuracy of Test set :  0.73\n",
            "----------------------------------------------------------------------------------------------------\n",
            "Cross validation - Accuracy of Test set :  0.6599999999999999\n",
            "----------------------------------------------------------------------------------------------------\n",
            "Confusion Matrix:\n",
            "[[177  31]\n",
            " [ 50  42]]\n",
            "Classification Report:\n",
            "              precision    recall  f1-score   support\n",
            "\n",
            "         0.0       0.58      0.46      0.51        92\n",
            "         1.0       0.78      0.85      0.81       208\n",
            "\n",
            "    accuracy                           0.73       300\n",
            "   macro avg       0.68      0.65      0.66       300\n",
            "weighted avg       0.72      0.73      0.72       300\n",
            "\n",
            "----------------------------------------------------------------------------------------------------\n",
            "Normalized Confusion Matrix:\n",
            "          Good (1)   Bad (0)\n",
            "Good (1)  0.779736  0.424658\n",
            "Bad (0)   0.220264  0.575342\n",
            "----------------------------------------------------------------------------------------------------\n"
          ],
          "name": "stdout"
        },
        {
          "output_type": "display_data",
          "data": {
            "image/png": "[encoded data removed]",
            "text/plain": [
              "<Figure size 432x288 with 1 Axes>"
            ]
          },
          "metadata": {
            "tags": []
          }
        },
        {
          "output_type": "stream",
          "text": [
            "AUC of Test set :  0.7278428093645485\n",
            "MCC of Test set :  0.3304248672912749\n"
          ],
          "name": "stdout"
        }
      ]
    },
    {
      "cell_type": "code",
      "metadata": {
        "id": "dodZURkMYZ76",
        "colab_type": "code",
        "colab": {}
      },
      "source": [
        "DTTest = DT_clf_important.predict(XX_important)\n",
        "DT = DT_clf_important.predict(X_important_train)"
      ],
      "execution_count": 0,
      "outputs": []
    },
    {
      "cell_type": "markdown",
      "metadata": {
        "id": "e8kpR2WSYZ78",
        "colab_type": "text"
      },
      "source": [
        "## 4 - Gradient Boosting Decision Trees "
      ]
    },
    {
      "cell_type": "code",
      "metadata": {
        "id": "E5CEcCkeYZ79",
        "colab_type": "code",
        "outputId": "8d51daed-cda4-4205-b452-475c6fd1fa9e",
        "colab": {
          "base_uri": "https://localhost:8080/",
          "height": 390
        }
      },
      "source": [
        "# Calcuate Feature Importance\n",
        "# Create a random forest classifier feature selection\n",
        "clf = RandomForestClassifier(n_estimators=100, random_state=42, max_depth=15, min_samples_leaf=3, n_jobs=-1)\n",
        "\n",
        "# Train the classifier\n",
        "clf.fit(X, y)\n",
        "\n",
        "# Create a selector object to identify features that have gini importance greater than \n",
        "# 0.035 (LR), 0.03 (ANN), 0.035 (DT), 0.01 (GBDT), 0.01 (kNN), 0.02 (RF) , 0.015 (SVM)\n",
        "sfmGBDT = SelectFromModel(clf, threshold = 0.01)\n",
        "\n",
        "# Train the selector\n",
        "sfmGBDT.fit(X, y)\n",
        "\n",
        "# Print the selected features\n",
        "numberOfSelectedFeatures = 0\n",
        "for featureListIndex in sfmGBDT.get_support(indices=True):\n",
        "    print(featureList[featureListIndex])\n",
        "    numberOfSelectedFeatures = numberOfSelectedFeatures + 1\n",
        "\n",
        "print('-'*100)\n",
        "print(\"Number of selected featurs: \", numberOfSelectedFeatures)\n",
        "\n",
        "# Define Label and Features for testDataset\n",
        "XX = testDataset.drop('creditStatus', axis=1)\n",
        "yy = testDataset['creditStatus']\n",
        "\n",
        "# Transform the data to create a new dataset containing only the selected features\n",
        "# Apply the transform to the training X and test X data.\n",
        "X_important_train = sfmGBDT.transform(X)\n",
        "XX_important = sfmGBDT.transform(XX)"
      ],
      "execution_count": 28,
      "outputs": [
        {
          "output_type": "stream",
          "text": [
            "salary\n",
            "duration\n",
            "creditHistory\n",
            "purpose\n",
            "creditAmount\n",
            "savingAccount/bonds\n",
            "employmentSince\n",
            "installmentRate\n",
            "personalStatus\n",
            "otherDebtors\n",
            "presentResidenceSince\n",
            "property\n",
            "age\n",
            "otherInstallmentPlan\n",
            "housing\n",
            "numberOfExistingCredits\n",
            "job\n",
            "maintenance \n",
            "telephone\n",
            "----------------------------------------------------------------------------------------------------\n",
            "Number of selected featurs:  19\n"
          ],
          "name": "stdout"
        }
      ]
    },
    {
      "cell_type": "code",
      "metadata": {
        "id": "Y490r6V5YZ7_",
        "colab_type": "code",
        "colab": {}
      },
      "source": [
        "# # Grid Search - Hyperparameter Tunning\n",
        "\n",
        "# param = {\"max_depth\": np.arange(5, 25), \"n_estimators\": [100, 200, 300, 400, 500], \"learning_rate\": [0.001, 0.01, 0.1, 1]}\n",
        "\n",
        "# clf = GradientBoostingClassifier(random_state=42)\n",
        "# clf_cv = GridSearchCV(clf, param, cv=5) \n",
        "# clf_cv.fit(X_important_train, y)\n",
        "# print(clf_cv.best_params_)\n",
        "# print(clf_cv.best_score_)\n",
        "\n",
        "# # {'learning_rate': 0.1, 'max_depth': 5, 'n_estimators': 300}"
      ],
      "execution_count": 0,
      "outputs": []
    },
    {
      "cell_type": "code",
      "metadata": {
        "id": "WTkMfMP1YZ8B",
        "colab_type": "code",
        "outputId": "aa7d1781-5356-47c0-9386-77dd22b0e044",
        "colab": {
          "base_uri": "https://localhost:8080/",
          "height": 724
        }
      },
      "source": [
        "# Create a new GBDT classifier for the selected features\n",
        "GBDT_clf_important = GradientBoostingClassifier(learning_rate=0.1, max_depth=5, n_estimators=300, random_state=42)\n",
        "\n",
        "# Train the new classifier on the new dataset containing the selected features\n",
        "GBDT_clf_important.fit(X_important_train, y)\n",
        "\n",
        "# Apply The Full Featured Classifier To The Test Data\n",
        "yy_pred = GBDT_clf_important.predict(XX_important)\n",
        "\n",
        "# View The Accuracy Of Selected Features\n",
        "print(\"Accuracy of Test set : \",accuracy_score(yy, yy_pred))\n",
        "print('-'*100)\n",
        "      \n",
        "#  Cross Validation Score\n",
        "cv_scores = cross_val_score(GBDT_clf_important, XX, yy, cv=5)\n",
        "print(\"Cross validation - Accuracy of Test set : \", np.mean(cv_scores))\n",
        "print('-'*100)\n",
        "      \n",
        "# Confusion Matrix\n",
        "cm = confusion_matrix(yy, yy_pred, [1, 0])\n",
        "print(\"Confusion Matrix:\")\n",
        "print(cm)\n",
        "print(\"Classification Report:\")\n",
        "print(classification_report(yy, yy_pred))\n",
        "print('-'*100)\n",
        "\n",
        "# Normalisation Confusion Matrix - Type I and II error\n",
        "cm = normalize(cm,norm='l1',axis=0)\n",
        "cm_df = pd.DataFrame(cm, columns=['Good (1)', 'Bad (0)'], index=['Good (1)', 'Bad (0)'])\n",
        "print(\"Normalized Confusion Matrix:\")\n",
        "print(cm_df)\n",
        "print('-'*100)\n",
        "      \n",
        "# The ROC Curve\n",
        "yy_pred_prob = GBDT_clf_important.predict_proba(XX_important)[:,1]\n",
        "fpr, tpr, thresholds = roc_curve(yy, yy_pred_prob)\n",
        "plt.plot([0, 1], [0, 1], 'k--')\n",
        "plt.plot(fpr,tpr)\n",
        "plt.xlabel('FPR')\n",
        "plt.ylabel('TPR')\n",
        "plt.show()\n",
        "      \n",
        "# AUC Area under the roc curve \n",
        "print(\"AUC of Test set : \",roc_auc_score(yy, yy_pred_prob))\n",
        "      \n",
        "# Matthews Correlation Coefficient\n",
        "print(\"MCC of Test set : \",matthews_corrcoef(yy, yy_pred))"
      ],
      "execution_count": 30,
      "outputs": [
        {
          "output_type": "stream",
          "text": [
            "Accuracy of Test set :  0.77\n",
            "----------------------------------------------------------------------------------------------------\n",
            "Cross validation - Accuracy of Test set :  0.7633333333333334\n",
            "----------------------------------------------------------------------------------------------------\n",
            "Confusion Matrix:\n",
            "[[177  31]\n",
            " [ 38  54]]\n",
            "Classification Report:\n",
            "              precision    recall  f1-score   support\n",
            "\n",
            "         0.0       0.64      0.59      0.61        92\n",
            "         1.0       0.82      0.85      0.84       208\n",
            "\n",
            "    accuracy                           0.77       300\n",
            "   macro avg       0.73      0.72      0.72       300\n",
            "weighted avg       0.77      0.77      0.77       300\n",
            "\n",
            "----------------------------------------------------------------------------------------------------\n",
            "Normalized Confusion Matrix:\n",
            "          Good (1)   Bad (0)\n",
            "Good (1)  0.823256  0.364706\n",
            "Bad (0)   0.176744  0.635294\n",
            "----------------------------------------------------------------------------------------------------\n"
          ],
          "name": "stdout"
        },
        {
          "output_type": "display_data",
          "data": {
            "image/png": "[encoded data removed]",
            "text/plain": [
              "<Figure size 432x288 with 1 Axes>"
            ]
          },
          "metadata": {
            "tags": []
          }
        },
        {
          "output_type": "stream",
          "text": [
            "AUC of Test set :  0.7974498327759199\n",
            "MCC of Test set :  0.4481152715001588\n"
          ],
          "name": "stdout"
        }
      ]
    },
    {
      "cell_type": "code",
      "metadata": {
        "id": "nITkJgKmYZ8D",
        "colab_type": "code",
        "colab": {}
      },
      "source": [
        "GBDTTest = GBDT_clf_important.predict(XX_important)\n",
        "GBDT = GBDT_clf_important.predict(X_important_train)"
      ],
      "execution_count": 0,
      "outputs": []
    },
    {
      "cell_type": "markdown",
      "metadata": {
        "id": "Sk3oGJwlYZ8F",
        "colab_type": "text"
      },
      "source": [
        "## 5 - kNN"
      ]
    },
    {
      "cell_type": "code",
      "metadata": {
        "id": "TMQeYkzLYZ8F",
        "colab_type": "code",
        "outputId": "56e572e9-664d-4cd6-972e-ed545a7295fa",
        "colab": {
          "base_uri": "https://localhost:8080/",
          "height": 390
        }
      },
      "source": [
        "# Calcuate Feature Importance\n",
        "# Create a random forest classifier feature selection\n",
        "clf = RandomForestClassifier(n_estimators=100, random_state=42, max_depth=15, min_samples_leaf=3, n_jobs=-1)\n",
        "\n",
        "# Train the classifier\n",
        "clf.fit(X, y)\n",
        "\n",
        "# Create a selector object to identify features that have gini importance greater than \n",
        "# 0.035 (LR), 0.03 (ANN), 0.035 (DT), 0.01 (GBDT), 0.01 (kNN), 0.02 (RF) , 0.015 (SVM)\n",
        "sfmKNN = SelectFromModel(clf, threshold = 0.01)\n",
        "\n",
        "# Train the selector\n",
        "sfmKNN.fit(X, y)\n",
        "\n",
        "# Print the selected features\n",
        "numberOfSelectedFeatures = 0\n",
        "for featureListIndex in sfmKNN.get_support(indices=True):\n",
        "    print(featureList[featureListIndex])\n",
        "    numberOfSelectedFeatures = numberOfSelectedFeatures + 1\n",
        "\n",
        "print('-'*100)\n",
        "print(\"Number of selected featurs: \", numberOfSelectedFeatures)\n",
        "\n",
        "# Define Label and Features for testDataset\n",
        "XX = testDataset.drop('creditStatus', axis=1)\n",
        "yy = testDataset['creditStatus']\n",
        "\n",
        "# Transform the data to create a new dataset containing only the selected features\n",
        "# Apply the transform to the training X and test X data.\n",
        "X_important_train = sfmKNN.transform(X)\n",
        "XX_important = sfmKNN.transform(XX)"
      ],
      "execution_count": 32,
      "outputs": [
        {
          "output_type": "stream",
          "text": [
            "salary\n",
            "duration\n",
            "creditHistory\n",
            "purpose\n",
            "creditAmount\n",
            "savingAccount/bonds\n",
            "employmentSince\n",
            "installmentRate\n",
            "personalStatus\n",
            "otherDebtors\n",
            "presentResidenceSince\n",
            "property\n",
            "age\n",
            "otherInstallmentPlan\n",
            "housing\n",
            "numberOfExistingCredits\n",
            "job\n",
            "maintenance \n",
            "telephone\n",
            "----------------------------------------------------------------------------------------------------\n",
            "Number of selected featurs:  19\n"
          ],
          "name": "stdout"
        }
      ]
    },
    {
      "cell_type": "code",
      "metadata": {
        "id": "-eYnYApfYZ8H",
        "colab_type": "code",
        "colab": {}
      },
      "source": [
        "# # Grid Search - Hyperparameter Tunning\n",
        "\n",
        "# param = {'n_neighbors': np.arange(3, 10)}\n",
        "\n",
        "# clf = KNeighborsClassifier()\n",
        "# clf_cv = GridSearchCV(clf, param, cv=5) \n",
        "# clf_cv.fit(X_important_train, y)\n",
        "# print(clf_cv.best_params_)\n",
        "# print(clf_cv.best_score_)\n",
        "\n",
        "# # {'n_neighbors': 9}"
      ],
      "execution_count": 0,
      "outputs": []
    },
    {
      "cell_type": "code",
      "metadata": {
        "id": "elpVmZ_gYZ8J",
        "colab_type": "code",
        "outputId": "345b7868-a162-436d-fb90-ee7c07fb6d7d",
        "colab": {
          "base_uri": "https://localhost:8080/",
          "height": 724
        }
      },
      "source": [
        "# Create a new kNN classifier for the selected features\n",
        "KNN_clf_important = KNeighborsClassifier(n_neighbors=9)\n",
        "\n",
        "# Train the new classifier on the new dataset containing the selected features\n",
        "KNN_clf_important.fit(X_important_train, y)\n",
        "\n",
        "# Apply The Full Featured Classifier To The Test Data\n",
        "yy_pred = KNN_clf_important.predict(XX_important)\n",
        "\n",
        "# View The Accuracy Of Selected Features\n",
        "print(\"Accuracy of Test set : \",accuracy_score(yy, yy_pred))\n",
        "print('-'*100)\n",
        "      \n",
        "#  Cross Validation Score\n",
        "cv_scores = cross_val_score(KNN_clf_important, XX, yy, cv=5)\n",
        "print(\"Cross validation - Accuracy of Test set : \", np.mean(cv_scores))\n",
        "print('-'*100)\n",
        "      \n",
        "# Confusion Matrix\n",
        "cm = confusion_matrix(yy, yy_pred, [1, 0])\n",
        "print(\"Confusion Matrix:\")\n",
        "print(cm)\n",
        "print(\"Classification Report:\")\n",
        "print(classification_report(yy, yy_pred))\n",
        "print('-'*100)\n",
        "\n",
        "# Normalisation Confusion Matrix - Type I and II error\n",
        "cm = normalize(cm,norm='l1',axis=0)\n",
        "cm_df = pd.DataFrame(cm, columns=['Good (1)', 'Bad (0)'], index=['Good (1)', 'Bad (0)'])\n",
        "print(\"Normalized Confusion Matrix:\")\n",
        "print(cm_df)\n",
        "print('-'*100)\n",
        "      \n",
        "# The ROC Curve\n",
        "yy_pred_prob = KNN_clf_important.predict_proba(XX_important)[:,1]\n",
        "fpr, tpr, thresholds = roc_curve(yy, yy_pred_prob)\n",
        "plt.plot([0, 1], [0, 1], 'k--')\n",
        "plt.plot(fpr,tpr)\n",
        "plt.xlabel('FPR')\n",
        "plt.ylabel('TPR')\n",
        "plt.show()\n",
        "      \n",
        "# AUC Area under the roc curve \n",
        "print(\"AUC of Test set : \",roc_auc_score(yy, yy_pred_prob))\n",
        "      \n",
        "# Matthews Correlation Coefficient\n",
        "print(\"MCC of Test set : \",matthews_corrcoef(yy, yy_pred))"
      ],
      "execution_count": 34,
      "outputs": [
        {
          "output_type": "stream",
          "text": [
            "Accuracy of Test set :  0.7566666666666667\n",
            "----------------------------------------------------------------------------------------------------\n",
            "Cross validation - Accuracy of Test set :  0.75\n",
            "----------------------------------------------------------------------------------------------------\n",
            "Confusion Matrix:\n",
            "[[191  17]\n",
            " [ 56  36]]\n",
            "Classification Report:\n",
            "              precision    recall  f1-score   support\n",
            "\n",
            "         0.0       0.68      0.39      0.50        92\n",
            "         1.0       0.77      0.92      0.84       208\n",
            "\n",
            "    accuracy                           0.76       300\n",
            "   macro avg       0.73      0.65      0.67       300\n",
            "weighted avg       0.74      0.76      0.73       300\n",
            "\n",
            "----------------------------------------------------------------------------------------------------\n",
            "Normalized Confusion Matrix:\n",
            "          Good (1)   Bad (0)\n",
            "Good (1)  0.773279  0.320755\n",
            "Bad (0)   0.226721  0.679245\n",
            "----------------------------------------------------------------------------------------------------\n"
          ],
          "name": "stdout"
        },
        {
          "output_type": "display_data",
          "data": {
            "image/png": "[encoded data removed]",
            "text/plain": [
              "<Figure size 432x288 with 1 Axes>"
            ]
          },
          "metadata": {
            "tags": []
          }
        },
        {
          "output_type": "stream",
          "text": [
            "AUC of Test set :  0.7374843227424748\n",
            "MCC of Test set :  0.3742855470566793\n"
          ],
          "name": "stdout"
        }
      ]
    },
    {
      "cell_type": "code",
      "metadata": {
        "id": "NB6_g-GKYZ8L",
        "colab_type": "code",
        "colab": {}
      },
      "source": [
        "KNNTest = KNN_clf_important.predict(XX_important)\n",
        "KNN = KNN_clf_important.predict(X_important_train)"
      ],
      "execution_count": 0,
      "outputs": []
    },
    {
      "cell_type": "markdown",
      "metadata": {
        "id": "qRBK8-UjYZ8N",
        "colab_type": "text"
      },
      "source": [
        "## 6 - Random Forest"
      ]
    },
    {
      "cell_type": "code",
      "metadata": {
        "id": "-zs0XXIMYZ8N",
        "colab_type": "code",
        "outputId": "ba98d9af-f44a-4fdf-9a09-68968702a982",
        "colab": {
          "base_uri": "https://localhost:8080/",
          "height": 319
        }
      },
      "source": [
        "# Calcuate Feature Importance\n",
        "# Create a random forest classifier feature selection\n",
        "clf = RandomForestClassifier(n_estimators=100, random_state=42, max_depth=15, min_samples_leaf=3, n_jobs=-1)\n",
        "\n",
        "# Train the classifier\n",
        "clf.fit(X, y)\n",
        "\n",
        "# Create a selector object to identify features that have gini importance greater than \n",
        "# 0.035 (LR), 0.03 (ANN), 0.035 (DT), 0.01 (GBDT), 0.01 (kNN), 0.02 (RF) , 0.015 (SVM)\n",
        "sfmRF = SelectFromModel(clf, threshold = 0.02)\n",
        "\n",
        "# Train the selector\n",
        "sfmRF.fit(X, y)\n",
        "\n",
        "# Print the selected features\n",
        "numberOfSelectedFeatures = 0\n",
        "for featureListIndex in sfmRF.get_support(indices=True):\n",
        "    print(featureList[featureListIndex])\n",
        "    numberOfSelectedFeatures = numberOfSelectedFeatures + 1\n",
        "\n",
        "print('-'*100)\n",
        "print(\"Number of selected featurs: \", numberOfSelectedFeatures)\n",
        "\n",
        "# Define Label and Features for testDataset\n",
        "XX = testDataset.drop('creditStatus', axis=1)\n",
        "yy = testDataset['creditStatus']\n",
        "\n",
        "# Transform the data to create a new dataset containing only the selected features\n",
        "# Apply the transform to the training X and test X data.\n",
        "X_important_train = sfmRF.transform(X)\n",
        "XX_important = sfmRF.transform(XX)"
      ],
      "execution_count": 36,
      "outputs": [
        {
          "output_type": "stream",
          "text": [
            "salary\n",
            "duration\n",
            "creditHistory\n",
            "purpose\n",
            "creditAmount\n",
            "savingAccount/bonds\n",
            "employmentSince\n",
            "installmentRate\n",
            "personalStatus\n",
            "presentResidenceSince\n",
            "property\n",
            "age\n",
            "otherInstallmentPlan\n",
            "housing\n",
            "job\n",
            "----------------------------------------------------------------------------------------------------\n",
            "Number of selected featurs:  15\n"
          ],
          "name": "stdout"
        }
      ]
    },
    {
      "cell_type": "code",
      "metadata": {
        "id": "sFCCNhLJYZ8Q",
        "colab_type": "code",
        "colab": {}
      },
      "source": [
        "# # Grid Search - Hyperparameter Tunning\n",
        "\n",
        "# param = {\"max_depth\": np.arange(5, 25), \"n_estimators\": [100, 200, 300, 400, 500], \"min_samples_leaf\": np.arange(3, 10)}\n",
        "\n",
        "# clf = RandomForestClassifier(random_state=42)\n",
        "# clf_cv = GridSearchCV(clf, param, cv=5) \n",
        "# clf_cv.fit(X_important_train, y)\n",
        "# print(clf_cv.best_params_)\n",
        "# print(clf_cv.best_score_)\n",
        "\n",
        "# # {'max_depth': 12, 'min_samples_leaf': 4, 'n_estimators': 200}"
      ],
      "execution_count": 0,
      "outputs": []
    },
    {
      "cell_type": "code",
      "metadata": {
        "id": "N8talcafYZ8S",
        "colab_type": "code",
        "outputId": "31872ef1-f34e-4a2c-f595-9416ce24cfbd",
        "colab": {
          "base_uri": "https://localhost:8080/",
          "height": 724
        }
      },
      "source": [
        "# Create a new random forest classifier for the selected features\n",
        "RF_clf_important = RandomForestClassifier(n_estimators=200, random_state=42, max_depth=12, min_samples_leaf=4, n_jobs=-1)\n",
        "\n",
        "# Train the new classifier on the new dataset containing the selected features\n",
        "RF_clf_important.fit(X_important_train, y)\n",
        "\n",
        "# Apply The Full Featured Classifier To The Test Data\n",
        "yy_pred = RF_clf_important.predict(XX_important)\n",
        "\n",
        "# View The Accuracy Of Selected Features\n",
        "print(\"Accuracy of Test set : \",accuracy_score(yy, yy_pred))\n",
        "print('-'*100)\n",
        "      \n",
        "#  Cross Validation Score\n",
        "cv_scores = cross_val_score(RF_clf_important, XX, yy, cv=5)\n",
        "print(\"Cross validation - Accuracy of Test set : \", np.mean(cv_scores))\n",
        "print('-'*100)\n",
        "      \n",
        "# Confusion Matrix\n",
        "cm = confusion_matrix(yy, yy_pred, [1, 0])\n",
        "print(\"Confusion Matrix:\")\n",
        "print(cm)\n",
        "print(\"Classification Report:\")\n",
        "print(classification_report(yy, yy_pred))\n",
        "print('-'*100)\n",
        "\n",
        "# Normalisation Confusion Matrix - Type I and II error\n",
        "cm = normalize(cm,norm='l1',axis=0)\n",
        "cm_df = pd.DataFrame(cm, columns=['Good (1)', 'Bad (0)'], index=['Good (1)', 'Bad (0)'])\n",
        "print(\"Normalized Confusion Matrix:\")\n",
        "print(cm_df)\n",
        "print('-'*100)\n",
        "      \n",
        "# The ROC Curve\n",
        "yy_pred_prob = RF_clf_important.predict_proba(XX_important)[:,1]\n",
        "fpr, tpr, thresholds = roc_curve(yy, yy_pred_prob)\n",
        "plt.plot([0, 1], [0, 1], 'k--')\n",
        "plt.plot(fpr,tpr)\n",
        "plt.xlabel('FPR')\n",
        "plt.ylabel('TPR')\n",
        "plt.show()\n",
        "      \n",
        "# AUC Area under the roc curve \n",
        "print(\"AUC of Test set : \",roc_auc_score(yy, yy_pred_prob))\n",
        "      \n",
        "# Matthews Correlation Coefficient\n",
        "print(\"MCC of Test set : \",matthews_corrcoef(yy, yy_pred))"
      ],
      "execution_count": 38,
      "outputs": [
        {
          "output_type": "stream",
          "text": [
            "Accuracy of Test set :  0.7933333333333333\n",
            "----------------------------------------------------------------------------------------------------\n",
            "Cross validation - Accuracy of Test set :  0.7866666666666667\n",
            "----------------------------------------------------------------------------------------------------\n",
            "Confusion Matrix:\n",
            "[[196  12]\n",
            " [ 50  42]]\n",
            "Classification Report:\n",
            "              precision    recall  f1-score   support\n",
            "\n",
            "         0.0       0.78      0.46      0.58        92\n",
            "         1.0       0.80      0.94      0.86       208\n",
            "\n",
            "    accuracy                           0.79       300\n",
            "   macro avg       0.79      0.70      0.72       300\n",
            "weighted avg       0.79      0.79      0.78       300\n",
            "\n",
            "----------------------------------------------------------------------------------------------------\n",
            "Normalized Confusion Matrix:\n",
            "          Good (1)   Bad (0)\n",
            "Good (1)  0.796748  0.222222\n",
            "Bad (0)   0.203252  0.777778\n",
            "----------------------------------------------------------------------------------------------------\n"
          ],
          "name": "stdout"
        },
        {
          "output_type": "display_data",
          "data": {
            "image/png": "[encoded data removed]",
            "text/plain": [
              "<Figure size 432x288 with 1 Axes>"
            ]
          },
          "metadata": {
            "tags": []
          }
        },
        {
          "output_type": "stream",
          "text": [
            "AUC of Test set :  0.8284908026755853\n",
            "MCC of Test set :  0.4786833779520614\n"
          ],
          "name": "stdout"
        }
      ]
    },
    {
      "cell_type": "code",
      "metadata": {
        "id": "z2YuhNDjYZ8U",
        "colab_type": "code",
        "colab": {}
      },
      "source": [
        "RFTest = RF_clf_important.predict(XX_important)\n",
        "RF = RF_clf_important.predict(X_important_train)"
      ],
      "execution_count": 0,
      "outputs": []
    },
    {
      "cell_type": "markdown",
      "metadata": {
        "id": "dbeWFMV2YZ8X",
        "colab_type": "text"
      },
      "source": [
        "## 7 - SVM"
      ]
    },
    {
      "cell_type": "code",
      "metadata": {
        "id": "vAGMBs_6YZ8X",
        "colab_type": "code",
        "outputId": "cc520a2d-1aef-46f8-aa6b-352cc2194a5a",
        "colab": {
          "base_uri": "https://localhost:8080/",
          "height": 390
        }
      },
      "source": [
        "# Calcuate Feature Importance\n",
        "# Create a random forest classifier feature selection\n",
        "clf = RandomForestClassifier(n_estimators=100, random_state=42, max_depth=15, min_samples_leaf=3, n_jobs=-1)\n",
        "\n",
        "# Train the classifier\n",
        "clf.fit(X, y)\n",
        "\n",
        "# Create a selector object to identify features that have gini importance greater than \n",
        "# 0.035 (LR), 0.03 (ANN), 0.035 (DT), 0.01 (GBDT), 0.01 (kNN), 0.02 (RF) , 0.01 (SVM)\n",
        "sfmSVM = SelectFromModel(clf, threshold = 0.01)\n",
        "\n",
        "# Train the selector\n",
        "sfmSVM.fit(X, y)\n",
        "\n",
        "# Print the selected features\n",
        "numberOfSelectedFeatures = 0\n",
        "for featureListIndex in sfmSVM.get_support(indices=True):\n",
        "    print(featureList[featureListIndex])\n",
        "    numberOfSelectedFeatures = numberOfSelectedFeatures + 1\n",
        "\n",
        "print('-'*100)\n",
        "print(\"Number of selected featurs: \", numberOfSelectedFeatures)\n",
        "\n",
        "# Define Label and Features for testDataset\n",
        "XX = testDataset.drop('creditStatus', axis=1)\n",
        "yy = testDataset['creditStatus']\n",
        "\n",
        "# Transform the data to create a new dataset containing only the selected features\n",
        "# Apply the transform to the training X and test X data.\n",
        "X_important_train = sfmSVM.transform(X)\n",
        "XX_important = sfmSVM.transform(XX)"
      ],
      "execution_count": 40,
      "outputs": [
        {
          "output_type": "stream",
          "text": [
            "salary\n",
            "duration\n",
            "creditHistory\n",
            "purpose\n",
            "creditAmount\n",
            "savingAccount/bonds\n",
            "employmentSince\n",
            "installmentRate\n",
            "personalStatus\n",
            "otherDebtors\n",
            "presentResidenceSince\n",
            "property\n",
            "age\n",
            "otherInstallmentPlan\n",
            "housing\n",
            "numberOfExistingCredits\n",
            "job\n",
            "maintenance \n",
            "telephone\n",
            "----------------------------------------------------------------------------------------------------\n",
            "Number of selected featurs:  19\n"
          ],
          "name": "stdout"
        }
      ]
    },
    {
      "cell_type": "code",
      "metadata": {
        "id": "OdYrbyWkYZ8Z",
        "colab_type": "code",
        "colab": {}
      },
      "source": [
        "# # Grid Search - Hyperparameter Tunning\n",
        "\n",
        "# param = {'C' : [0.001, 0.01, 0.1, 1, 10], 'gamma' : [0.001, 0.01, 0.1, 1, 10]}\n",
        "\n",
        "# clf = svm.SVC(random_state=42)\n",
        "# clf_cv = GridSearchCV(clf, param, cv=5) \n",
        "# clf_cv.fit(X_important_train, y)\n",
        "# print(clf_cv.best_params_)\n",
        "# print(clf_cv.best_score_)\n",
        "\n",
        "# # {'C': 1, 'gamma': 0.1}"
      ],
      "execution_count": 0,
      "outputs": []
    },
    {
      "cell_type": "code",
      "metadata": {
        "id": "C4CkCPPYYZ8b",
        "colab_type": "code",
        "outputId": "13efb38f-c400-44c6-bbe7-15edd7076041",
        "colab": {
          "base_uri": "https://localhost:8080/",
          "height": 724
        }
      },
      "source": [
        "# Create a new SVM classifier for the selected features\n",
        "SVM_clf_important = svm.SVC(probability=True, C = 1, gamma= 0.1, kernel='rbf', random_state=42)\n",
        "\n",
        "# Train the new classifier on the new dataset containing the selected features\n",
        "SVM_clf_important.fit(X_important_train, y)\n",
        "\n",
        "# Apply The Full Featured Classifier To The Test Data\n",
        "yy_pred = SVM_clf_important.predict(XX_important)\n",
        "\n",
        "# View The Accuracy Of Selected Features\n",
        "print(\"Accuracy of Test set : \",accuracy_score(yy, yy_pred))\n",
        "print('-'*100)\n",
        "      \n",
        "#  Cross Validation Score\n",
        "cv_scores = cross_val_score(SVM_clf_important, XX, yy, cv=5)\n",
        "print(\"Cross validation - Accuracy of Test set : \", np.mean(cv_scores))\n",
        "print('-'*100)\n",
        "      \n",
        "# Confusion Matrix\n",
        "cm = confusion_matrix(yy, yy_pred, [1, 0])\n",
        "print(\"Confusion Matrix:\")\n",
        "print(cm)\n",
        "print(\"Classification Report:\")\n",
        "print(classification_report(yy, yy_pred))\n",
        "print('-'*100)\n",
        "\n",
        "# Normalisation Confusion Matrix - Type I and II error\n",
        "cm = normalize(cm,norm='l1',axis=0)\n",
        "cm_df = pd.DataFrame(cm, columns=['Good (1)', 'Bad (0)'], index=['Good (1)', 'Bad (0)'])\n",
        "print(\"Normalized Confusion Matrix:\")\n",
        "print(cm_df)\n",
        "print('-'*100)\n",
        "      \n",
        "# The ROC Curve\n",
        "yy_pred_prob = SVM_clf_important.predict_proba(XX_important)[:,1]\n",
        "fpr, tpr, thresholds = roc_curve(yy, yy_pred_prob)\n",
        "plt.plot([0, 1], [0, 1], 'k--')\n",
        "plt.plot(fpr,tpr)\n",
        "plt.xlabel('FPR')\n",
        "plt.ylabel('TPR')\n",
        "plt.show()\n",
        "      \n",
        "# AUC Area under the roc curve \n",
        "print(\"AUC of Test set : \",roc_auc_score(yy, yy_pred_prob))\n",
        "      \n",
        "# Matthews Correlation Coefficient\n",
        "print(\"MCC of Test set : \",matthews_corrcoef(yy, yy_pred))"
      ],
      "execution_count": 42,
      "outputs": [
        {
          "output_type": "stream",
          "text": [
            "Accuracy of Test set :  0.7666666666666667\n",
            "----------------------------------------------------------------------------------------------------\n",
            "Cross validation - Accuracy of Test set :  0.7933333333333333\n",
            "----------------------------------------------------------------------------------------------------\n",
            "Confusion Matrix:\n",
            "[[192  16]\n",
            " [ 54  38]]\n",
            "Classification Report:\n",
            "              precision    recall  f1-score   support\n",
            "\n",
            "         0.0       0.70      0.41      0.52        92\n",
            "         1.0       0.78      0.92      0.85       208\n",
            "\n",
            "    accuracy                           0.77       300\n",
            "   macro avg       0.74      0.67      0.68       300\n",
            "weighted avg       0.76      0.77      0.75       300\n",
            "\n",
            "----------------------------------------------------------------------------------------------------\n",
            "Normalized Confusion Matrix:\n",
            "          Good (1)   Bad (0)\n",
            "Good (1)  0.780488  0.296296\n",
            "Bad (0)   0.219512  0.703704\n",
            "----------------------------------------------------------------------------------------------------\n"
          ],
          "name": "stdout"
        },
        {
          "output_type": "display_data",
          "data": {
            "image/png": "[encoded data removed]",
            "text/plain": [
              "<Figure size 432x288 with 1 Axes>"
            ]
          },
          "metadata": {
            "tags": []
          }
        },
        {
          "output_type": "stream",
          "text": [
            "AUC of Test set :  0.778689381270903\n",
            "MCC of Test set :  0.4034186958841272\n"
          ],
          "name": "stdout"
        }
      ]
    },
    {
      "cell_type": "code",
      "metadata": {
        "id": "9rd4uGs9YZ8f",
        "colab_type": "code",
        "colab": {}
      },
      "source": [
        "SVMTest = SVM_clf_important.predict(XX_important)\n",
        "SVM = SVM_clf_important.predict(X_important_train)"
      ],
      "execution_count": 0,
      "outputs": []
    },
    {
      "cell_type": "markdown",
      "metadata": {
        "id": "spqCWLZpYZ8i",
        "colab_type": "text"
      },
      "source": [
        "## Consensus Model Kohonen’s self-organizing maps (SOM)"
      ]
    },
    {
      "cell_type": "code",
      "metadata": {
        "id": "fmc_bFmrYZ8j",
        "colab_type": "code",
        "colab": {}
      },
      "source": [
        "# Individual models outcomes (Create training dataset based on result of models)\n",
        "\n",
        "somDataset = pd.DataFrame ({\"LR\": LR, \"ANN\": ANN, \"DT\": DT, \"GBDT\": GBDT, \"KNN\": KNN, \"RF\": RF, \"SVM\":SVM})"
      ],
      "execution_count": 0,
      "outputs": []
    },
    {
      "cell_type": "code",
      "metadata": {
        "id": "pBL6fEOSYZ8m",
        "colab_type": "code",
        "colab": {}
      },
      "source": [
        "# Individual models outcomes (Create Test dataset based on result of models)\n",
        "\n",
        "somTestDataset = pd.DataFrame ({\"LR\": LRTest, \"ANN\": ANNTest, \"DT\": DTTest, \"GBDT\": GBDTTest,\n",
        "                                \"KNN\": KNNTest, \"RF\": RFTest, \"SVM\":SVMTest})"
      ],
      "execution_count": 0,
      "outputs": []
    },
    {
      "cell_type": "code",
      "metadata": {
        "id": "KBHr8vuBYZ8o",
        "colab_type": "code",
        "colab": {}
      },
      "source": [
        "# # Grid Search - Hyperparameter Tunning\n",
        "\n",
        "# param = {\"n_iter_supervised\" : [1000, 50000], \n",
        "#          \"n_iter_unsupervised\" : [1000, 50000],\n",
        "#          \"do_class_weighting\" : [False, True]}\n",
        "\n",
        "# clf = susi.SOMClassifier(random_state=42, n_jobs=-1)\n",
        "# clf_cv = GridSearchCV(clf, param, cv=5) \n",
        "# clf_cv.fit(somDataset, y)\n",
        "# print(clf_cv.best_params_)\n",
        "# print(clf_cv.best_score_)\n",
        "\n",
        "# # {'do_class_weighting': False, 'n_iter_supervised': 50000, 'n_iter_unsupervised': 50000}"
      ],
      "execution_count": 0,
      "outputs": []
    },
    {
      "cell_type": "markdown",
      "metadata": {
        "id": "31lsynEKX74-",
        "colab_type": "text"
      },
      "source": [
        "@misc{riese2019susicode, author = {Riese, Felix~M.}, title = {{SuSi: SUpervised Self-organIzing maps in Python}}, year = {2019}, DOI = {10.5281/zenodo.2609130}, publisher = {Zenodo}, howpublished = {\\href{https://doi.org/10.5281/zenodo.2609130}{doi.org/10.5281/zenodo.2609130}} }"
      ]
    },
    {
      "cell_type": "code",
      "metadata": {
        "id": "6R_XwDyCYZ8q",
        "colab_type": "code",
        "outputId": "ce1d2a6a-ff79-45a3-c9dd-6c9123c0492a",
        "colab": {
          "base_uri": "https://localhost:8080/",
          "height": 212
        }
      },
      "source": [
        "# Create a new SOM classifier for the selected features\n",
        "som = susi.SOMClassifier(n_jobs=-1, random_state=42, do_class_weighting=False,\n",
        "                         n_iter_supervised=50000, n_iter_unsupervised=50000)\n",
        "# Train the new classifier on the new dataset containing the selected features\n",
        "som.fit(somDataset, y)"
      ],
      "execution_count": 47,
      "outputs": [
        {
          "output_type": "execute_result",
          "data": {
            "text/plain": [
              "SOMClassifier(distance_metric='euclidean', do_class_weighting=False,\n",
              "              init_mode_supervised='majority', init_mode_unsupervised='random',\n",
              "              learn_mode_supervised='min', learn_mode_unsupervised='min',\n",
              "              learning_rate_end=0.05, learning_rate_start=0.5,\n",
              "              missing_label_placeholder=None, n_columns=10,\n",
              "              n_iter_supervised=50000, n_iter_unsupervised=50000, n_jobs=-1,\n",
              "              n_rows=10, nbh_dist_weight_mode='pseudo-gaussian',\n",
              "              neighborhood_mode_supervised='linear',\n",
              "              neighborhood_mode_unsupervised='linear', random_state=42,\n",
              "              train_mode_supervised='online', train_mode_unsupervised='online',\n",
              "              verbose=0)"
            ]
          },
          "metadata": {
            "tags": []
          },
          "execution_count": 47
        }
      ]
    },
    {
      "cell_type": "code",
      "metadata": {
        "id": "uLQTgHb2YZ8s",
        "colab_type": "code",
        "outputId": "acc2576f-bc24-45ef-eade-87df6821771c",
        "colab": {
          "base_uri": "https://localhost:8080/",
          "height": 52
        }
      },
      "source": [
        "# Train set \n",
        "y_train_pred = som.predict(somDataset)\n",
        "\n",
        "print(\"Accuracy of Train set : \", accuracy_score(y, y_train_pred))\n",
        "print('-'*100)"
      ],
      "execution_count": 48,
      "outputs": [
        {
          "output_type": "stream",
          "text": [
            "Accuracy of Train set :  0.9814285714285714\n",
            "----------------------------------------------------------------------------------------------------\n"
          ],
          "name": "stdout"
        }
      ]
    },
    {
      "cell_type": "code",
      "metadata": {
        "id": "FjaP2iaHYZ8u",
        "colab_type": "code",
        "outputId": "56fe3729-7355-4df6-c0bc-a3dfe4b3e10e",
        "colab": {
          "base_uri": "https://localhost:8080/",
          "height": 408
        }
      },
      "source": [
        "# Apply The Full Featured Classifier To The Test Data\n",
        "yy_pred = som.predict(somTestDataset)\n",
        "\n",
        "# View The Accuracy Of Selected Features\n",
        "print(\"Accuracy of Test set : \",accuracy_score(yy, yy_pred))\n",
        "print('-'*100)\n",
        "          \n",
        "# Confusion Matrix\n",
        "cm = confusion_matrix(yy, yy_pred, [1, 0])\n",
        "print(\"Confusion Matrix:\")\n",
        "print(cm)\n",
        "print(\"Classification Report:\")\n",
        "print(classification_report(yy, yy_pred))\n",
        "print('-'*100)\n",
        "\n",
        "# Normalisation Confusion Matrix - Type I and II error\n",
        "cm = normalize(cm,norm='l1',axis=0)\n",
        "cm_df = pd.DataFrame(cm, columns=['Good (1)', 'Bad (0)'], index=['Good (1)', 'Bad (0)'])\n",
        "print(\"Normalized Confusion Matrix:\")\n",
        "print(cm_df)\n",
        "print('-'*100)\n",
        "      \n",
        "# Matthews Correlation Coefficient\n",
        "print(\"MCC of Test set : \",matthews_corrcoef(yy, yy_pred))"
      ],
      "execution_count": 49,
      "outputs": [
        {
          "output_type": "stream",
          "text": [
            "Accuracy of Test set :  0.8\n",
            "----------------------------------------------------------------------------------------------------\n",
            "Confusion Matrix:\n",
            "[[176  32]\n",
            " [ 28  64]]\n",
            "Classification Report:\n",
            "              precision    recall  f1-score   support\n",
            "\n",
            "         0.0       0.67      0.70      0.68        92\n",
            "         1.0       0.86      0.85      0.85       208\n",
            "\n",
            "    accuracy                           0.80       300\n",
            "   macro avg       0.76      0.77      0.77       300\n",
            "weighted avg       0.80      0.80      0.80       300\n",
            "\n",
            "----------------------------------------------------------------------------------------------------\n",
            "Normalized Confusion Matrix:\n",
            "          Good (1)   Bad (0)\n",
            "Good (1)  0.862745  0.333333\n",
            "Bad (0)   0.137255  0.666667\n",
            "----------------------------------------------------------------------------------------------------\n",
            "MCC of Test set :  0.5355730400345808\n"
          ],
          "name": "stdout"
        }
      ]
    },
    {
      "cell_type": "code",
      "metadata": {
        "id": "vI_toNqHYZ8v",
        "colab_type": "code",
        "outputId": "141bd211-7234-4ec6-d805-8030bd2d4158",
        "colab": {
          "base_uri": "https://localhost:8080/",
          "height": 265
        }
      },
      "source": [
        "# Plot u-Matrix \n",
        "\n",
        "u_matrix = som.get_u_matrix()\n",
        "plt.imshow(np.squeeze(u_matrix), cmap=\"Greys\")\n",
        "plt.colorbar()\n",
        "plt.show()"
      ],
      "execution_count": 50,
      "outputs": [
        {
          "output_type": "display_data",
          "data": {
            "image/png": "[encoded data removed]",
            "text/plain": [
              "<Figure size 432x288 with 2 Axes>"
            ]
          },
          "metadata": {
            "tags": []
          }
        }
      ]
    },
    {
      "cell_type": "code",
      "metadata": {
        "id": "seoWx7qgYZ8x",
        "colab_type": "code",
        "outputId": "79833ee8-07d1-4781-b7b5-5f81df533088",
        "colab": {
          "base_uri": "https://localhost:8080/",
          "height": 344
        }
      },
      "source": [
        "# Plot estimation map\n",
        "\n",
        "def plot_estimation_map(estimation_map, fontsize=15):\n",
        "    plt.figure(figsize=(7,5))\n",
        "    plt.imshow(estimation_map, cmap=\"viridis_r\")\n",
        "    plt.xlabel(\"SOM columns\", fontsize=fontsize)\n",
        "    plt.ylabel(\"SOM rows\", fontsize=fontsize)\n",
        "    plt.xticks(fontsize=fontsize)\n",
        "    plt.yticks(fontsize=fontsize)\n",
        "    plt.grid(b=False)\n",
        "\n",
        "estimation_map = som.get_estimation_map().squeeze()\n",
        "plot_estimation_map(estimation_map)"
      ],
      "execution_count": 51,
      "outputs": [
        {
          "output_type": "display_data",
          "data": {
            "image/png": "[encoded data removed]",
            "text/plain": [
              "<Figure size 504x360 with 1 Axes>"
            ]
          },
          "metadata": {
            "tags": []
          }
        }
      ]
    }
  ]
}